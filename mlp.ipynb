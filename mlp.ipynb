{
  "nbformat": 4,
  "nbformat_minor": 0,
  "metadata": {
    "colab": {
      "name": "mlp.ipynb",
      "provenance": [],
      "private_outputs": true,
      "collapsed_sections": [],
      "authorship_tag": "ABX9TyN3QASsXzoymdag8uNs7hsD",
      "include_colab_link": true
    },
    "kernelspec": {
      "name": "python3",
      "display_name": "Python 3"
    }
  },
  "cells": [
    {
      "cell_type": "markdown",
      "metadata": {
        "id": "view-in-github",
        "colab_type": "text"
      },
      "source": [
        "<a href=\"https://colab.research.google.com/github/sandrakaku/ml0930/blob/master/mlp.ipynb\" target=\"_parent\"><img src=\"https://colab.research.google.com/assets/colab-badge.svg\" alt=\"Open In Colab\"/></a>"
      ]
    },
    {
      "cell_type": "code",
      "metadata": {
        "id": "s5XdgUM_F3l0"
      },
      "source": [
        "from tensorflow.keras.datasets.mnist import load_data\n",
        "# ((訓練圖片, 訓練答案), (側視圖片, 測試答案))\n",
        "(x_train, y_train), (x_test, y_test) = load_data()"
      ],
      "execution_count": null,
      "outputs": []
    },
    {
      "cell_type": "code",
      "metadata": {
        "id": "j5ucVGbpGpap"
      },
      "source": [
        "print(x_train.shape)\n",
        "print(x_test.shape)"
      ],
      "execution_count": null,
      "outputs": []
    },
    {
      "cell_type": "code",
      "metadata": {
        "id": "H9lNZgT7Gy5u"
      },
      "source": [
        "import random \n",
        "import matplotlib.pyplot as plt\n",
        "import pandas as pd\n",
        "idx = random.randint(0, 59999)\n",
        "plt.imshow(x_train[idx], cmap=\"gray\") #加_r r=reverse 顏色反轉\n",
        "pd.DataFrame(x_train[idx]) "
      ],
      "execution_count": null,
      "outputs": []
    },
    {
      "cell_type": "code",
      "metadata": {
        "id": "Hn0oWo5gJ84A"
      },
      "source": [
        "from tensorflow.keras.models import Sequential #model大廈 Sequential樓層 的概念\n",
        "from tensorflow.keras.layers import Dense #全連接(每一層都跟下一層有關係)\n",
        "layers = [\n",
        "    # 784 * 128 + 128(bias)\n",
        "    Dense(256, activation=\"relu\", input_dim=784), #28*28=784 #最後可以調調看\n",
        "    # 128 * 10 + 10(bias)\n",
        "    Dense(10, activation=\"softmax\")\n",
        "]\n",
        "model = Sequential(layers)\n",
        "model.summary()"
      ],
      "execution_count": null,
      "outputs": []
    },
    {
      "cell_type": "code",
      "metadata": {
        "id": "QRAYB6flWPz2"
      },
      "source": [
        "# x:scaling 0-255 -> 0-1 框架(tf)隨機係數的關係\n",
        "# y:one-hot encoding 十個答案\n",
        "from tensorflow.keras.utils import to_categorical\n",
        "\n",
        "# x_train.reshape(-1, 784) #-1可以代表不知道請電腦自己代\n",
        "x_train_norm = x_train.reshape(-1, 784) / 255 #框架的關係\n",
        "x_test_norm = x_test.reshape(-1, 784) / 255\n",
        "y_train_cat = to_categorical(y_train, 10)\n",
        "y_test_cat = to_categorical(y_test, 10)\n",
        "print(y_train[0], y_train_cat[0])\n",
        "# x_train_norm[0]"
      ],
      "execution_count": null,
      "outputs": []
    },
    {
      "cell_type": "code",
      "metadata": {
        "id": "WGBX66Xxecei"
      },
      "source": [
        "# 一個神經元: binary crossentropy p log 1/q + (1-p) log 1/(1-q)\n",
        "# 多個神經元: categorical crossentropy p1 log 1/q1 +......\n",
        "from tensorflow.keras.losses import CategoricalCrossentropy\n",
        "from tensorflow.keras.optimizers import Adam\n",
        "model.compile(loss=CategoricalCrossentropy(), #編譯的步驟\n",
        "              optimizer=Adam(), #無腦選\n",
        "              metrics=[\"accuracy\"]) #多給一些額外的衡量標準 回歸要選R2"
      ],
      "execution_count": null,
      "outputs": []
    },
    {
      "cell_type": "code",
      "metadata": {
        "id": "shr1Am_-yndZ"
      },
      "source": [
        "# batch: 100~200(小圖片) 10~20(大圖片)\n",
        "# epoch: 整份資料要看幾遍\n",
        "# 60000筆, 2epoch, 200batch -> 60000 * 2 / 200次調整(梯度調整)\n",
        "from tensorflow.keras.callbacks import EarlyStopping, ModelCheckpoint\n",
        "callbacks = [\n",
        "    ModelCheckpoint(\"model.h5\", save_best_only=True),\n",
        "    EarlyStopping(patience=5, restore_best_weights=True)\n",
        "]\n",
        "model.fit(x_train_norm,\n",
        "     y_train_cat,\n",
        "     batch_size=100,\n",
        "     epochs=50, # epochs訓練的次數\n",
        "     validation_split=0.1,\n",
        "     callbacks=callbacks,\n",
        "     verbose=2) #不顯示進度條"
      ],
      "execution_count": null,
      "outputs": []
    },
    {
      "cell_type": "code",
      "metadata": {
        "id": "tM_3Reu-5IRr"
      },
      "source": [
        "#最後一次測試\n",
        "model.evaluate(x_test_norm, y_test_cat)"
      ],
      "execution_count": null,
      "outputs": []
    },
    {
      "cell_type": "code",
      "metadata": {
        "id": "HraC8iyy7Jv5"
      },
      "source": [
        "# 手動儲存: model.save(\"model.h5\")\n",
        "# if not os.path.exists(\"model.h5\")\n",
        "#     newmodel/compile\n",
        "# else:\n",
        "#     load model(\"model.h5\")\n",
        "from tensorflow.keras.models import load_model\n",
        "load = load_model(\"model.h5\")\n",
        "# 不用再compile, 可以直接繼續fit(訓練) [以後存成檔案再拿出來做訓練就好]\n",
        "load.evaluate(x_test_norm, y_test_cat)"
      ],
      "execution_count": null,
      "outputs": []
    },
    {
      "cell_type": "code",
      "metadata": {
        "id": "hgRqjSqc8Uop"
      },
      "source": [
        "from sklearn.metrics import confusion_matrix\n",
        "pre = model.predict_classes(x_test_norm)\n",
        "mat = confusion_matrix(y_test, pre)\n",
        "pd.DataFrame(mat,\n",
        "             index=[\"{}(原本)\".format(n) for n in range(10)],\n",
        "             columns=[\"{}(預測)\".format(n) for n in range(10)])\n",
        "#model.predict(x_test_norm) # 取10個\n",
        "#model.predict_classes # 預測答案 取最大值"
      ],
      "execution_count": null,
      "outputs": []
    },
    {
      "cell_type": "code",
      "metadata": {
        "id": "0a0d9g_b9Mtg"
      },
      "source": [
        "\"{}(正確){}\".format(0, 10) #{} -> ˊ執行後會代數字進去\n",
        "pat = \"{}(正確){}\"\n",
        "pat.format(0, 10)\n",
        "pat.format(2, 15)"
      ],
      "execution_count": null,
      "outputs": []
    },
    {
      "cell_type": "code",
      "metadata": {
        "id": "tuMig1Nr9byt"
      },
      "source": [
        "abc = 10\n",
        "f\"{abc}xxx\" #f=format stream"
      ],
      "execution_count": null,
      "outputs": []
    }
  ]
}