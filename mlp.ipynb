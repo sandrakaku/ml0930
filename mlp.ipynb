{
  "nbformat": 4,
  "nbformat_minor": 0,
  "metadata": {
    "colab": {
      "name": "mlp.ipynb",
      "provenance": [],
      "private_outputs": true,
      "collapsed_sections": [],
      "authorship_tag": "ABX9TyPrPIsoYXsGbHYPjmg98C3G",
      "include_colab_link": true
    },
    "kernelspec": {
      "name": "python3",
      "display_name": "Python 3"
    }
  },
  "cells": [
    {
      "cell_type": "markdown",
      "metadata": {
        "id": "view-in-github",
        "colab_type": "text"
      },
      "source": [
        "<a href=\"https://colab.research.google.com/github/sandrakaku/ml0930/blob/master/mlp.ipynb\" target=\"_parent\"><img src=\"https://colab.research.google.com/assets/colab-badge.svg\" alt=\"Open In Colab\"/></a>"
      ]
    },
    {
      "cell_type": "code",
      "metadata": {
        "id": "s5XdgUM_F3l0"
      },
      "source": [
        "from tensorflow.keras.datasets.mnist import load_data\n",
        "# ((訓練圖片, 訓練答案), (側視圖片, 測試答案))\n",
        "(x_train, y_train), (x_test, y_test) = load_data()"
      ],
      "execution_count": null,
      "outputs": []
    },
    {
      "cell_type": "code",
      "metadata": {
        "id": "j5ucVGbpGpap"
      },
      "source": [
        "print(x_train.shape)\n",
        "print(x_test.shape)"
      ],
      "execution_count": null,
      "outputs": []
    },
    {
      "cell_type": "code",
      "metadata": {
        "id": "H9lNZgT7Gy5u"
      },
      "source": [
        "import random \n",
        "import matplotlib.pyplot as plt\n",
        "import pandas as pd\n",
        "idx = random.randint(0, 59999)\n",
        "plt.imshow(x_train[idx], cmap=\"gray\") #加_r r=reverse 顏色反轉\n",
        "pd.DataFrame(x_train[idx]) "
      ],
      "execution_count": null,
      "outputs": []
    },
    {
      "cell_type": "code",
      "metadata": {
        "id": "Hn0oWo5gJ84A"
      },
      "source": [
        "from tensorflow.keras.models import Sequential #model大廈 Sequential樓層 的概念\n",
        "from tensorflow.keras.layers import Dense #全連接(每一層都跟下一層有關係)\n",
        "layers = [\n",
        "    # 784 * 128 + 128(bias)\n",
        "    Dense(128, activation=\"relu\", input_dim=784), #28*28=784\n",
        "    # 128 * 10 + 10(bias)\n",
        "    Dense(10, activation=\"softmax\")\n",
        "]\n",
        "model = Sequential(layers)\n",
        "model.summary()"
      ],
      "execution_count": null,
      "outputs": []
    },
    {
      "cell_type": "code",
      "metadata": {
        "id": "QRAYB6flWPz2"
      },
      "source": [
        "# x:scaling 0-255 -> 0-1 框架(tf)隨機係數的關係\n",
        "# y:one-hot encoding 十個答案\n",
        "from tensorflow.keras.utils import to_categorical\n",
        "\n",
        "x_train.reshape(-1, 784) #-1可以代表不知道請電腦自己代\n",
        "x_train_norm = x_train.reshape(-1, 784) / 255 #框架的關係\n",
        "x_test_norm = x_test.reshape(-1, 784) / 255"
      ],
      "execution_count": null,
      "outputs": []
    }
  ]
}