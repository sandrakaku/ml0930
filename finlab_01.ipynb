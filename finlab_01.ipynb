{
  "nbformat": 4,
  "nbformat_minor": 0,
  "metadata": {
    "colab": {
      "name": "finlab_01.ipynb",
      "provenance": [],
      "private_outputs": true,
      "authorship_tag": "ABX9TyNkaKwjOVLP7wnvVvmKKGru",
      "include_colab_link": true
    },
    "kernelspec": {
      "name": "python3",
      "display_name": "Python 3"
    }
  },
  "cells": [
    {
      "cell_type": "markdown",
      "metadata": {
        "id": "view-in-github",
        "colab_type": "text"
      },
      "source": [
        "<a href=\"https://colab.research.google.com/github/sandrakaku/ml0930/blob/master/finlab_01.ipynb\" target=\"_parent\"><img src=\"https://colab.research.google.com/assets/colab-badge.svg\" alt=\"Open In Colab\"/></a>"
      ]
    },
    {
      "cell_type": "code",
      "metadata": {
        "id": "cA8v_yVMZNzT"
      },
      "source": [
        "import requests\n",
        "import datetime\n",
        "\n",
        "date = datetime.date(2020,11,3)\n",
        "datestr = date.strftime(\"%Y%m%d\") # strftime = string format time\n",
        "print(datestr)\n",
        "\n",
        "res = requests.get(\"https://www.twse.com.tw/exchangeReport/MI_5MINS_INDEX?response=csv&date=\"+datestr+\"&_=1604462023687\")\n",
        "res.text[:1000]"
      ],
      "execution_count": null,
      "outputs": []
    },
    {
      "cell_type": "code",
      "metadata": {
        "id": "WcyNGVctavDb"
      },
      "source": [
        "import pandas as pd\n",
        "import io # 讓csv檔變成虛擬檔案\n",
        "\n",
        "df = pd.read_csv(io.StringIO(res.text.replace(\"=\", \"\")), header=1, index_col='時間')  # 字串變成檔案\n",
        "df.head()"
      ],
      "execution_count": null,
      "outputs": []
    },
    {
      "cell_type": "code",
      "metadata": {
        "id": "PFrz-D7RggF5"
      },
      "source": [
        "df = df.dropna(how='all', axis=0).dropna(how='all', axis=1) # 去除不需要的行(axis=0)與列(axis=1) \n",
        "df.index = pd.to_datetime(datestr + ' ' + df.index)"
      ],
      "execution_count": null,
      "outputs": []
    },
    {
      "cell_type": "code",
      "metadata": {
        "id": "_2lRkvqZjTOB"
      },
      "source": [
        "# df['2020-1-1 9:00' : '2020-11-3 13:00' ]\n",
        "df.applymap(lambda s : float(str(s).replace(\",\",\"\")))\n",
        "\n",
        "df.head()"
      ],
      "execution_count": null,
      "outputs": []
    }
  ]
}