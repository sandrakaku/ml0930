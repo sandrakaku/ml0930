{
  "nbformat": 4,
  "nbformat_minor": 0,
  "metadata": {
    "colab": {
      "name": "cnn.ipynb",
      "provenance": [],
      "private_outputs": true,
      "authorship_tag": "ABX9TyO8PgkJjUTlnMJtPT/cGSb5",
      "include_colab_link": true
    },
    "kernelspec": {
      "name": "python3",
      "display_name": "Python 3"
    },
    "accelerator": "GPU"
  },
  "cells": [
    {
      "cell_type": "markdown",
      "metadata": {
        "id": "view-in-github",
        "colab_type": "text"
      },
      "source": [
        "<a href=\"https://colab.research.google.com/github/sandrakaku/ml0930/blob/master/cnn.ipynb\" target=\"_parent\"><img src=\"https://colab.research.google.com/assets/colab-badge.svg\" alt=\"Open In Colab\"/></a>"
      ]
    },
    {
      "cell_type": "code",
      "metadata": {
        "id": "7aRIOgym74Nj"
      },
      "source": [
        "from tensorflow.keras.datasets import cifar10\n",
        "(x_train, y_train), (x_test, y_test) = cifar10.load_data()"
      ],
      "execution_count": null,
      "outputs": []
    },
    {
      "cell_type": "code",
      "metadata": {
        "id": "lwB8UeUX9hFm"
      },
      "source": [
        "trans = [\n",
        "     \"airplane\"\t\t\t\t\t\t\t\t\n",
        ",\"automobile\"\t\t\t\t\t\t\t\t\t\t\n",
        ",\"bird\"\t\t\t\t\t\t\t\t\t\t\n",
        ",\"cat\"\t\t\t\t\t\t\t\t\t\t\n",
        ",\"deer\"\t\t\t\t\t\t\t\t\t\t\n",
        ",\"dog\"\t\t\t\t\t\t\t\t\t\t\n",
        ",\"frog\"\t\t\t\t\t\t\t\t\t\t\n",
        ",\"horse\"\t\t\t\t\t\t\t\t\t\t\n",
        ",\"ship\"\t\t\t\t\t\t\t\t\t\t\n",
        ",\"truck\"    \n",
        "]"
      ],
      "execution_count": null,
      "outputs": []
    },
    {
      "cell_type": "code",
      "metadata": {
        "id": "BDJG2IbFA8ga"
      },
      "source": [
        "trans[8]"
      ],
      "execution_count": null,
      "outputs": []
    },
    {
      "cell_type": "code",
      "metadata": {
        "id": "KyiVb_EO97VK"
      },
      "source": [
        "print(x_train.shape)\n",
        "print(y_train.shape)\n",
        "print(x_test.shape)\n",
        "print(y_test.shape)"
      ],
      "execution_count": null,
      "outputs": []
    },
    {
      "cell_type": "code",
      "metadata": {
        "id": "Y3o_6YP0-L2Z"
      },
      "source": [
        "import random\n",
        "import matplotlib.pyplot as plt\n",
        "\n",
        "idx = random.randint(0, x_train.shape[0]-1)\n",
        "print(\"ans:\", trans[y_train[idx][0]]) #進去二微把微一個數字拿出來 #都可以縮放\n",
        "plt.imshow(x_train[idx])"
      ],
      "execution_count": null,
      "outputs": []
    },
    {
      "cell_type": "code",
      "metadata": {
        "id": "9IQGMvcTBJhC"
      },
      "source": [
        "from tensorflow.keras.models import Sequential\n",
        "from tensorflow.keras.layers import Conv2D, MaxPooling2D\n",
        "from tensorflow.keras.layers import Dense, Dropout, Flatten #把reshape變一微\n",
        "layers = [\n",
        "          # 27(1 filter) * 54 + 64 -> 1792\n",
        "          Conv2D(64, 3, padding=\"same\", activation=\"relu\", input_shape=(32, 32, 3)),\n",
        "          MaxPooling2D(),\n",
        "          # 576(1 filter) * 128 + 128-> 73856\n",
        "          Conv2D(128, 3, padding=\"same\", activation=\"relu\"),\n",
        "          MaxPooling2D(),\n",
        "          Conv2D(256, 3, padding=\"same\", activation=\"relu\"),\n",
        "          MaxPooling2D(),\n",
        "          Flatten(),\n",
        "          Dense(128, activation=\"relu\"),\n",
        "          Dropout(0.25),\n",
        "          Dense(10, activation=\"softmax\")\n",
        "]\n",
        "model = Sequential(layers)\n",
        "model.summary()"
      ],
      "execution_count": null,
      "outputs": []
    },
    {
      "cell_type": "code",
      "metadata": {
        "id": "0ieq7YF3FnMj"
      },
      "source": [
        "from tensorflow.keras.losses import SparseCategoricalCrossentropy #用Sparse版本\n",
        "from tensorflow.keras.optimizers import Adam\n",
        "model.compile(loss=SparseCategoricalCrossentropy(),\n",
        "        optimizer=Adam(),\n",
        "        metrics=[\"accuracy\"])"
      ],
      "execution_count": null,
      "outputs": []
    },
    {
      "cell_type": "code",
      "metadata": {
        "id": "MYUpdGL7Itwr"
      },
      "source": [
        "x_train_norm = x_train / 255\n",
        "x_test_norm = x_test / 255"
      ],
      "execution_count": null,
      "outputs": []
    },
    {
      "cell_type": "code",
      "metadata": {
        "id": "QEkhFqnUItBI"
      },
      "source": [
        "# batch: 100`200(小圖片) 10`20(大圖片)\n",
        "# epoch: 整份資料要看幾遍\n",
        "# 60000筆, 2epoch, 200batch -> 60000 * 2 / 200次調整\n",
        "from tensorflow.keras.callbacks import EarlyStopping, ModelCheckpoint\n",
        "callbacks = [\n",
        "    ModelCheckpoint(\"model.h5\", save_best_only=True),\n",
        "    EarlyStopping(patience=5, restore_best_weights=True)\n",
        "]\n",
        "model.fit(x_train_norm, \n",
        "     y_train,\n",
        "     batch_size=100,\n",
        "     epochs=50,\n",
        "     validation_split=0.1,\n",
        "     callbacks=callbacks,\n",
        "     verbose=2)"
      ],
      "execution_count": null,
      "outputs": []
    },
    {
      "cell_type": "code",
      "metadata": {
        "id": "xyCSjLrKJKR7"
      },
      "source": [
        "model.evaluate(x_test_norm, y_test)"
      ],
      "execution_count": null,
      "outputs": []
    }
  ]
}