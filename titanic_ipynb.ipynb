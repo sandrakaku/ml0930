{
  "nbformat": 4,
  "nbformat_minor": 0,
  "metadata": {
    "colab": {
      "name": "「titanic.ipynb」的副本",
      "provenance": [],
      "private_outputs": true,
      "collapsed_sections": [],
      "authorship_tag": "ABX9TyNrQgi6VkgqE9o8O/FtqSpH",
      "include_colab_link": true
    },
    "kernelspec": {
      "name": "python3",
      "display_name": "Python 3"
    }
  },
  "cells": [
    {
      "cell_type": "markdown",
      "metadata": {
        "id": "view-in-github",
        "colab_type": "text"
      },
      "source": [
        "<a href=\"https://colab.research.google.com/github/sandrakaku/ml0930/blob/master/titanic_ipynb.ipynb\" target=\"_parent\"><img src=\"https://colab.research.google.com/assets/colab-badge.svg\" alt=\"Open In Colab\"/></a>"
      ]
    },
    {
      "cell_type": "code",
      "metadata": {
        "id": "rW2Q9COjj9ie"
      },
      "source": [
        "from urllib.request import urlretrieve\n",
        "url = \"https://github.com/sandrakaku/ml0930/raw/master/titanic/train.csv\"\n",
        "urlretrieve(url, \"train.csv\")\n",
        "url = \"https://github.com/sandrakaku/ml0930/raw/master/titanic/test.csv\"\n",
        "urlretrieve(url, \"test.csv\")"
      ],
      "execution_count": null,
      "outputs": []
    },
    {
      "cell_type": "code",
      "metadata": {
        "id": "EaLddWmCkfrz"
      },
      "source": [
        "import pandas as pd\n",
        "train_df = pd.read_csv(\"train.csv\")\n",
        "test_df = pd.read_csv(\"test.csv\")"
      ],
      "execution_count": null,
      "outputs": []
    },
    {
      "cell_type": "code",
      "metadata": {
        "id": "4HFAg1gpmKmQ"
      },
      "source": [
        "datas = pd.concat([train_df, test_df], axis=0, ignore_index=True)"
      ],
      "execution_count": null,
      "outputs": []
    },
    {
      "cell_type": "code",
      "metadata": {
        "id": "A7OLJMEPmPt-"
      },
      "source": [
        "datas = datas.drop([\"PassengerId\", \"Survived\"], axis=1) #設10個"
      ],
      "execution_count": null,
      "outputs": []
    },
    {
      "cell_type": "code",
      "metadata": {
        "id": "JaWIoDMsmwFJ"
      },
      "source": [
        "na = datas.isna().sum() #.isna()檢查裡面是不是空的(空的為True) .sum()True+1\n",
        "# 篩選 Series[True/False list/series]\n",
        "na[na > 0].sort_values(ascending=False) #有缺就會是True +上[]會篩選出True的 /sort_values(升序(ascending)|降序(decending))"
      ],
      "execution_count": null,
      "outputs": []
    },
    {
      "cell_type": "code",
      "metadata": {
        "id": "iPJm5Y5Yp-b2"
      },
      "source": [
        "most = datas[\"Embarked\"].value_counts().idxmax() #.idxmax找最大值的index\n",
        "datas[\"Embarked\"] = datas[\"Embarked\"].fillna(most) #把剩下空的都填最大值index進去 (如果是數值基本上取中位數去補缺失)"
      ],
      "execution_count": null,
      "outputs": []
    },
    {
      "cell_type": "code",
      "metadata": {
        "id": "B5H_RG-6woUQ"
      },
      "source": [
        "# 先處理一下ticket\n",
        "dic = datas[\"Ticket\"].value_counts() #多少人擁有同一張票\n",
        "def count(n):\n",
        "  return dic[n]\n",
        "datas[\"Ticket\"] = datas[\"Ticket\"].apply(count)"
      ],
      "execution_count": null,
      "outputs": []
    },
    {
      "cell_type": "code",
      "metadata": {
        "id": "yGNmEEmCxQcq"
      },
      "source": [
        "med = datas.median().drop([\"Pclass\"])\n",
        "datas = datas.fillna(med)"
      ],
      "execution_count": null,
      "outputs": []
    },
    {
      "cell_type": "code",
      "metadata": {
        "id": "3qLBsOjCyWOm"
      },
      "source": [
        "# 一個段落，看一下還缺啥\n",
        "na = datas.isna().sum() #.isna()檢查裡面是不是空的(空的為True) .sum()True+1\n",
        "# 篩選 Series[True/False list/series]\n",
        "na[na > 0].sort_values(ascending=False) #有缺就會是True +上[]會篩選出True的 /sort_values(升序(ascending)|降序(decending))"
      ],
      "execution_count": null,
      "outputs": []
    },
    {
      "cell_type": "code",
      "metadata": {
        "id": "6Xgy9aMI1aVK"
      },
      "source": [
        "# 處理Cabin\n",
        "def cabin(c):\n",
        "  if pd.isna(c):\n",
        "    return None\n",
        "  else:\n",
        "    return c[0]\n",
        "datas[\"Cabin\"] = datas[\"Cabin\"].apply(cabin) #Cabin空的補None 有東西取第一個號碼"
      ],
      "execution_count": null,
      "outputs": []
    },
    {
      "cell_type": "code",
      "metadata": {
        "id": "OGpiKzxk6bpU"
      },
      "source": [
        "def name(n):\n",
        "  mid = n.split(\",\")[-1].split(\".\")[0] #將Name的\"，\"當分界分開字串取倒數第一個,再用\".\"當分界取第一個\n",
        "  mid = mid.strip() #將字前後多餘的空白鍵去掉\n",
        "  return mid\n",
        "middle = datas[\"Name\"].apply(name)\n",
        "counts = middle.value_counts()\n",
        "reserved = counts[:4].index\n",
        "def name2(mid):\n",
        "  if mid in reserved:\n",
        "    return mid\n",
        "  else:\n",
        "    return None\n",
        "datas[\"Name\"] = middle.apply(name2)"
      ],
      "execution_count": null,
      "outputs": []
    },
    {
      "cell_type": "code",
      "metadata": {
        "id": "NuxuUT8b8Yby"
      },
      "source": [
        "datas = pd.get_dummies(datas) #所有文字做One-Hot encoding出來\n",
        "datas = pd.get_dummies(datas, columns=[\"Pclass\"])"
      ],
      "execution_count": null,
      "outputs": []
    },
    {
      "cell_type": "code",
      "metadata": {
        "id": "i4osm5RFAYLp"
      },
      "source": [
        "datas[\"Family\"] = datas[\"SibSp\"] + datas[\"Parch\"]\n",
        "datas"
      ],
      "execution_count": null,
      "outputs": []
    },
    {
      "cell_type": "code",
      "metadata": {
        "id": "ZcHk5ZEmDFl9"
      },
      "source": [
        "# [first row, second row....] 類似List去取要東西 DataFrame\n",
        "x_train = datas.iloc[:len(train_df)]\n",
        "x_predict = datas.iloc[len(train_df):]\n",
        "y_train = train_df[\"Survived\"]\n",
        "x_predict"
      ],
      "execution_count": null,
      "outputs": []
    },
    {
      "cell_type": "code",
      "metadata": {
        "id": "xuHyDERkN0nr"
      },
      "source": [
        "from sklearn.ensemble import RandomForestClassifier\n",
        "from sklearn.model_selection import GridSearchCV\n",
        "params = {\n",
        "    \"n_estimators\":range(20, 21),\n",
        "    \"max_depth\":range(4, 5)\n",
        "}\n",
        "clf = RandomForestClassifier(random_state=1)\n",
        "cv = GridSearchCV(clf, params, cv=10, n_jobs=-1)\n",
        "cv.fit(x_train, y_train)\n",
        "print(cv.best_score_)\n",
        "print(cv.best_params_)"
      ],
      "execution_count": null,
      "outputs": []
    },
    {
      "cell_type": "code",
      "metadata": {
        "id": "lsspU5DrJK75"
      },
      "source": [
        "import numpy as np\n",
        "from sklearn.model_selection import cross_val_score\n",
        "clf = RandomForestClassifier(n_estimators=63, max_depth=7) #如果沒有寫random_state=1，每次取平均值的數都會不一樣\n",
        "scores = cross_val_score(clf, x_train, y_train, cv=10, n_jobs=-1)\n",
        "print(scores)\n",
        "print(np.average(scores)) #隨機性是來自隨機森林(他會隨機放掉一些資料)"
      ],
      "execution_count": null,
      "outputs": []
    },
    {
      "cell_type": "code",
      "metadata": {
        "id": "CBJTwoKiRiRY"
      },
      "source": [
        "clf = RandomForestClassifier(n_estimators=63, max_depth=7)\n",
        "clf.fit(x_train, y_train)\n",
        "pre = clf.predict(x_predict)\n",
        "df = pd.DataFrame({\n",
        "    \"PassengerId\":test_df[\"PassengerId\"],\n",
        "    \"Survived\":pre\n",
        "})\n",
        "df.to_csv(\"rf.csv\", encoding=\"utf-8\", index=False)"
      ],
      "execution_count": null,
      "outputs": []
    },
    {
      "cell_type": "code",
      "metadata": {
        "id": "tBElKHYiunBD"
      },
      "source": [
        "clf.estimators_[0]\n",
        "pd.DataFrame({\n",
        "    \"columns\":x_train.columns,\n",
        "    \"importance\":clf.feature_importances_\n",
        "}).sort_values(\"importance\", axis=0, ascending=False)"
      ],
      "execution_count": null,
      "outputs": []
    },
    {
      "cell_type": "code",
      "metadata": {
        "id": "dx9Qkf8hxjvp"
      },
      "source": [
        "import matplotlib.pyplot as plt\n",
        "import seaborn as sns\n",
        "plt.figure(figsize=(10, 4)) \n",
        "plt.subplot(1, 2, 1) #畫圖前\n",
        "sns.countplot(train_df[\"Sex\"])\n",
        "plt.subplot(1, 2, 2)\n",
        "sns.countplot(x=train_df[\"Sex\"], hue=train_df[\"Survived\"], palette=\"Paired\") #palette換顏色"
      ],
      "execution_count": null,
      "outputs": []
    },
    {
      "cell_type": "code",
      "metadata": {
        "id": "WO6fvPlX0EKo"
      },
      "source": [
        "plt.figure(figsize=(10, 10))\n",
        "plt.subplot(2, 1,1)\n",
        "sns.distplot(train_df[\"Age\"])\n",
        "c = pd.cut(train_df[\"Age\"], bins=5)\n",
        "plt.subplot(2, 1, 2)\n",
        "sns.countplot(x=c, hue=train_df[\"Survived\"])\n",
        "plt.xticks(rotation=45) #讓x軸的區塊名稱傾斜"
      ],
      "execution_count": null,
      "outputs": []
    },
    {
      "cell_type": "code",
      "metadata": {
        "id": "GQjjsh21VhSx"
      },
      "source": [
        "from sklearn.preprocessing import MinMaxScaler\n",
        "scaler = MinMaxScaler()\n",
        "datas_scale = scaler.fit_transform(datas)\n",
        "datas_scale = pd.DataFrame(datas_scale, columns=datas.columns)\n",
        "x_train_scale = datas_scale.iloc[:len(train_df)]\n",
        "x_predict_scale = datas_scale.iloc[len(train_df):]\n",
        "y_train_scale = train_df[\"Survived\"]\n",
        "x_predict"
      ],
      "execution_count": null,
      "outputs": []
    },
    {
      "cell_type": "code",
      "metadata": {
        "id": "xu8KxYWpWQR5"
      },
      "source": [
        "from sklearn.neighbors import KNeighborsClassifier\n",
        "params = {\n",
        "    \"n_neighbors\":range(5, 100),\n",
        "}\n",
        "clf = KNeighborsClassifier()\n",
        "cv = GridSearchCV(clf, params, cv=10, n_jobs=-1)\n",
        "cv.fit(x_train_scale, y_train)\n",
        "print(cv.best_score_)\n",
        "print(cv.best_params_)"
      ],
      "execution_count": null,
      "outputs": []
    },
    {
      "cell_type": "code",
      "metadata": {
        "id": "DynLFPWYWwmL"
      },
      "source": [
        "clf = KNeighborsClassifier(n_neighbors=11)\n",
        "clf.fit(x_train_scale, y_train)\n",
        "pre = clf.predict(x_predict_scale)\n",
        "df = pd.DataFrame({\n",
        "    \"PassengerId\":test_df[\"PassengerId\"],\n",
        "    \"Survived\":pre\n",
        "})\n",
        "df.to_csv(\"knn.csv\", encoding=\"utf-8\", index=False)"
      ],
      "execution_count": null,
      "outputs": []
    }
  ]
}