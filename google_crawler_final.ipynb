{
  "nbformat": 4,
  "nbformat_minor": 0,
  "metadata": {
    "colab": {
      "name": "google_crawler_final.ipynb",
      "provenance": [],
      "private_outputs": true,
      "authorship_tag": "ABX9TyNRiBEEs/rv9aCtzyz8V6iX",
      "include_colab_link": true
    },
    "kernelspec": {
      "name": "python3",
      "display_name": "Python 3"
    }
  },
  "cells": [
    {
      "cell_type": "markdown",
      "metadata": {
        "id": "view-in-github",
        "colab_type": "text"
      },
      "source": [
        "<a href=\"https://colab.research.google.com/github/sandrakaku/ml0930/blob/master/google_crawler_final.ipynb\" target=\"_parent\"><img src=\"https://colab.research.google.com/assets/colab-badge.svg\" alt=\"Open In Colab\"/></a>"
      ]
    },
    {
      "cell_type": "code",
      "metadata": {
        "id": "LrDCGGfcj33J"
      },
      "source": [
        "import requests\n",
        "url = \"https://www.google.com/search?ei=Z3KJXYefGIK0mAX-vp64CQ&yv=3&q=浣熊&tbm=isch&vet=10ahUKEwjH7qivqOjkAhUCGqYKHX6fB5cQuT0ISigB.Z3KJXYefGIK0mAX-vp64CQ.i&ved=0ahUKEwjH7qivqOjkAhUCGqYKHX6fB5cQuT0ISigB&ijn=1&start=100&asearch=ichunk&async=_id:rg_s,_pms:s,_jsfs:Ffpdje,_fmt:pc\"\n",
        "h = {\n",
        "    \"accept-language\":\"zh-TW,zh;q=0.9,en-US;q=0.8,en;q=0.7\",\n",
        "    \"user-agent\":\"Mozilla/5.0 (Windows NT 10.0; Win64; x64) AppleWebKit/537.36 (KHTML, like Gecko) Chrome/76.0.3809.132 Safari/537.36\"\n",
        "}\n",
        "response = requests.get(url, headers=h)\n",
        "response.text"
      ],
      "execution_count": null,
      "outputs": []
    },
    {
      "cell_type": "code",
      "metadata": {
        "id": "5IrgHflIj8D0"
      },
      "source": [
        "from bs4 import BeautifulSoup\n",
        "import json\n",
        "html = BeautifulSoup(response.text)\n",
        "div = html.find(\"div\", class_=\"rg_meta\")\n",
        "print(\"盒子:\", div)\n",
        "print(\"網址:\", json.loads(div.text)[\"ou\"])"
      ],
      "execution_count": null,
      "outputs": []
    },
    {
      "cell_type": "code",
      "metadata": {
        "id": "Bxz4clVZj--b"
      },
      "source": [
        "import requests\n",
        "from bs4 import BeautifulSoup\n",
        "import json\n",
        "\n",
        "imgs_url = []\n",
        "page = 0\n",
        "while True:    \n",
        "    url = (\"https://www.google.com/search?ei=Z3KJXYefGIK0mAX-vp64CQ&yv=3&q=浣熊&tbm=isch&vet=10ahUKEwjH7qivqOjkAhUCGqYKHX6fB5cQuT0ISigB.Z3KJXYefGIK0mAX-vp64CQ.i&ved=0ahUKEwjH7qivqOjkAhUCGqYKHX6fB5cQuT0ISigB&ijn=\"\n",
        "            + str(page) + \"&start=\"\n",
        "            + str(page * 100) +\"&asearch=ichunk&async=_id:rg_s,_pms:s,_jsfs:Ffpdje,_fmt:pc\")\n",
        "    print(\"第幾頁:\", page + 1)\n",
        "    print(\"網址:\", url)\n",
        "    h = {\n",
        "        \"accept-language\":\"zh-TW,zh;q=0.9,en-US;q=0.8,en;q=0.7\",\n",
        "        \"user-agent\":\"Mozilla/5.0 (Windows NT 10.0; Win64; x64) AppleWebKit/537.36 (KHTML, like Gecko) Chrome/76.0.3809.132 Safari/537.36\"\n",
        "    }\n",
        "    response = requests.get(url, headers=h)\n",
        "    \n",
        "    html = BeautifulSoup(response.text)\n",
        "    divs = html.find_all(\"div\", class_=\"rg_meta\")\n",
        "    \n",
        "    if len(divs) == 0:\n",
        "        print(\"應該是最後一頁了\")\n",
        "        break\n",
        "    \n",
        "    print(\"這頁有幾張?\", len(divs))\n",
        "    for d in divs:\n",
        "        img = json.loads(d.text)[\"ou\"]\n",
        "        imgs_url.append(img)\n",
        "    page = page + 1"
      ],
      "execution_count": null,
      "outputs": []
    },
    {
      "cell_type": "code",
      "metadata": {
        "id": "1cstoAD4kBz7"
      },
      "source": [
        "import os\n",
        "import shutil\n",
        "import ssl\n",
        "ssl._create_default_https_context = ssl._create_unverified_context\n",
        "\n",
        "base = \"racoon\"\n",
        "if not os.path.exists(base):\n",
        "    os.makedirs(base)\n",
        "saved = [\"jpg\", \"jpeg\", \"png\"]\n",
        "for i, iurl in enumerate(imgs_url):\n",
        "    for f in saved:\n",
        "        if f.upper() in iurl or f in iurl:\n",
        "            try:\n",
        "                iresponse = requests.get(iurl, stream=True, verify=False)\n",
        "                fn = os.path.join(base, str(i) + \".\" + f)\n",
        "                with open(fn, \"wb\") as f:\n",
        "                    # .read: .raw是一個檔案, 使用read去讀取\n",
        "                    # f.write(iresponse.raw.read())\n",
        "                    shutil.copyfileobj(iresponse.raw, f)\n",
        "            except:\n",
        "                print(\"放棄:\", iurl)"
      ],
      "execution_count": null,
      "outputs": []
    }
  ]
}