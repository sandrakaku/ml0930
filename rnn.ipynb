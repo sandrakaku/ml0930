{
  "nbformat": 4,
  "nbformat_minor": 0,
  "metadata": {
    "colab": {
      "name": "rnn.ipynb",
      "provenance": [],
      "private_outputs": true,
      "collapsed_sections": [],
      "authorship_tag": "ABX9TyO0faDyNXfIdE82fdJJGIVO",
      "include_colab_link": true
    },
    "kernelspec": {
      "name": "python3",
      "display_name": "Python 3"
    },
    "accelerator": "GPU"
  },
  "cells": [
    {
      "cell_type": "markdown",
      "metadata": {
        "id": "view-in-github",
        "colab_type": "text"
      },
      "source": [
        "<a href=\"https://colab.research.google.com/github/sandrakaku/ml0930/blob/master/rnn.ipynb\" target=\"_parent\"><img src=\"https://colab.research.google.com/assets/colab-badge.svg\" alt=\"Open In Colab\"/></a>"
      ]
    },
    {
      "cell_type": "code",
      "metadata": {
        "id": "e89NK6luqWi1"
      },
      "source": [
        "import tensorflow as tf\n",
        "\n",
        "dataset = tf.keras.utils.get_file(\n",
        "    fname=\"aclImdb.tar.gz\", \n",
        "    origin=\"http://ai.stanford.edu/~amaas/data/sentiment/aclImdb_v1.tar.gz\", \n",
        "    extract=True,\n",
        ")"
      ],
      "execution_count": null,
      "outputs": []
    },
    {
      "cell_type": "code",
      "metadata": {
        "id": "pE3eAamLwa0l"
      },
      "source": [
        "import glob #找所有記事本並建立起來\n",
        "# glob.glob(\"/root/.keras/datasets/aclImdb/train/pos/*\")\n",
        "import os\n",
        "# datas = { # 準備空的字典\n",
        "#     \"content\":[],\n",
        "#     \"target\":[]\n",
        "# }\n",
        "import pandas as pd\n",
        "\n",
        "def read(path):\n",
        "  with open(path, \"r\", encoding=\"utf-8\") as f:\n",
        "    content = f.read()\n",
        "  return content\n",
        "\n",
        "\n",
        "def get_data(t):\n",
        "  dn = os.path.dirname(dataset)\n",
        "  pattern = os.path.join(dn, \"aclImdb\", t, \"pos\", \"*.txt\") # 所有檔名\n",
        "  pos = glob.glob(pattern)\n",
        "  pattern = os.path.join(dn, \"aclImdb\", t, \"neg\", \"*.txt\") # 所有檔名\n",
        "  neg = glob.glob(pattern)\n",
        "  sentiments = [1] * len(pos) + [0] * len(neg)\n",
        "  contents = map(read, pos + neg)\n",
        "  df = pd.DataFrame({\n",
        "      \"contents\":contents,\n",
        "      \"sentiment\":sentiments\n",
        "  })\n",
        "  return df\n",
        "train_df = get_data(\"train\")\n",
        "test_df = get_data(\"test\")\n",
        "test_df"
      ],
      "execution_count": null,
      "outputs": []
    },
    {
      "cell_type": "code",
      "metadata": {
        "id": "5WQgDmgry7Mz"
      },
      "source": [
        "\"-\".join(map(str, [1, 2, 3, 4, 5])) # (與本主題無關)map對裡面的所有東西做一次相同的事"
      ],
      "execution_count": null,
      "outputs": []
    },
    {
      "cell_type": "code",
      "metadata": {
        "id": "TLB4Jd4pF3kE"
      },
      "source": [
        "TOK = 3000\n",
        "LEN = 512\n",
        "EM = 128 # 情緒感受 BERT就選500個"
      ],
      "execution_count": null,
      "outputs": []
    },
    {
      "cell_type": "code",
      "metadata": {
        "id": "lB7puK3b1W6R"
      },
      "source": [
        "from tensorflow.keras.preprocessing.text import Tokenizer\n",
        "tok = Tokenizer(num_words=TOK) # 不用那麼多的話可以截長補短\n",
        "# fit_on_texts: fit_transform 的 fit\n",
        "tok.fit_on_texts(train_df[\"contents\"])\n",
        "# sequences: 把所有單字換成數字的序列\n",
        "x_train_seq = tok.texts_to_sequences(train_df[\"contents\"])\n",
        "x_test_seq = tok.texts_to_sequences(test_df[\"contents\"])"
      ],
      "execution_count": null,
      "outputs": []
    },
    {
      "cell_type": "code",
      "metadata": {
        "id": "MsRZ6-_f4uQb"
      },
      "source": [
        "# tok.word_index\n",
        "tok.index_word"
      ],
      "execution_count": null,
      "outputs": []
    },
    {
      "cell_type": "code",
      "metadata": {
        "id": "3zQOlUr54dJF"
      },
      "source": [
        "# pd.DataFrame(train_df_seq)\n",
        "# truncating: pre 截掉前面 ex: 12345 -> 45  / post 截掉後面 12345 -> 12\n",
        "from tensorflow.keras.preprocessing.sequence import pad_sequences # 截長補短\n",
        "x_train_pad = pad_sequences(x_train_seq, LEN) # truncating(預設值就是\"pre\")\n",
        "x_test_pad = pad_sequences(x_test_seq, LEN)\n",
        "pd.DataFrame(x_test_pad)"
      ],
      "execution_count": null,
      "outputs": []
    },
    {
      "cell_type": "code",
      "metadata": {
        "id": "0WUFomeR-_uA"
      },
      "source": [
        "# 以下開始enbadding"
      ],
      "execution_count": null,
      "outputs": []
    },
    {
      "cell_type": "code",
      "metadata": {
        "id": "mSmyqbDl_DEn"
      },
      "source": [
        "from tensorflow.keras.models import Sequential\n",
        "from tensorflow.keras.layers import Embedding, GlobalAveragePooling1D   # 詞意\n",
        "from tensorflow.keras.layers import Dense, Flatten, Dropout\n",
        "from tensorflow.keras.layers import SimpleRNN\n",
        "\n",
        "layers = [\n",
        "  # 1~3000(token) + 0(padding) = 3001\n",
        "  # param: 3001 * 128\n",
        "  # 線性模型\n",
        "  Embedding(TOK+1, EM, mask_zero=True, input_length=LEN), # 128:output_dim, input_length=512(一篇文章有512個詞) 3000種512個 [每一個詞被畫成128個情緒]\n",
        "  GlobalAveragePooling1D(), # 1D\n",
        "  # Flatten(),\n",
        "  Dense(2, activation=\"softmax\") # 分類器 Word2Vec的作法\n",
        "]\n",
        "model = Sequential(layers)\n",
        "model.summary()"
      ],
      "execution_count": null,
      "outputs": []
    },
    {
      "cell_type": "code",
      "metadata": {
        "id": "5__2KGeBBQ7Q"
      },
      "source": [
        "from tensorflow.keras.losses import SparseCategoricalCrossentropy\n",
        "from tensorflow.keras.optimizers import Adam\n",
        "model.compile(loss=SparseCategoricalCrossentropy(),\n",
        "       optimizer=Adam(),\n",
        "       metrics=[\"accuracy\"])"
      ],
      "execution_count": null,
      "outputs": []
    },
    {
      "cell_type": "code",
      "metadata": {
        "id": "fzf4Ou7hBRsU"
      },
      "source": [
        "y_train = train_df[\"sentiment\"]\n",
        "y_test = test_df[\"sentiment\"]"
      ],
      "execution_count": null,
      "outputs": []
    },
    {
      "cell_type": "code",
      "metadata": {
        "id": "RLtSvAZuBZd1"
      },
      "source": [
        "# epoch: 整份資料要看幾遍\n",
        "# 60000筆, 2epoch, 200batch -> 60000 * 2 / 200次調整\n",
        "from tensorflow.keras.callbacks import EarlyStopping, ModelCheckpoint\n",
        "callbacks = [\n",
        "    ModelCheckpoint(\"model.h5\", save_best_only=True),\n",
        "    EarlyStopping(patience=5, restore_best_weights=True)\n",
        "]\n",
        "model.fit(x_train_pad, \n",
        "     y_train,\n",
        "     batch_size=100,\n",
        "     epochs=50,\n",
        "     validation_split=0.1,\n",
        "     callbacks=callbacks,\n",
        "     verbose=2)"
      ],
      "execution_count": null,
      "outputs": []
    },
    {
      "cell_type": "code",
      "metadata": {
        "id": "Agn4oyXMBiTE"
      },
      "source": [
        "model.evaluate(x_test_pad, y_test)"
      ],
      "execution_count": null,
      "outputs": []
    },
    {
      "cell_type": "code",
      "metadata": {
        "id": "TaLNqEsMKGBB"
      },
      "source": [
        "layers = [\n",
        "  Embedding(TOK+1, EM, mask_zero=True),\n",
        "  GlobalAveragePooling1D(),\n",
        "]\n",
        "w = model.layers[0].get_weights()\n",
        "infer = Sequential(layers) # infer推論\n",
        "infer.layers[0].set_weights(w) # 設Embedding\n",
        "infer.summary()"
      ],
      "execution_count": null,
      "outputs": []
    },
    {
      "cell_type": "code",
      "metadata": {
        "id": "D2PUtNeXK--I"
      },
      "source": [
        "# w\n",
        "# infer.layers[0].get_weights()\n",
        "# 25000, 512 Shape\n",
        "# 原本:[512list, 512list]\n",
        "target = \"the\"\n",
        "# 現在:[1list]\n",
        "pre = infer.predict([[tok.word_index[target]]])\n",
        "pre[0]"
      ],
      "execution_count": null,
      "outputs": []
    },
    {
      "cell_type": "code",
      "metadata": {
        "id": "eQlSXjyNmj7w"
      },
      "source": [
        "f = open(\"vec.txt\", \"w\", encoding=\"utf-8\")\n",
        "f.write(\"{} {}\\n\".format(TOK, EM))\n",
        "\n",
        "for i in range(1, TOK+1):\n",
        "  pre = infer.predict([[i]])[0]\n",
        "  v = \" \".join(map(str, pre))\n",
        "  f.write(\"{} {}\\n\".format(tok.index_word[i], v))\n",
        "f.close()"
      ],
      "execution_count": null,
      "outputs": []
    },
    {
      "cell_type": "code",
      "metadata": {
        "id": "kkGDeGpqpuGT"
      },
      "source": [
        "from gensim.models import KeyedVectors\n",
        "w2v = KeyedVectors.load_word2vec_format(\"vec.txt\")"
      ],
      "execution_count": null,
      "outputs": []
    },
    {
      "cell_type": "code",
      "metadata": {
        "id": "GEIG3X2Ap_OJ"
      },
      "source": [
        "# w2v.wv[\"the\"]\n",
        "# 詞彙列表 w2v.wv.vocab\n",
        "w2v.most_similar(\"christmas\")"
      ],
      "execution_count": null,
      "outputs": []
    }
  ]
}