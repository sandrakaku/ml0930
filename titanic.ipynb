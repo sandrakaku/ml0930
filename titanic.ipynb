{
  "nbformat": 4,
  "nbformat_minor": 0,
  "metadata": {
    "colab": {
      "name": "titanic.ipynb",
      "provenance": [],
      "private_outputs": true,
      "authorship_tag": "ABX9TyMycfyGC+xpq5Ieqd98lu99",
      "include_colab_link": true
    },
    "kernelspec": {
      "name": "python3",
      "display_name": "Python 3"
    }
  },
  "cells": [
    {
      "cell_type": "markdown",
      "metadata": {
        "id": "view-in-github",
        "colab_type": "text"
      },
      "source": [
        "<a href=\"https://colab.research.google.com/github/sandrakaku/ml0930/blob/master/titanic.ipynb\" target=\"_parent\"><img src=\"https://colab.research.google.com/assets/colab-badge.svg\" alt=\"Open In Colab\"/></a>"
      ]
    },
    {
      "cell_type": "code",
      "metadata": {
        "id": "rW2Q9COjj9ie"
      },
      "source": [
        "from urllib.request import urlretrieve\n",
        "url = \"https://github.com/sandrakaku/ml0930/raw/master/titanic/train.csv\"\n",
        "urlretrieve(url, \"train.csv\")\n",
        "url = \"https://github.com/sandrakaku/ml0930/raw/master/titanic/test.csv\"\n",
        "urlretrieve(url, \"test.csv\")"
      ],
      "execution_count": null,
      "outputs": []
    },
    {
      "cell_type": "code",
      "metadata": {
        "id": "EaLddWmCkfrz"
      },
      "source": [
        "import pandas as pd\n",
        "train_df = pd.read_csv(\"train.csv\")\n",
        "test_df = pd.read_csv(\"test.csv\")"
      ],
      "execution_count": null,
      "outputs": []
    },
    {
      "cell_type": "code",
      "metadata": {
        "id": "8hoJtLmAkr6j"
      },
      "source": [
        "test_df"
      ],
      "execution_count": null,
      "outputs": []
    },
    {
      "cell_type": "code",
      "metadata": {
        "id": "aPND0GR1lcWs"
      },
      "source": [
        "pd.concat([train_df, test_df], axis=0, ignore_index=True)\n"
      ],
      "execution_count": null,
      "outputs": []
    },
    {
      "cell_type": "code",
      "metadata": {
        "id": "4HFAg1gpmKmQ"
      },
      "source": [
        "datas = pd.concat([train_df, test_df], axis=0, ignore_index=True)"
      ],
      "execution_count": null,
      "outputs": []
    },
    {
      "cell_type": "code",
      "metadata": {
        "id": "A7OLJMEPmPt-"
      },
      "source": [
        "datas = datas.drop([\"PassengerId\", \"Survived\"], axis=1) #設10個"
      ],
      "execution_count": null,
      "outputs": []
    },
    {
      "cell_type": "code",
      "metadata": {
        "id": "JaWIoDMsmwFJ"
      },
      "source": [
        "na = datas.isna().sum() #.isna()檢查裡面是不是空的(空的為True) .sum()True+1\n",
        "# 篩選 Series[True/False list/series]\n",
        "na[na > 0].sort_values(ascending=False) #有缺就會是True +上[]會篩選出True的 /sort_values(升序(ascending)|降序(decending))"
      ],
      "execution_count": null,
      "outputs": []
    },
    {
      "cell_type": "code",
      "metadata": {
        "id": "iPJm5Y5Yp-b2"
      },
      "source": [
        "most = datas[\"Embarked\"].value_counts().idxmax #.idxmax找最大值的index\n",
        "datas[\"Embarked\"] = datas[\"Embarked\"].fillna(most) #把剩下空的都填最大值index進去 (如果是數值基本上取中位數去補缺失)"
      ],
      "execution_count": null,
      "outputs": []
    },
    {
      "cell_type": "code",
      "metadata": {
        "id": "B5H_RG-6woUQ"
      },
      "source": [
        "# 先處理一下ticket\n",
        "dic = datas[\"Ticket\"].value_counts() #多少人擁有同一張票\n",
        "def count(n):\n",
        "  return dic[n]\n",
        "datas[\"Ticket\"] = datas[\"Ticket\"].apply(count)"
      ],
      "execution_count": null,
      "outputs": []
    },
    {
      "cell_type": "code",
      "metadata": {
        "id": "yGNmEEmCxQcq"
      },
      "source": [
        "med = datas.median().drop([\"Pclass\"])\n",
        "datas = datas.fillna(med)"
      ],
      "execution_count": null,
      "outputs": []
    },
    {
      "cell_type": "code",
      "metadata": {
        "id": "3qLBsOjCyWOm"
      },
      "source": [
        "# 一個段落，看一下還缺啥\n",
        "na = datas.isna().sum() #.isna()檢查裡面是不是空的(空的為True) .sum()True+1\n",
        "# 篩選 Series[True/False list/series]\n",
        "na[na > 0].sort_values(ascending=False) #有缺就會是True +上[]會篩選出True的 /sort_values(升序(ascending)|降序(decending))"
      ],
      "execution_count": null,
      "outputs": []
    }
  ]
}