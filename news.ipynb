{
  "nbformat": 4,
  "nbformat_minor": 0,
  "metadata": {
    "colab": {
      "name": "news.ipynb",
      "provenance": [],
      "private_outputs": true,
      "authorship_tag": "ABX9TyPF9Yi75IMcWpelU4LbvrHH",
      "include_colab_link": true
    },
    "kernelspec": {
      "name": "python3",
      "display_name": "Python 3"
    }
  },
  "cells": [
    {
      "cell_type": "markdown",
      "metadata": {
        "id": "view-in-github",
        "colab_type": "text"
      },
      "source": [
        "<a href=\"https://colab.research.google.com/github/sandrakaku/ml0930/blob/master/news.ipynb\" target=\"_parent\"><img src=\"https://colab.research.google.com/assets/colab-badge.svg\" alt=\"Open In Colab\"/></a>"
      ]
    },
    {
      "cell_type": "code",
      "metadata": {
        "id": "PZDx8Zju2uHl"
      },
      "source": [
        "import zipfile #解壓縮(虛擬)\n",
        "path = \"drive/My Drive/news/chinese_news_trans.zip\"\n",
        "f = zipfile.ZipFile(path)\n",
        "f.extractall()\n",
        "path = \"drive/My Drive/news/chinese_news_test.zip\"\n",
        "f = zipfile.ZipFile(path)\n",
        "f.extractall()"
      ],
      "execution_count": null,
      "outputs": []
    },
    {
      "cell_type": "code",
      "metadata": {
        "id": "gupIkrwE0ZQJ"
      },
      "source": [
        "import os\n",
        "import glob\n",
        "\n",
        "def read_data(base):\n",
        "  contents, target = [], []\n",
        "  basedn = os.path.join(base, \"*\")\n",
        "  for dn in glob.glob(\"chinese_news_trans/*\"):\n",
        "    upper = os.path.join(dn, \"*.TXT\")\n",
        "    lower = os.path.join(dn, \"*.txt\")\n",
        "    for fn in glob.glob(upper) + glob.glob(lower):\n",
        "      with open(fn, \"r\", encoding=\"utf-8\") as f:\n",
        "        contents.append(f.read())\n",
        "        target = os.path.split(dn)[-1]\n",
        "        targets.append(target)\n",
        "      df = pd.DataFrame({\n",
        "          \"content\":contents,\n",
        "          \"target\":targets\n",
        "      })\n",
        "      return df\n",
        "train_df = read_data(\"chinese_news_trans\")\n",
        "test_df = read_data(\"chinese_news_test\")"
      ],
      "execution_count": null,
      "outputs": []
    },
    {
      "cell_type": "code",
      "metadata": {
        "id": "Cu8We7Ez0i6S"
      },
      "source": [
        "train_df"
      ],
      "execution_count": null,
      "outputs": []
    },
    {
      "cell_type": "code",
      "metadata": {
        "id": "JUKHe1OS26hZ"
      },
      "source": [
        "from google.colab import drive\n",
        "drive.mount('/content/drive')"
      ],
      "execution_count": null,
      "outputs": []
    }
  ]
}