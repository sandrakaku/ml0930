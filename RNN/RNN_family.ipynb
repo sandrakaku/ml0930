{
  "nbformat": 4,
  "nbformat_minor": 0,
  "metadata": {
    "colab": {
      "name": "RNN family.ipynb",
      "provenance": [],
      "collapsed_sections": [],
      "include_colab_link": true
    },
    "kernelspec": {
      "name": "python3",
      "display_name": "Python 3"
    }
  },
  "cells": [
    {
      "cell_type": "markdown",
      "metadata": {
        "id": "view-in-github",
        "colab_type": "text"
      },
      "source": [
        "<a href=\"https://colab.research.google.com/github/sandrakaku/ml0930/blob/master/RNN_family.ipynb\" target=\"_parent\"><img src=\"https://colab.research.google.com/assets/colab-badge.svg\" alt=\"Open In Colab\"/></a>"
      ]
    },
    {
      "cell_type": "code",
      "metadata": {
        "id": "7MQTJpgXIZTb"
      },
      "source": [
        "import tensorflow as tf\n",
        "from tensorflow.keras import layers, models"
      ],
      "execution_count": 3,
      "outputs": []
    },
    {
      "cell_type": "code",
      "metadata": {
        "id": "MyuU_zLAQTZ2"
      },
      "source": [
        "# Sample: 1\n",
        "# Sequence Length: 5\n",
        "# feature dimension: 8\n",
        "\n",
        "inputs = tf.random.normal([1, 5, 8])"
      ],
      "execution_count": 4,
      "outputs": []
    },
    {
      "cell_type": "markdown",
      "metadata": {
        "id": "atmpBvPyLWCJ"
      },
      "source": [
        "# tf.keras.layers.LSTM"
      ]
    },
    {
      "cell_type": "code",
      "metadata": {
        "id": "ad4M9eEwIddc",
        "outputId": "2b7e39c3-2b39-4c20-ef45-b46ff63ae9df",
        "colab": {
          "base_uri": "https://localhost:8080/"
        }
      },
      "source": [
        "output = layers.LSTM(units=3)(inputs)\n",
        "print(output.shape)"
      ],
      "execution_count": 5,
      "outputs": [
        {
          "output_type": "stream",
          "text": [
            "(1, 3)\n"
          ],
          "name": "stdout"
        }
      ]
    },
    {
      "cell_type": "code",
      "metadata": {
        "id": "_t8D3p7dJ0vg",
        "outputId": "f9c51353-41ff-49ea-8657-2fe324c98f2d",
        "colab": {
          "base_uri": "https://localhost:8080/"
        }
      },
      "source": [
        "whole_seq_output, final_hiden_state, final_cell_state = layers.LSTM(3, return_sequences=True, return_state=True)(inputs)\n",
        "\n",
        "print('whole_seq_output: ', whole_seq_output.shape, whole_seq_output)\n",
        "print('final_hiden_state (h): ', final_hiden_state.shape, final_hiden_state)\n",
        "print('final_cell_state (c): ', final_cell_state.shape, final_cell_state)"
      ],
      "execution_count": 6,
      "outputs": [
        {
          "output_type": "stream",
          "text": [
            "whole_seq_output:  (1, 5, 3) tf.Tensor(\n",
            "[[[-0.1619989   0.02559346  0.2561023 ]\n",
            "  [-0.05864269  0.06812505 -0.0754921 ]\n",
            "  [-0.09577419 -0.02111881 -0.07018442]\n",
            "  [ 0.08240461 -0.0744306   0.01248048]\n",
            "  [ 0.09575005 -0.05433186 -0.02169498]]], shape=(1, 5, 3), dtype=float32)\n",
            "final_hiden_state (h):  (1, 3) tf.Tensor([[ 0.09575005 -0.05433186 -0.02169498]], shape=(1, 3), dtype=float32)\n",
            "final_cell_state (c):  (1, 3) tf.Tensor([[ 0.39537305 -0.6359691  -0.03060528]], shape=(1, 3), dtype=float32)\n"
          ],
          "name": "stdout"
        }
      ]
    },
    {
      "cell_type": "markdown",
      "metadata": {
        "id": "Cf8aLad2LX9w"
      },
      "source": [
        "# tf.keras.layers.GRU"
      ]
    },
    {
      "cell_type": "code",
      "metadata": {
        "id": "9xxagyy9LYt_",
        "outputId": "16c9b554-45aa-4e68-c1d5-4dd73e37b204",
        "colab": {
          "base_uri": "https://localhost:8080/"
        }
      },
      "source": [
        "output = layers.GRU(units=3)(inputs) # 設定Unit要幾個\n",
        "print(output.shape)"
      ],
      "execution_count": 7,
      "outputs": [
        {
          "output_type": "stream",
          "text": [
            "(1, 3)\n"
          ],
          "name": "stdout"
        }
      ]
    },
    {
      "cell_type": "code",
      "metadata": {
        "id": "x2THpViELlO5",
        "outputId": "c3ffeb09-e754-4526-8602-2ac87299a807",
        "colab": {
          "base_uri": "https://localhost:8080/"
        }
      },
      "source": [
        "whole_sequence_output, final_state = layers.GRU(3, return_sequences=True, return_state=True)(inputs) # 打開return_sequence和return_state\n",
        "\n",
        "print('whole_seq_output: ', whole_sequence_output.shape, whole_sequence_output)\n",
        "print('final_state (h): ', final_state.shape, final_state)"
      ],
      "execution_count": 8,
      "outputs": [
        {
          "output_type": "stream",
          "text": [
            "whole_seq_output:  (1, 5, 3) tf.Tensor(\n",
            "[[[-0.4163862  -0.15563999 -0.09131131]\n",
            "  [-0.6519987   0.21207014 -0.14881718]\n",
            "  [ 0.47509643 -0.3039614  -0.32580188]\n",
            "  [ 0.5876997   0.03608909  0.31574333]\n",
            "  [ 0.6552513   0.09547674 -0.05786414]]], shape=(1, 5, 3), dtype=float32)\n",
            "final_state (h):  (1, 3) tf.Tensor([[ 0.6552513   0.09547674 -0.05786414]], shape=(1, 3), dtype=float32)\n"
          ],
          "name": "stdout"
        }
      ]
    },
    {
      "cell_type": "markdown",
      "metadata": {
        "id": "BLcEAbfIM7IT"
      },
      "source": [
        "# tf.keras.layers.Bidirectional"
      ]
    },
    {
      "cell_type": "code",
      "metadata": {
        "id": "8aDkLkxeM-XQ",
        "outputId": "bbfcc7a4-47aa-4143-c76f-c6ab0b87ed85",
        "colab": {
          "base_uri": "https://localhost:8080/"
        }
      },
      "source": [
        "output = layers.Bidirectional(layers.LSTM(10))(inputs)\n",
        "print(output.shape)"
      ],
      "execution_count": 9,
      "outputs": [
        {
          "output_type": "stream",
          "text": [
            "(1, 20)\n"
          ],
          "name": "stdout"
        }
      ]
    },
    {
      "cell_type": "code",
      "metadata": {
        "id": "fMQkgBJ3NYeO",
        "outputId": "ada32781-cd40-471b-c917-47c0eca63a5e",
        "colab": {
          "base_uri": "https://localhost:8080/"
        }
      },
      "source": [
        "# merge_mode: Sum\n",
        "output = layers.Bidirectional(layers.LSTM(10), merge_mode='sum')(inputs)\n",
        "print(output.shape)"
      ],
      "execution_count": 10,
      "outputs": [
        {
          "output_type": "stream",
          "text": [
            "(1, 10)\n"
          ],
          "name": "stdout"
        }
      ]
    },
    {
      "cell_type": "code",
      "metadata": {
        "id": "pbBbk7e7NqOK",
        "outputId": "17015818-2213-442a-80cd-ed8e80828c1c",
        "colab": {
          "base_uri": "https://localhost:8080/"
        }
      },
      "source": [
        "# return_sequences: True\n",
        "output = layers.Bidirectional(layers.LSTM(10, return_sequences=True))(inputs)\n",
        "print(output.shape)"
      ],
      "execution_count": 11,
      "outputs": [
        {
          "output_type": "stream",
          "text": [
            "(1, 5, 20)\n"
          ],
          "name": "stdout"
        }
      ]
    },
    {
      "cell_type": "code",
      "metadata": {
        "id": "u3Kh1ZkPNwtA",
        "outputId": "49c82fbb-dfcd-438e-ea08-311cae81e945",
        "colab": {
          "base_uri": "https://localhost:8080/"
        }
      },
      "source": [
        "# return_sequences: True, \n",
        "output, forward_h, forward_c, backward_h, backward_c = layers.Bidirectional(layers.LSTM(2, return_sequences=True, return_state=True))(inputs)\n",
        "print('output : ', output.shape, output)\n",
        "print('forward_h : ', forward_h.shape, forward_h)\n",
        "print('forward_c : ', forward_c.shape, forward_c)\n",
        "print('backward_h : ', backward_h.shape, backward_h)\n",
        "print('backward_c : ', backward_c.shape, backward_c)\n"
      ],
      "execution_count": 12,
      "outputs": [
        {
          "output_type": "stream",
          "text": [
            "output :  (1, 5, 4) tf.Tensor(\n",
            "[[[ 0.02553687  0.09569987 -0.03582771  0.07830819]\n",
            "  [ 0.00849148 -0.005376   -0.04002071 -0.15502658]\n",
            "  [ 0.08417138  0.21719259 -0.05297339 -0.23520029]\n",
            "  [ 0.06077849  0.3072863  -0.03542757 -0.32942614]\n",
            "  [-0.00950476  0.07747911  0.11314693 -0.13541614]]], shape=(1, 5, 4), dtype=float32)\n",
            "forward_h :  (1, 2) tf.Tensor([[-0.00950476  0.07747911]], shape=(1, 2), dtype=float32)\n",
            "forward_c :  (1, 2) tf.Tensor([[-0.10296938  0.7806246 ]], shape=(1, 2), dtype=float32)\n",
            "backward_h :  (1, 2) tf.Tensor([[-0.03582771  0.07830819]], shape=(1, 2), dtype=float32)\n",
            "backward_c :  (1, 2) tf.Tensor([[-0.07258392  0.22250809]], shape=(1, 2), dtype=float32)\n"
          ],
          "name": "stdout"
        }
      ]
    },
    {
      "cell_type": "markdown",
      "metadata": {
        "id": "kLmti2QISYyV"
      },
      "source": [
        "## Many-to-one"
      ]
    },
    {
      "cell_type": "code",
      "metadata": {
        "id": "mLX9Rho9SbbC",
        "outputId": "7e142b1c-0b81-4b6d-f569-5f4f0da0ea0e",
        "colab": {
          "base_uri": "https://localhost:8080/"
        }
      },
      "source": [
        "input = layers.Input(shape=(5, 8))\n",
        "x = layers.LSTM(5)(input)\n",
        "ouput = layers.Dense(10, activation='softmax')(x)\n",
        "model = models.Model(input, ouput)\n",
        "model.summary()"
      ],
      "execution_count": 13,
      "outputs": [
        {
          "output_type": "stream",
          "text": [
            "Model: \"functional_1\"\n",
            "_________________________________________________________________\n",
            "Layer (type)                 Output Shape              Param #   \n",
            "=================================================================\n",
            "input_1 (InputLayer)         [(None, 5, 8)]            0         \n",
            "_________________________________________________________________\n",
            "lstm_6 (LSTM)                (None, 5)                 280       \n",
            "_________________________________________________________________\n",
            "dense (Dense)                (None, 10)                60        \n",
            "=================================================================\n",
            "Total params: 340\n",
            "Trainable params: 340\n",
            "Non-trainable params: 0\n",
            "_________________________________________________________________\n"
          ],
          "name": "stdout"
        }
      ]
    },
    {
      "cell_type": "code",
      "metadata": {
        "id": "XT1W5B-2Td0m",
        "outputId": "019d0f75-48c6-4d9b-d1c4-88609bf87510",
        "colab": {
          "base_uri": "https://localhost:8080/"
        }
      },
      "source": [
        "# multi-layer\n",
        "input = layers.Input(shape=(5, 8))\n",
        "x1 = layers.LSTM(128, return_sequences=True)(input)\n",
        "x2 = layers.LSTM(256, return_sequences=True)(x1)\n",
        "x3 = layers.LSTM(10)(x2)\n",
        "ouput = layers.Dense(10, activation='softmax')(x3)\n",
        "model = models.Model(input, ouput)\n",
        "model.summary()"
      ],
      "execution_count": 14,
      "outputs": [
        {
          "output_type": "stream",
          "text": [
            "Model: \"functional_3\"\n",
            "_________________________________________________________________\n",
            "Layer (type)                 Output Shape              Param #   \n",
            "=================================================================\n",
            "input_2 (InputLayer)         [(None, 5, 8)]            0         \n",
            "_________________________________________________________________\n",
            "lstm_7 (LSTM)                (None, 5, 128)            70144     \n",
            "_________________________________________________________________\n",
            "lstm_8 (LSTM)                (None, 5, 256)            394240    \n",
            "_________________________________________________________________\n",
            "lstm_9 (LSTM)                (None, 10)                10680     \n",
            "_________________________________________________________________\n",
            "dense_1 (Dense)              (None, 10)                110       \n",
            "=================================================================\n",
            "Total params: 475,174\n",
            "Trainable params: 475,174\n",
            "Non-trainable params: 0\n",
            "_________________________________________________________________\n"
          ],
          "name": "stdout"
        }
      ]
    },
    {
      "cell_type": "code",
      "metadata": {
        "id": "XNoebK2JTsMN"
      },
      "source": [
        ""
      ],
      "execution_count": 14,
      "outputs": []
    },
    {
      "cell_type": "markdown",
      "metadata": {
        "id": "xgYNk_0dUVyE"
      },
      "source": [
        "# Many-to-many (same length)"
      ]
    },
    {
      "cell_type": "code",
      "metadata": {
        "id": "3ThPhdZVUkRM",
        "outputId": "b0375c3e-63fc-42d5-aa52-4b4d50888177",
        "colab": {
          "base_uri": "https://localhost:8080/"
        }
      },
      "source": [
        "input = layers.Input(shape=(50, 8))\n",
        "x = layers.LSTM(10, return_sequences=True)(input)\n",
        "output = layers.Dense(20, activation='softmax')(x)\n",
        "# output = layers.TimeDistributed(layers.Dense(20, activation='softmax'))(x)\n",
        "model = models.Model(input, output)\n",
        "model.summary()"
      ],
      "execution_count": 15,
      "outputs": [
        {
          "output_type": "stream",
          "text": [
            "Model: \"functional_5\"\n",
            "_________________________________________________________________\n",
            "Layer (type)                 Output Shape              Param #   \n",
            "=================================================================\n",
            "input_3 (InputLayer)         [(None, 50, 8)]           0         \n",
            "_________________________________________________________________\n",
            "lstm_10 (LSTM)               (None, 50, 10)            760       \n",
            "_________________________________________________________________\n",
            "dense_2 (Dense)              (None, 50, 20)            220       \n",
            "=================================================================\n",
            "Total params: 980\n",
            "Trainable params: 980\n",
            "Non-trainable params: 0\n",
            "_________________________________________________________________\n"
          ],
          "name": "stdout"
        }
      ]
    },
    {
      "cell_type": "markdown",
      "metadata": {
        "id": "ma9TzYCQWoh7"
      },
      "source": [
        "## Many-to-many (different length) : Seq2seq"
      ]
    },
    {
      "cell_type": "code",
      "metadata": {
        "id": "jGzcPsSkWuaW"
      },
      "source": [
        ""
      ],
      "execution_count": 15,
      "outputs": []
    }
  ]
}
