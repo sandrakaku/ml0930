{
  "nbformat": 4,
  "nbformat_minor": 0,
  "metadata": {
    "colab": {
      "name": "transfer.ipynb",
      "provenance": [],
      "private_outputs": true,
      "authorship_tag": "ABX9TyPJB1VQ8uLlOYPJmeE2SUvl",
      "include_colab_link": true
    },
    "kernelspec": {
      "name": "python3",
      "display_name": "Python 3"
    },
    "accelerator": "GPU"
  },
  "cells": [
    {
      "cell_type": "markdown",
      "metadata": {
        "id": "view-in-github",
        "colab_type": "text"
      },
      "source": [
        "<a href=\"https://colab.research.google.com/github/sandrakaku/ml0930/blob/master/transfer.ipynb\" target=\"_parent\"><img src=\"https://colab.research.google.com/assets/colab-badge.svg\" alt=\"Open In Colab\"/></a>"
      ]
    },
    {
      "cell_type": "code",
      "metadata": {
        "id": "wBldLCyy9b4h"
      },
      "source": [
        "# 先解壓縮\n",
        "import zipfile\n",
        "f = zipfile.ZipFile(\"drive/My Drive/train.zip\")\n",
        "f.extractall()"
      ],
      "execution_count": null,
      "outputs": []
    },
    {
      "cell_type": "code",
      "metadata": {
        "id": "w-u39Vxv-i9J"
      },
      "source": [
        "import pandas as pd\n",
        "import glob\n",
        "dogs = glob.glob(\"train/dog.*\")\n",
        "cats = glob.glob(\"train/cat.*\")\n",
        "pd.DataFrame({  # 準備路徑\n",
        "    \"path\":dogs + cats,\n",
        "    \"target\":[0] * len(dogs) +[1] * len(cats)\n",
        "})\n",
        "df"
      ],
      "execution_count": null,
      "outputs": []
    }
  ]
}