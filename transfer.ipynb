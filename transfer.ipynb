{
  "nbformat": 4,
  "nbformat_minor": 0,
  "metadata": {
    "colab": {
      "name": "transfer.ipynb",
      "provenance": [],
      "private_outputs": true,
      "collapsed_sections": [],
      "authorship_tag": "ABX9TyPKLkN97YrKZd3t+/iBx+Ch",
      "include_colab_link": true
    },
    "kernelspec": {
      "name": "python3",
      "display_name": "Python 3"
    },
    "accelerator": "GPU"
  },
  "cells": [
    {
      "cell_type": "markdown",
      "metadata": {
        "id": "view-in-github",
        "colab_type": "text"
      },
      "source": [
        "<a href=\"https://colab.research.google.com/github/sandrakaku/ml0930/blob/master/transfer.ipynb\" target=\"_parent\"><img src=\"https://colab.research.google.com/assets/colab-badge.svg\" alt=\"Open In Colab\"/></a>"
      ]
    },
    {
      "cell_type": "code",
      "metadata": {
        "id": "wBldLCyy9b4h"
      },
      "source": [
        "# 先解壓縮\n",
        "import zipfile\n",
        "f = zipfile.ZipFile(\"drive/My Drive/train.zip\")\n",
        "f.extractall()"
      ],
      "execution_count": null,
      "outputs": []
    },
    {
      "cell_type": "code",
      "metadata": {
        "id": "w-u39Vxv-i9J"
      },
      "source": [
        "import pandas as pd\n",
        "import glob\n",
        "dogs = glob.glob(\"train/dog.*\")\n",
        "cats = glob.glob(\"train/cat.*\")\n",
        "df = pd.DataFrame({  # 準備路徑\n",
        "    \"path\":dogs + cats,\n",
        "    \"target\":[0] * len(dogs) +[1] * len(cats)\n",
        "}) \n",
        "df"
      ],
      "execution_count": null,
      "outputs": []
    },
    {
      "cell_type": "code",
      "metadata": {
        "id": "fmWw5zqLC8ol"
      },
      "source": [
        "import random\n",
        "from tensorflow.keras.preprocessing.image import load_img\n",
        "idx = random.randint(0, 24999)\n",
        "load_img(df[\"path\"][idx], target_size=(224, 224))"
      ],
      "execution_count": null,
      "outputs": []
    },
    {
      "cell_type": "code",
      "metadata": {
        "id": "xpZDuJU7DbQt"
      },
      "source": [
        "import numpy as np\n",
        "from sklearn.model_selection import train_test_split\n",
        "x, y = np.array(df[\"path\"]), np.array(df[\"target\"])\n",
        "x_train, x_test, y_train, y_test = train_test_split(x, y, test_size=0.1)\n",
        "print(x_train.shape)\n",
        "print(x_test.shape)\n",
        "print(y_train.shape)\n",
        "print(y_test.shape)"
      ],
      "execution_count": null,
      "outputs": []
    },
    {
      "cell_type": "code",
      "metadata": {
        "id": "RfRX1CCRFiLj"
      },
      "source": [
        "# 學習偷模型\n",
        "from tensorflow.keras.applications import vgg16\n",
        "from tensorflow.keras.models import Sequential\n",
        "from tensorflow.keras.layers import Flatten, Dense, Dropout # 常用\n",
        "cnn = vgg16.VGG16(include_top=False, input_shape=(224, 224, 3))\n",
        "# freez一定要在Compile之前(遷移學習)\n",
        "for l in cnn.layers: # Dense前都freeze(固定)住\n",
        "  l.trainable = False\n",
        "\n",
        "mlp = [\n",
        "    Flatten(),\n",
        "    Dense(128, activation=\"relu\"),\n",
        "    Dense(2, activation=\"softmax\")\n",
        "]\n",
        "model = Sequential(cnn.layers + mlp)\n",
        "model.summary()"
      ],
      "execution_count": null,
      "outputs": []
    }
  ]
}