{
  "nbformat": 4,
  "nbformat_minor": 0,
  "metadata": {
    "colab": {
      "name": "3_FastText.ipynb",
      "provenance": [],
      "include_colab_link": true
    },
    "kernelspec": {
      "name": "python3",
      "display_name": "Python 3"
    },
    "accelerator": "GPU"
  },
  "cells": [
    {
      "cell_type": "markdown",
      "metadata": {
        "id": "view-in-github",
        "colab_type": "text"
      },
      "source": [
        "<a href=\"https://colab.research.google.com/github/sandrakaku/ml0930/blob/master/3_FastText.ipynb\" target=\"_parent\"><img src=\"https://colab.research.google.com/assets/colab-badge.svg\" alt=\"Open In Colab\"/></a>"
      ]
    },
    {
      "cell_type": "code",
      "metadata": {
        "id": "HkZo-KWNetI4",
        "outputId": "9235ab9b-ce96-4e8f-cf5e-414512976347",
        "colab": {
          "base_uri": "https://localhost:8080/",
          "height": 204
        }
      },
      "source": [
        "# 下載fasttext千錘百鍊預訓練好的詞向量\n",
        "!wget https://dl.fbaipublicfiles.com/fasttext/vectors-crawl/cc.en.300.bin.gz\n",
        "!gunzip cc.en.300.bin.gz"
      ],
      "execution_count": 1,
      "outputs": [
        {
          "output_type": "stream",
          "text": [
            "--2020-10-27 07:49:01--  https://dl.fbaipublicfiles.com/fasttext/vectors-crawl/cc.en.300.bin.gz\n",
            "Resolving dl.fbaipublicfiles.com (dl.fbaipublicfiles.com)... 172.67.9.4, 104.22.74.142, 104.22.75.142, ...\n",
            "Connecting to dl.fbaipublicfiles.com (dl.fbaipublicfiles.com)|172.67.9.4|:443... connected.\n",
            "HTTP request sent, awaiting response... 200 OK\n",
            "Length: 4503593528 (4.2G) [application/octet-stream]\n",
            "Saving to: ‘cc.en.300.bin.gz’\n",
            "\n",
            "cc.en.300.bin.gz    100%[===================>]   4.19G  47.4MB/s    in 55s     \n",
            "\n",
            "2020-10-27 07:49:56 (78.2 MB/s) - ‘cc.en.300.bin.gz’ saved [4503593528/4503593528]\n",
            "\n"
          ],
          "name": "stdout"
        }
      ]
    },
    {
      "cell_type": "code",
      "metadata": {
        "id": "eVlV9SjqgWFS"
      },
      "source": [
        "from gensim.models.fasttext import FastText\n",
        "model = FastText.load_fasttext_format('cc.en.300.bin')"
      ],
      "execution_count": 3,
      "outputs": []
    },
    {
      "cell_type": "code",
      "metadata": {
        "id": "weRojINDubAO"
      },
      "source": [
        "import warnings\n",
        "warnings.filterwarnings(\"ignore\", category=FutureWarning)"
      ],
      "execution_count": null,
      "outputs": []
    },
    {
      "cell_type": "code",
      "metadata": {
        "id": "laoDFP6-Lr4l",
        "outputId": "f4fe17cf-24fc-4f8f-9177-ac4d0d9ec432",
        "colab": {
          "base_uri": "https://localhost:8080/",
          "height": 34
        }
      },
      "source": [
        "# 我們的模型裡面有多少個詞\n",
        "len(model.wv.vocab)"
      ],
      "execution_count": null,
      "outputs": [
        {
          "output_type": "execute_result",
          "data": {
            "text/plain": [
              "2000000"
            ]
          },
          "metadata": {
            "tags": []
          },
          "execution_count": 88
        }
      ]
    },
    {
      "cell_type": "code",
      "metadata": {
        "id": "TB1eca6eGNJD",
        "outputId": "ba72565c-b1dd-4911-9174-4c1a90a2eff3",
        "colab": {
          "base_uri": "https://localhost:8080/",
          "height": 34
        }
      },
      "source": [
        "\"台灣\" in model.wv.vocab"
      ],
      "execution_count": 6,
      "outputs": [
        {
          "output_type": "execute_result",
          "data": {
            "text/plain": [
              "True"
            ]
          },
          "metadata": {
            "tags": []
          },
          "execution_count": 6
        }
      ]
    },
    {
      "cell_type": "code",
      "metadata": {
        "id": "Wue-ACwcDKmh",
        "outputId": "055cfc53-3e93-4b93-e363-da5856bc643b",
        "colab": {
          "base_uri": "https://localhost:8080/",
          "height": 1000
        }
      },
      "source": [
        "word = \"\\u53F0\\u7063\"#@param {type:\"string\"}\n",
        "print(word, \"長這樣:\")\n",
        "model.wv[word]"
      ],
      "execution_count": 7,
      "outputs": [
        {
          "output_type": "stream",
          "text": [
            "台灣 長這樣:\n"
          ],
          "name": "stdout"
        },
        {
          "output_type": "execute_result",
          "data": {
            "text/plain": [
              "array([ 3.78181517e-01, -1.00244963e+00, -6.64779961e-01, -3.60077262e-01,\n",
              "        4.48022127e-01,  1.13316521e-01,  4.52203453e-02,  4.29550499e-01,\n",
              "        2.23828316e-01,  6.64250329e-02,  1.14529586e+00, -2.39101365e-01,\n",
              "        1.68519397e-03, -2.62066841e-01,  1.74133971e-01,  2.09588155e-01,\n",
              "        2.49447405e-01,  2.04746142e-01,  8.82774070e-02, -4.45643753e-01,\n",
              "       -2.25705013e-01,  1.55523464e-01, -3.43737602e-01, -1.00367713e+00,\n",
              "        3.57164532e-01, -5.22418693e-02, -4.40408826e-01, -5.18749297e-01,\n",
              "       -5.73152602e-02,  2.76553082e+00,  9.84314829e-02, -2.40837298e-02,\n",
              "        6.64198339e-01,  2.50815034e-01,  1.76785186e-01,  1.87519133e-01,\n",
              "       -4.76255789e-02, -1.74220622e-01, -4.12662290e-02, -4.84487802e-01,\n",
              "        3.85438353e-01,  2.82875717e-01, -3.56882989e-01, -7.03595698e-01,\n",
              "        5.31433165e-01, -2.25001410e-01,  2.54427314e-01, -1.66255400e-01,\n",
              "        2.06850141e-01, -7.89008737e-01,  3.11229885e-01,  5.36973923e-02,\n",
              "       -3.52466367e-02, -4.11591887e-01, -3.55076253e-01, -5.74777067e-01,\n",
              "        1.29455015e-01, -3.33368510e-01,  1.55623853e-01, -1.61381483e-01,\n",
              "        2.80737221e-01,  7.80258477e-01,  2.76773125e-01,  1.08994558e-01,\n",
              "       -9.80890930e-01,  1.07094920e+00, -2.04980522e-02, -2.14951217e-01,\n",
              "       -2.90136367e-01,  4.83374804e-01,  4.48647171e-01, -4.97166038e-01,\n",
              "       -5.04757166e-01,  1.13445044e-01,  6.03956640e-01,  6.81166708e-01,\n",
              "        4.02239025e-01, -3.38816553e-01, -1.99284643e-01,  6.99865580e-01,\n",
              "        3.51189464e-01,  1.34839046e+00,  7.38439679e-01, -6.43115580e-01,\n",
              "       -1.67442754e-01, -3.44612509e-01, -3.01744342e-01,  3.13231260e-01,\n",
              "       -3.12200785e-01, -1.27432525e+00, -1.45400926e-01,  4.88112085e-02,\n",
              "        5.57256937e-01, -5.22328496e-01, -3.00253153e-01, -6.64054275e-01,\n",
              "        7.23804086e-02, -5.65888286e-01, -1.88063178e-02, -7.27746338e-02,\n",
              "       -9.60798562e-02,  1.79062575e-01,  7.93971658e-01,  3.20079923e-01,\n",
              "        2.46893853e-01,  3.07552963e-01, -1.52160197e-01, -1.80922791e-01,\n",
              "        4.18195873e-01, -3.64170641e-01, -7.09413469e-01,  3.93929362e-01,\n",
              "       -1.83424987e-02, -3.99301171e-01, -3.95165980e-02,  2.60290444e-01,\n",
              "       -1.09798980e+00,  1.21440530e+00, -1.72279567e-01,  8.28066885e-01,\n",
              "        2.64757752e-01,  5.72124243e-01,  8.12050030e-02,  5.38390912e-02,\n",
              "        5.25183260e-01, -4.55353081e-01,  1.53639317e-01, -1.16395526e-01,\n",
              "       -7.32460618e-01, -2.55083233e-01,  1.53941572e-01,  6.71543539e-01,\n",
              "        1.78658605e-01, -8.64752948e-01,  1.35118455e-01, -1.82595834e-01,\n",
              "       -4.01586622e-01, -9.68925804e-02,  2.39117101e-01,  3.72820675e-01,\n",
              "       -1.86002985e-01,  3.00198317e-01, -1.07927680e-01,  8.24398041e-01,\n",
              "       -1.33371159e-01, -2.66827554e-01, -1.58889425e+00, -1.86887354e-01,\n",
              "        1.41731963e-01,  5.54776311e-01, -2.47604758e-01, -7.86149085e-01,\n",
              "        5.14558442e-02, -4.12649482e-01, -2.42286891e-01,  4.96564239e-01,\n",
              "       -4.10401553e-01,  3.41946453e-01, -8.10155749e-01, -5.69750927e-03,\n",
              "       -1.09444357e-01,  2.27682531e-01,  1.07271940e-01, -6.27477467e-01,\n",
              "       -2.93508589e-01, -5.20106852e-01, -7.57566169e-02, -7.10738957e-01,\n",
              "       -7.35308928e-03, -1.41854569e-01,  5.48167884e-01,  5.01920521e-01,\n",
              "       -6.10901773e-01,  2.24150583e-01,  9.33148503e-01,  8.36209059e-02,\n",
              "        8.42357218e-01,  8.10017064e-02, -6.76643312e-01,  2.25626171e-01,\n",
              "       -6.55279398e-01, -2.72271466e-02, -1.46290898e-01,  8.11524615e-02,\n",
              "       -4.70969349e-01, -6.38225198e-01,  1.32103488e-01,  4.74367678e-01,\n",
              "       -3.65513355e-01, -4.13368076e-01, -2.30468944e-01, -7.15977311e-01,\n",
              "       -1.36849076e-01,  3.59612614e-01,  7.46322513e-01, -4.98176903e-01,\n",
              "        1.96629301e-01,  2.73301959e-01, -8.65142882e-01, -6.30001664e-01,\n",
              "        6.28077567e-01, -3.27259451e-01, -9.70235407e-01, -2.32276693e-01,\n",
              "       -1.61276102e-01, -6.55947745e-01,  3.75957489e-02,  4.91894096e-01,\n",
              "        1.02116361e-01, -8.38352144e-01, -8.67713690e-02,  4.57159460e-01,\n",
              "        2.01514989e-01, -5.01413643e-01, -2.36806631e-01, -5.18647313e-01,\n",
              "        4.34520900e-01,  7.17205703e-01,  9.67070401e-01,  1.96641609e-01,\n",
              "       -1.50794610e-01, -7.53131369e-03, -2.85940677e-01, -1.70580536e-01,\n",
              "       -5.02898991e-01, -3.16279203e-01, -2.54223496e-01, -9.69563782e-01,\n",
              "        1.26469940e-01,  6.89055383e-01,  2.62511134e-01,  4.71758574e-01,\n",
              "        5.03814995e-01, -7.73840189e-01, -6.59957170e-01,  6.68459535e-01,\n",
              "        4.28344876e-01,  2.90630221e-01,  8.69472742e-01,  6.65347219e-01,\n",
              "       -5.60222089e-01,  2.66092211e-01,  4.46152091e-01,  2.79031068e-01,\n",
              "        1.20988846e+00, -7.75779784e-01, -6.17152274e-01,  5.05058169e-01,\n",
              "       -1.38636559e-01,  1.39725968e-01,  1.14117479e+00,  4.82174337e-01,\n",
              "        3.92485201e-01,  6.39303252e-02,  4.24905658e-01,  1.75424498e-02,\n",
              "        7.90942907e-01,  1.62250161e-01, -5.85591853e-01, -1.12078890e-01,\n",
              "        1.75480723e-01,  8.41908932e-01,  2.27905810e-01, -7.19884455e-01,\n",
              "       -4.62394170e-02, -4.20230895e-01, -2.00790480e-01, -5.76802194e-02,\n",
              "       -8.51728559e-01,  3.13867003e-01, -3.21397096e-01, -2.99456328e-01,\n",
              "        3.54182899e-01, -9.77499485e-02,  3.47369999e-01, -4.37660187e-01,\n",
              "       -4.60043661e-02,  2.50365049e-01,  4.68368120e-02, -7.02898383e-01,\n",
              "        8.29284012e-01, -4.30851102e-01,  3.09607506e-01,  4.71443623e-01,\n",
              "        7.68042207e-01, -4.65969801e-01,  4.51879501e-02, -4.32058685e-02,\n",
              "        4.04803783e-01, -2.13645771e-03, -2.57371753e-01, -2.88826644e-01,\n",
              "       -1.74311161e-01, -1.99893400e-01, -3.71790111e-01, -5.57383537e-01,\n",
              "        7.73094118e-01,  6.62717342e-01, -3.49973232e-01, -3.15405475e-03],\n",
              "      dtype=float32)"
            ]
          },
          "metadata": {
            "tags": []
          },
          "execution_count": 7
        }
      ]
    },
    {
      "cell_type": "code",
      "metadata": {
        "id": "QdjjywfL8GTq",
        "outputId": "f73cde0c-c88e-43ef-b9e1-9550d2f2bd44",
        "colab": {
          "base_uri": "https://localhost:8080/",
          "height": 197
        }
      },
      "source": [
        "#@title 找出相似詞!!!\n",
        "\n",
        "text = 'Avengers' #@param {type:\"string\"}\n",
        "model.wv.most_similar(text)"
      ],
      "execution_count": null,
      "outputs": [
        {
          "output_type": "execute_result",
          "data": {
            "text/plain": [
              "[('Marvel', 0.7366355657577515),\n",
              " ('AVENGERS', 0.733731746673584),\n",
              " ('X-Men', 0.7238265872001648),\n",
              " ('post-Avengers', 0.6998780369758606),\n",
              " ('Ant-Man', 0.6993571519851685),\n",
              " ('S.H.I.E.L.D.', 0.6934853196144104),\n",
              " ('S.H.I.E.L.D', 0.6907948851585388),\n",
              " ('Ultron', 0.6720542907714844),\n",
              " ('Spider-Man', 0.6704996824264526),\n",
              " ('AoU', 0.6691584587097168)]"
            ]
          },
          "metadata": {
            "tags": []
          },
          "execution_count": 47
        }
      ]
    },
    {
      "cell_type": "code",
      "metadata": {
        "id": "lJORaH4JNzDS",
        "outputId": "b399dc60-4d43-42de-9cba-5d50cbfc0f2d",
        "colab": {
          "base_uri": "https://localhost:8080/",
          "height": 35
        }
      },
      "source": [
        "#@title 比較兩個特定詞的相似度\n",
        "\n",
        "text1 = 'Coldplay' #@param {type:\"string\"}\n",
        "text2 = 'OneRepublic' #@param {type:\"string\"}\n",
        "model.wv.similarity(text1, text2)"
      ],
      "execution_count": null,
      "outputs": [
        {
          "output_type": "execute_result",
          "data": {
            "text/plain": [
              "0.7073564"
            ]
          },
          "metadata": {
            "tags": []
          },
          "execution_count": 50
        }
      ]
    },
    {
      "cell_type": "code",
      "metadata": {
        "id": "A3m66PlJJzgo",
        "outputId": "f979a89c-9bd7-47a9-9692-f507f724d661",
        "colab": {
          "base_uri": "https://localhost:8080/",
          "height": 122
        }
      },
      "source": [
        "#@title 找到不是同一掛的詞\n",
        "\n",
        "text1 = '\\u6B50\\u5DF4\\u99AC' #@param {type:\"string\"}\n",
        "text2 = '\\u99AC\\u82F1\\u4E5D' #@param {type:\"string\"}\n",
        "text3 = '\\u90B1\\u5409\\u723E' #@param {type:\"string\"}\n",
        "text4 = '\\u856D\\u656C\\u9A30' #@param {type:\"string\"}\n",
        "\n",
        "notmatch = model.wv.doesnt_match([text1, text2, text3, text4])\n",
        "print(\"不是同一掛的:\", notmatch)"
      ],
      "execution_count": 11,
      "outputs": [
        {
          "output_type": "stream",
          "text": [
            "不是同一掛的: 馬英九\n"
          ],
          "name": "stdout"
        },
        {
          "output_type": "stream",
          "text": [
            "/usr/local/lib/python3.6/dist-packages/gensim/models/keyedvectors.py:895: FutureWarning: arrays to stack must be passed as a \"sequence\" type such as list or tuple. Support for non-sequence iterables such as generators is deprecated as of NumPy 1.16 and will raise an error in the future.\n",
            "  vectors = vstack(self.word_vec(word, use_norm=True) for word in used_words).astype(REAL)\n",
            "/usr/local/lib/python3.6/dist-packages/gensim/matutils.py:737: FutureWarning: Conversion of the second argument of issubdtype from `int` to `np.signedinteger` is deprecated. In future, it will be treated as `np.int64 == np.dtype(int).type`.\n",
            "  if np.issubdtype(vec.dtype, np.int):\n"
          ],
          "name": "stderr"
        }
      ]
    },
    {
      "cell_type": "code",
      "metadata": {
        "id": "i2kMoj47KTl1",
        "cellView": "both",
        "outputId": "a040a247-43e1-4afb-d458-cb26b0773d00",
        "colab": {
          "base_uri": "https://localhost:8080/",
          "height": 263
        }
      },
      "source": [
        "#@title 給電腦做智力測驗(詞1 - 詞3 = ? - 詞2)\n",
        "\n",
        "# text1 + text2 - text3 = ?\n",
        "# text1 - text3 = ? - text2\n",
        "text1 = 'king' #@param {type:\"string\"}\n",
        "text2 = 'woman' #@param {type:\"string\"}\n",
        "text3 = 'man' #@param {type:\"string\"}\n",
        "question = model.wv.most_similar(positive=[text1, text2], negative=[text3])\n",
        "print(text1, \"-\", text3, \"=\", \"?\", \"-\", text2)\n",
        "question"
      ],
      "execution_count": null,
      "outputs": [
        {
          "output_type": "stream",
          "text": [
            "/usr/local/lib/python3.6/dist-packages/gensim/matutils.py:737: FutureWarning: Conversion of the second argument of issubdtype from `int` to `np.signedinteger` is deprecated. In future, it will be treated as `np.int64 == np.dtype(int).type`.\n",
            "  if np.issubdtype(vec.dtype, np.int):\n"
          ],
          "name": "stderr"
        },
        {
          "output_type": "stream",
          "text": [
            "king - man = ? - woman\n"
          ],
          "name": "stdout"
        },
        {
          "output_type": "execute_result",
          "data": {
            "text/plain": [
              "[('queen', 0.7554813623428345),\n",
              " ('queen-mother', 0.6141632199287415),\n",
              " ('princess', 0.5755329132080078),\n",
              " ('monarch', 0.5741075873374939),\n",
              " ('kings', 0.5688967108726501),\n",
              " ('queenship', 0.5649925470352173),\n",
              " ('Queen', 0.5638619661331177),\n",
              " ('empress', 0.5544730424880981),\n",
              " ('consort', 0.5524798035621643),\n",
              " ('queen.The', 0.5497488379478455)]"
            ]
          },
          "metadata": {
            "tags": []
          },
          "execution_count": 3
        }
      ]
    },
    {
      "cell_type": "code",
      "metadata": {
        "id": "gi-SM9U21jvW",
        "outputId": "89be8dbe-9e3e-4e6d-e38a-534929ab9e4e",
        "colab": {
          "base_uri": "https://localhost:8080/",
          "height": 105
        }
      },
      "source": [
        "text = \"紅樓夢\"\n",
        "print(\"machine-washabled有在字典裡?\", text in model.wv.vocab)\n",
        "model.wv.similarity(text, \"西遊記\")"
      ],
      "execution_count": 13,
      "outputs": [
        {
          "output_type": "stream",
          "text": [
            "machine-washabled有在字典裡? False\n"
          ],
          "name": "stdout"
        },
        {
          "output_type": "stream",
          "text": [
            "/usr/local/lib/python3.6/dist-packages/gensim/matutils.py:737: FutureWarning: Conversion of the second argument of issubdtype from `int` to `np.signedinteger` is deprecated. In future, it will be treated as `np.int64 == np.dtype(int).type`.\n",
            "  if np.issubdtype(vec.dtype, np.int):\n"
          ],
          "name": "stderr"
        },
        {
          "output_type": "execute_result",
          "data": {
            "text/plain": [
              "0.24435882"
            ]
          },
          "metadata": {
            "tags": []
          },
          "execution_count": 13
        }
      ]
    }
  ]
}