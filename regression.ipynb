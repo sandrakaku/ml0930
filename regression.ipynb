{
  "nbformat": 4,
  "nbformat_minor": 0,
  "metadata": {
    "colab": {
      "name": "regression.ipynb",
      "provenance": [],
      "collapsed_sections": [],
      "authorship_tag": "ABX9TyPEZh+6v2MMMJNIKoyeMvgX",
      "include_colab_link": true
    },
    "kernelspec": {
      "name": "python3",
      "display_name": "Python 3"
    }
  },
  "cells": [
    {
      "cell_type": "markdown",
      "metadata": {
        "id": "view-in-github",
        "colab_type": "text"
      },
      "source": [
        "<a href=\"https://colab.research.google.com/github/sandrakaku/ml0930/blob/master/regression.ipynb\" target=\"_parent\"><img src=\"https://colab.research.google.com/assets/colab-badge.svg\" alt=\"Open In Colab\"/></a>"
      ]
    },
    {
      "cell_type": "markdown",
      "metadata": {
        "id": "zPfAUM2jE2_m"
      },
      "source": [
        ""
      ]
    },
    {
      "cell_type": "code",
      "metadata": {
        "id": "k4Z7R7Bje94g",
        "outputId": "46db30bd-0362-47ce-df02-f6dc8a41ab8e",
        "colab": {
          "base_uri": "https://localhost:8080/",
          "height": 419
        }
      },
      "source": [
        "import pandas as pd\n",
        "from sklearn.datasets import load_boston #以一個小區為單位(千)(target)\n",
        "pd.options.display.max_rows = 20\n",
        "boston = load_boston()\n",
        "df = pd.DataFrame(boston[\"data\"], columns=boston[\"feature_names\"])\n",
        "df[\"target\"] = boston[\"target\"]\n",
        "df"
      ],
      "execution_count": 1,
      "outputs": [
        {
          "output_type": "execute_result",
          "data": {
            "text/html": [
              "<div>\n",
              "<style scoped>\n",
              "    .dataframe tbody tr th:only-of-type {\n",
              "        vertical-align: middle;\n",
              "    }\n",
              "\n",
              "    .dataframe tbody tr th {\n",
              "        vertical-align: top;\n",
              "    }\n",
              "\n",
              "    .dataframe thead th {\n",
              "        text-align: right;\n",
              "    }\n",
              "</style>\n",
              "<table border=\"1\" class=\"dataframe\">\n",
              "  <thead>\n",
              "    <tr style=\"text-align: right;\">\n",
              "      <th></th>\n",
              "      <th>CRIM</th>\n",
              "      <th>ZN</th>\n",
              "      <th>INDUS</th>\n",
              "      <th>CHAS</th>\n",
              "      <th>NOX</th>\n",
              "      <th>RM</th>\n",
              "      <th>AGE</th>\n",
              "      <th>DIS</th>\n",
              "      <th>RAD</th>\n",
              "      <th>TAX</th>\n",
              "      <th>PTRATIO</th>\n",
              "      <th>B</th>\n",
              "      <th>LSTAT</th>\n",
              "      <th>target</th>\n",
              "    </tr>\n",
              "  </thead>\n",
              "  <tbody>\n",
              "    <tr>\n",
              "      <th>0</th>\n",
              "      <td>0.00632</td>\n",
              "      <td>18.0</td>\n",
              "      <td>2.31</td>\n",
              "      <td>0.0</td>\n",
              "      <td>0.538</td>\n",
              "      <td>6.575</td>\n",
              "      <td>65.2</td>\n",
              "      <td>4.0900</td>\n",
              "      <td>1.0</td>\n",
              "      <td>296.0</td>\n",
              "      <td>15.3</td>\n",
              "      <td>396.90</td>\n",
              "      <td>4.98</td>\n",
              "      <td>24.0</td>\n",
              "    </tr>\n",
              "    <tr>\n",
              "      <th>1</th>\n",
              "      <td>0.02731</td>\n",
              "      <td>0.0</td>\n",
              "      <td>7.07</td>\n",
              "      <td>0.0</td>\n",
              "      <td>0.469</td>\n",
              "      <td>6.421</td>\n",
              "      <td>78.9</td>\n",
              "      <td>4.9671</td>\n",
              "      <td>2.0</td>\n",
              "      <td>242.0</td>\n",
              "      <td>17.8</td>\n",
              "      <td>396.90</td>\n",
              "      <td>9.14</td>\n",
              "      <td>21.6</td>\n",
              "    </tr>\n",
              "    <tr>\n",
              "      <th>2</th>\n",
              "      <td>0.02729</td>\n",
              "      <td>0.0</td>\n",
              "      <td>7.07</td>\n",
              "      <td>0.0</td>\n",
              "      <td>0.469</td>\n",
              "      <td>7.185</td>\n",
              "      <td>61.1</td>\n",
              "      <td>4.9671</td>\n",
              "      <td>2.0</td>\n",
              "      <td>242.0</td>\n",
              "      <td>17.8</td>\n",
              "      <td>392.83</td>\n",
              "      <td>4.03</td>\n",
              "      <td>34.7</td>\n",
              "    </tr>\n",
              "    <tr>\n",
              "      <th>3</th>\n",
              "      <td>0.03237</td>\n",
              "      <td>0.0</td>\n",
              "      <td>2.18</td>\n",
              "      <td>0.0</td>\n",
              "      <td>0.458</td>\n",
              "      <td>6.998</td>\n",
              "      <td>45.8</td>\n",
              "      <td>6.0622</td>\n",
              "      <td>3.0</td>\n",
              "      <td>222.0</td>\n",
              "      <td>18.7</td>\n",
              "      <td>394.63</td>\n",
              "      <td>2.94</td>\n",
              "      <td>33.4</td>\n",
              "    </tr>\n",
              "    <tr>\n",
              "      <th>4</th>\n",
              "      <td>0.06905</td>\n",
              "      <td>0.0</td>\n",
              "      <td>2.18</td>\n",
              "      <td>0.0</td>\n",
              "      <td>0.458</td>\n",
              "      <td>7.147</td>\n",
              "      <td>54.2</td>\n",
              "      <td>6.0622</td>\n",
              "      <td>3.0</td>\n",
              "      <td>222.0</td>\n",
              "      <td>18.7</td>\n",
              "      <td>396.90</td>\n",
              "      <td>5.33</td>\n",
              "      <td>36.2</td>\n",
              "    </tr>\n",
              "    <tr>\n",
              "      <th>...</th>\n",
              "      <td>...</td>\n",
              "      <td>...</td>\n",
              "      <td>...</td>\n",
              "      <td>...</td>\n",
              "      <td>...</td>\n",
              "      <td>...</td>\n",
              "      <td>...</td>\n",
              "      <td>...</td>\n",
              "      <td>...</td>\n",
              "      <td>...</td>\n",
              "      <td>...</td>\n",
              "      <td>...</td>\n",
              "      <td>...</td>\n",
              "      <td>...</td>\n",
              "    </tr>\n",
              "    <tr>\n",
              "      <th>501</th>\n",
              "      <td>0.06263</td>\n",
              "      <td>0.0</td>\n",
              "      <td>11.93</td>\n",
              "      <td>0.0</td>\n",
              "      <td>0.573</td>\n",
              "      <td>6.593</td>\n",
              "      <td>69.1</td>\n",
              "      <td>2.4786</td>\n",
              "      <td>1.0</td>\n",
              "      <td>273.0</td>\n",
              "      <td>21.0</td>\n",
              "      <td>391.99</td>\n",
              "      <td>9.67</td>\n",
              "      <td>22.4</td>\n",
              "    </tr>\n",
              "    <tr>\n",
              "      <th>502</th>\n",
              "      <td>0.04527</td>\n",
              "      <td>0.0</td>\n",
              "      <td>11.93</td>\n",
              "      <td>0.0</td>\n",
              "      <td>0.573</td>\n",
              "      <td>6.120</td>\n",
              "      <td>76.7</td>\n",
              "      <td>2.2875</td>\n",
              "      <td>1.0</td>\n",
              "      <td>273.0</td>\n",
              "      <td>21.0</td>\n",
              "      <td>396.90</td>\n",
              "      <td>9.08</td>\n",
              "      <td>20.6</td>\n",
              "    </tr>\n",
              "    <tr>\n",
              "      <th>503</th>\n",
              "      <td>0.06076</td>\n",
              "      <td>0.0</td>\n",
              "      <td>11.93</td>\n",
              "      <td>0.0</td>\n",
              "      <td>0.573</td>\n",
              "      <td>6.976</td>\n",
              "      <td>91.0</td>\n",
              "      <td>2.1675</td>\n",
              "      <td>1.0</td>\n",
              "      <td>273.0</td>\n",
              "      <td>21.0</td>\n",
              "      <td>396.90</td>\n",
              "      <td>5.64</td>\n",
              "      <td>23.9</td>\n",
              "    </tr>\n",
              "    <tr>\n",
              "      <th>504</th>\n",
              "      <td>0.10959</td>\n",
              "      <td>0.0</td>\n",
              "      <td>11.93</td>\n",
              "      <td>0.0</td>\n",
              "      <td>0.573</td>\n",
              "      <td>6.794</td>\n",
              "      <td>89.3</td>\n",
              "      <td>2.3889</td>\n",
              "      <td>1.0</td>\n",
              "      <td>273.0</td>\n",
              "      <td>21.0</td>\n",
              "      <td>393.45</td>\n",
              "      <td>6.48</td>\n",
              "      <td>22.0</td>\n",
              "    </tr>\n",
              "    <tr>\n",
              "      <th>505</th>\n",
              "      <td>0.04741</td>\n",
              "      <td>0.0</td>\n",
              "      <td>11.93</td>\n",
              "      <td>0.0</td>\n",
              "      <td>0.573</td>\n",
              "      <td>6.030</td>\n",
              "      <td>80.8</td>\n",
              "      <td>2.5050</td>\n",
              "      <td>1.0</td>\n",
              "      <td>273.0</td>\n",
              "      <td>21.0</td>\n",
              "      <td>396.90</td>\n",
              "      <td>7.88</td>\n",
              "      <td>11.9</td>\n",
              "    </tr>\n",
              "  </tbody>\n",
              "</table>\n",
              "<p>506 rows × 14 columns</p>\n",
              "</div>"
            ],
            "text/plain": [
              "        CRIM    ZN  INDUS  CHAS    NOX  ...    TAX  PTRATIO       B  LSTAT  target\n",
              "0    0.00632  18.0   2.31   0.0  0.538  ...  296.0     15.3  396.90   4.98    24.0\n",
              "1    0.02731   0.0   7.07   0.0  0.469  ...  242.0     17.8  396.90   9.14    21.6\n",
              "2    0.02729   0.0   7.07   0.0  0.469  ...  242.0     17.8  392.83   4.03    34.7\n",
              "3    0.03237   0.0   2.18   0.0  0.458  ...  222.0     18.7  394.63   2.94    33.4\n",
              "4    0.06905   0.0   2.18   0.0  0.458  ...  222.0     18.7  396.90   5.33    36.2\n",
              "..       ...   ...    ...   ...    ...  ...    ...      ...     ...    ...     ...\n",
              "501  0.06263   0.0  11.93   0.0  0.573  ...  273.0     21.0  391.99   9.67    22.4\n",
              "502  0.04527   0.0  11.93   0.0  0.573  ...  273.0     21.0  396.90   9.08    20.6\n",
              "503  0.06076   0.0  11.93   0.0  0.573  ...  273.0     21.0  396.90   5.64    23.9\n",
              "504  0.10959   0.0  11.93   0.0  0.573  ...  273.0     21.0  393.45   6.48    22.0\n",
              "505  0.04741   0.0  11.93   0.0  0.573  ...  273.0     21.0  396.90   7.88    11.9\n",
              "\n",
              "[506 rows x 14 columns]"
            ]
          },
          "metadata": {
            "tags": []
          },
          "execution_count": 1
        }
      ]
    },
    {
      "cell_type": "code",
      "metadata": {
        "id": "98yaKK_AlZ9A"
      },
      "source": [
        "# 預處理: pandas/DataFrame\n",
        "# 機器學習: numpy/np.array\n",
        "import numpy as np\n",
        "from sklearn.model_selection import train_test_split \n",
        "x, y = df.drop([\"target\"], axis=1), df[\"target\"] #從DataFrame拿出來 \n",
        "x, y = np.array(x), np.array(y) #array是答案\n",
        "x_train, x_test, y_train, y_test = train_test_split(x, y, \n",
        "                            test_size=0.1\n",
        "                            #,random_state=0\n",
        "                            )\n",
        "\n",
        "\n",
        "\n",
        "\n",
        "\n"
      ],
      "execution_count": 2,
      "outputs": []
    },
    {
      "cell_type": "code",
      "metadata": {
        "id": "uzWTnHivo_eT",
        "outputId": "e92bf52c-481d-4865-b1cf-4a935c531666",
        "colab": {
          "base_uri": "https://localhost:8080/",
          "height": 119
        }
      },
      "source": [
        "from sklearn.tree import DecisionTreeRegressor\n",
        "reg = DecisionTreeRegressor(max_depth=5) #決策樹\n",
        "reg.fit(x_train, y_train)"
      ],
      "execution_count": 5,
      "outputs": [
        {
          "output_type": "execute_result",
          "data": {
            "text/plain": [
              "DecisionTreeRegressor(ccp_alpha=0.0, criterion='mse', max_depth=5,\n",
              "                      max_features=None, max_leaf_nodes=None,\n",
              "                      min_impurity_decrease=0.0, min_impurity_split=None,\n",
              "                      min_samples_leaf=1, min_samples_split=2,\n",
              "                      min_weight_fraction_leaf=0.0, presort='deprecated',\n",
              "                      random_state=None, splitter='best')"
            ]
          },
          "metadata": {
            "tags": []
          },
          "execution_count": 5
        }
      ]
    },
    {
      "cell_type": "code",
      "metadata": {
        "id": "b19EB_fj7iYK"
      },
      "source": [
        ""
      ],
      "execution_count": null,
      "outputs": []
    },
    {
      "cell_type": "code",
      "metadata": {
        "id": "pfzDGGtgqznF",
        "outputId": "dc1ac85d-a6ce-4373-d91e-9592e6a168cc",
        "colab": {
          "base_uri": "https://localhost:8080/",
          "height": 816
        }
      },
      "source": [
        "# 印出來\n",
        "import graphviz\n",
        "from sklearn.tree import export_graphviz #可以劃出方塊形狀的軟體\n",
        "g = export_graphviz(reg,\n",
        "           feature_names=boston[\"feature_names\"],\n",
        "           filled=True)\n",
        "graphviz.Source(g) #決策樹學出來的樣子"
      ],
      "execution_count": 6,
      "outputs": [
        {
          "output_type": "execute_result",
          "data": {
            "text/plain": [
              "<graphviz.files.Source at 0x7f5ba03a9128>"
            ],
            "image/svg+xml": "<?xml version=\"1.0\" encoding=\"UTF-8\" standalone=\"no\"?>\n<!DOCTYPE svg PUBLIC \"-//W3C//DTD SVG 1.1//EN\"\n \"http://www.w3.org/Graphics/SVG/1.1/DTD/svg11.dtd\">\n<!-- Generated by graphviz version 2.40.1 (20161225.0304)\n -->\n<!-- Title: Tree Pages: 1 -->\n<svg width=\"2788pt\" height=\"581pt\"\n viewBox=\"0.00 0.00 2788.00 581.00\" xmlns=\"http://www.w3.org/2000/svg\" xmlns:xlink=\"http://www.w3.org/1999/xlink\">\n<g id=\"graph0\" class=\"graph\" transform=\"scale(1 1) rotate(0) translate(4 577)\">\n<title>Tree</title>\n<polygon fill=\"#ffffff\" stroke=\"transparent\" points=\"-4,4 -4,-577 2784,-577 2784,4 -4,4\"/>\n<!-- 0 -->\n<g id=\"node1\" class=\"node\">\n<title>0</title>\n<polygon fill=\"#f6d3ba\" stroke=\"#000000\" points=\"1017,-573 899,-573 899,-505 1017,-505 1017,-573\"/>\n<text text-anchor=\"middle\" x=\"958\" y=\"-557.8\" font-family=\"Times,serif\" font-size=\"14.00\" fill=\"#000000\">LSTAT &lt;= 9.725</text>\n<text text-anchor=\"middle\" x=\"958\" y=\"-542.8\" font-family=\"Times,serif\" font-size=\"14.00\" fill=\"#000000\">mse = 85.525</text>\n<text text-anchor=\"middle\" x=\"958\" y=\"-527.8\" font-family=\"Times,serif\" font-size=\"14.00\" fill=\"#000000\">samples = 455</text>\n<text text-anchor=\"middle\" x=\"958\" y=\"-512.8\" font-family=\"Times,serif\" font-size=\"14.00\" fill=\"#000000\">value = 22.565</text>\n</g>\n<!-- 1 -->\n<g id=\"node2\" class=\"node\">\n<title>1</title>\n<polygon fill=\"#f2be99\" stroke=\"#000000\" points=\"625,-469 521,-469 521,-401 625,-401 625,-469\"/>\n<text text-anchor=\"middle\" x=\"573\" y=\"-453.8\" font-family=\"Times,serif\" font-size=\"14.00\" fill=\"#000000\">RM &lt;= 7.435</text>\n<text text-anchor=\"middle\" x=\"573\" y=\"-438.8\" font-family=\"Times,serif\" font-size=\"14.00\" fill=\"#000000\">mse = 79.425</text>\n<text text-anchor=\"middle\" x=\"573\" y=\"-423.8\" font-family=\"Times,serif\" font-size=\"14.00\" fill=\"#000000\">samples = 195</text>\n<text text-anchor=\"middle\" x=\"573\" y=\"-408.8\" font-family=\"Times,serif\" font-size=\"14.00\" fill=\"#000000\">value = 29.708</text>\n</g>\n<!-- 0&#45;&gt;1 -->\n<g id=\"edge1\" class=\"edge\">\n<title>0&#45;&gt;1</title>\n<path fill=\"none\" stroke=\"#000000\" d=\"M898.6875,-522.9779C827.2722,-503.6865 707.8877,-471.4372 635.2054,-451.8035\"/>\n<polygon fill=\"#000000\" stroke=\"#000000\" points=\"635.8362,-448.3485 625.2694,-449.1195 634.0106,-455.1063 635.8362,-448.3485\"/>\n<text text-anchor=\"middle\" x=\"637.7254\" y=\"-467.0955\" font-family=\"Times,serif\" font-size=\"14.00\" fill=\"#000000\">True</text>\n</g>\n<!-- 20 -->\n<g id=\"node21\" class=\"node\">\n<title>20</title>\n<polygon fill=\"#f9e3d4\" stroke=\"#000000\" points=\"1438.5,-469 1327.5,-469 1327.5,-401 1438.5,-401 1438.5,-469\"/>\n<text text-anchor=\"middle\" x=\"1383\" y=\"-453.8\" font-family=\"Times,serif\" font-size=\"14.00\" fill=\"#000000\">CRIM &lt;= 5.848</text>\n<text text-anchor=\"middle\" x=\"1383\" y=\"-438.8\" font-family=\"Times,serif\" font-size=\"14.00\" fill=\"#000000\">mse = 23.134</text>\n<text text-anchor=\"middle\" x=\"1383\" y=\"-423.8\" font-family=\"Times,serif\" font-size=\"14.00\" fill=\"#000000\">samples = 260</text>\n<text text-anchor=\"middle\" x=\"1383\" y=\"-408.8\" font-family=\"Times,serif\" font-size=\"14.00\" fill=\"#000000\">value = 17.208</text>\n</g>\n<!-- 0&#45;&gt;20 -->\n<g id=\"edge20\" class=\"edge\">\n<title>0&#45;&gt;20</title>\n<path fill=\"none\" stroke=\"#000000\" d=\"M1017.0944,-524.5392C1096.0261,-505.2242 1235.4219,-471.1132 1317.4849,-451.0319\"/>\n<polygon fill=\"#000000\" stroke=\"#000000\" points=\"1318.564,-454.3712 1327.4455,-448.5945 1316.9001,-447.5718 1318.564,-454.3712\"/>\n<text text-anchor=\"middle\" x=\"1314.4763\" y=\"-466.2674\" font-family=\"Times,serif\" font-size=\"14.00\" fill=\"#000000\">False</text>\n</g>\n<!-- 2 -->\n<g id=\"node3\" class=\"node\">\n<title>2</title>\n<polygon fill=\"#f3c6a5\" stroke=\"#000000\" points=\"444,-365 340,-365 340,-297 444,-297 444,-365\"/>\n<text text-anchor=\"middle\" x=\"392\" y=\"-349.8\" font-family=\"Times,serif\" font-size=\"14.00\" fill=\"#000000\">DIS &lt;= 1.485</text>\n<text text-anchor=\"middle\" x=\"392\" y=\"-334.8\" font-family=\"Times,serif\" font-size=\"14.00\" fill=\"#000000\">mse = 39.296</text>\n<text text-anchor=\"middle\" x=\"392\" y=\"-319.8\" font-family=\"Times,serif\" font-size=\"14.00\" fill=\"#000000\">samples = 166</text>\n<text text-anchor=\"middle\" x=\"392\" y=\"-304.8\" font-family=\"Times,serif\" font-size=\"14.00\" fill=\"#000000\">value = 27.049</text>\n</g>\n<!-- 1&#45;&gt;2 -->\n<g id=\"edge2\" class=\"edge\">\n<title>1&#45;&gt;2</title>\n<path fill=\"none\" stroke=\"#000000\" d=\"M520.6473,-404.9189C499.5417,-392.7919 475.0479,-378.7181 453.1315,-366.1253\"/>\n<polygon fill=\"#000000\" stroke=\"#000000\" points=\"454.6494,-362.9608 444.235,-361.0135 451.1619,-369.0303 454.6494,-362.9608\"/>\n</g>\n<!-- 11 -->\n<g id=\"node12\" class=\"node\">\n<title>11</title>\n<polygon fill=\"#e89051\" stroke=\"#000000\" points=\"625,-365 521,-365 521,-297 625,-297 625,-365\"/>\n<text text-anchor=\"middle\" x=\"573\" y=\"-349.8\" font-family=\"Times,serif\" font-size=\"14.00\" fill=\"#000000\">B &lt;= 361.925</text>\n<text text-anchor=\"middle\" x=\"573\" y=\"-334.8\" font-family=\"Times,serif\" font-size=\"14.00\" fill=\"#000000\">mse = 37.034</text>\n<text text-anchor=\"middle\" x=\"573\" y=\"-319.8\" font-family=\"Times,serif\" font-size=\"14.00\" fill=\"#000000\">samples = 29</text>\n<text text-anchor=\"middle\" x=\"573\" y=\"-304.8\" font-family=\"Times,serif\" font-size=\"14.00\" fill=\"#000000\">value = 44.928</text>\n</g>\n<!-- 1&#45;&gt;11 -->\n<g id=\"edge11\" class=\"edge\">\n<title>1&#45;&gt;11</title>\n<path fill=\"none\" stroke=\"#000000\" d=\"M573,-400.9465C573,-392.776 573,-383.9318 573,-375.3697\"/>\n<polygon fill=\"#000000\" stroke=\"#000000\" points=\"576.5001,-375.13 573,-365.13 569.5001,-375.13 576.5001,-375.13\"/>\n</g>\n<!-- 3 -->\n<g id=\"node4\" class=\"node\">\n<title>3</title>\n<polygon fill=\"#e58139\" stroke=\"#000000\" points=\"321.5,-253.5 232.5,-253.5 232.5,-200.5 321.5,-200.5 321.5,-253.5\"/>\n<text text-anchor=\"middle\" x=\"277\" y=\"-238.3\" font-family=\"Times,serif\" font-size=\"14.00\" fill=\"#000000\">mse = 0.0</text>\n<text text-anchor=\"middle\" x=\"277\" y=\"-223.3\" font-family=\"Times,serif\" font-size=\"14.00\" fill=\"#000000\">samples = 4</text>\n<text text-anchor=\"middle\" x=\"277\" y=\"-208.3\" font-family=\"Times,serif\" font-size=\"14.00\" fill=\"#000000\">value = 50.0</text>\n</g>\n<!-- 2&#45;&gt;3 -->\n<g id=\"edge3\" class=\"edge\">\n<title>2&#45;&gt;3</title>\n<path fill=\"none\" stroke=\"#000000\" d=\"M354.3447,-296.9465C341.3122,-285.1606 326.7294,-271.9726 313.7689,-260.2519\"/>\n<polygon fill=\"#000000\" stroke=\"#000000\" points=\"316.114,-257.6537 306.3495,-253.5422 311.4188,-262.8456 316.114,-257.6537\"/>\n</g>\n<!-- 4 -->\n<g id=\"node5\" class=\"node\">\n<title>4</title>\n<polygon fill=\"#f4c8a8\" stroke=\"#000000\" points=\"444,-261 340,-261 340,-193 444,-193 444,-261\"/>\n<text text-anchor=\"middle\" x=\"392\" y=\"-245.8\" font-family=\"Times,serif\" font-size=\"14.00\" fill=\"#000000\">RM &lt;= 6.797</text>\n<text text-anchor=\"middle\" x=\"392\" y=\"-230.8\" font-family=\"Times,serif\" font-size=\"14.00\" fill=\"#000000\">mse = 26.94</text>\n<text text-anchor=\"middle\" x=\"392\" y=\"-215.8\" font-family=\"Times,serif\" font-size=\"14.00\" fill=\"#000000\">samples = 162</text>\n<text text-anchor=\"middle\" x=\"392\" y=\"-200.8\" font-family=\"Times,serif\" font-size=\"14.00\" fill=\"#000000\">value = 26.483</text>\n</g>\n<!-- 2&#45;&gt;4 -->\n<g id=\"edge4\" class=\"edge\">\n<title>2&#45;&gt;4</title>\n<path fill=\"none\" stroke=\"#000000\" d=\"M392,-296.9465C392,-288.776 392,-279.9318 392,-271.3697\"/>\n<polygon fill=\"#000000\" stroke=\"#000000\" points=\"395.5001,-271.13 392,-261.13 388.5001,-271.13 395.5001,-271.13\"/>\n</g>\n<!-- 5 -->\n<g id=\"node6\" class=\"node\">\n<title>5</title>\n<polygon fill=\"#f5ceb3\" stroke=\"#000000\" points=\"226,-157 122,-157 122,-89 226,-89 226,-157\"/>\n<text text-anchor=\"middle\" x=\"174\" y=\"-141.8\" font-family=\"Times,serif\" font-size=\"14.00\" fill=\"#000000\">RM &lt;= 6.543</text>\n<text text-anchor=\"middle\" x=\"174\" y=\"-126.8\" font-family=\"Times,serif\" font-size=\"14.00\" fill=\"#000000\">mse = 12.898</text>\n<text text-anchor=\"middle\" x=\"174\" y=\"-111.8\" font-family=\"Times,serif\" font-size=\"14.00\" fill=\"#000000\">samples = 116</text>\n<text text-anchor=\"middle\" x=\"174\" y=\"-96.8\" font-family=\"Times,serif\" font-size=\"14.00\" fill=\"#000000\">value = 24.175</text>\n</g>\n<!-- 4&#45;&gt;5 -->\n<g id=\"edge5\" class=\"edge\">\n<title>4&#45;&gt;5</title>\n<path fill=\"none\" stroke=\"#000000\" d=\"M339.7249,-197.9509C336.4482,-196.2488 333.1873,-194.5859 330,-193 299.1838,-177.667 264.2797,-161.8632 235.3127,-149.1607\"/>\n<polygon fill=\"#000000\" stroke=\"#000000\" points=\"236.6942,-145.9448 226.1292,-145.15 233.8926,-152.3598 236.6942,-145.9448\"/>\n</g>\n<!-- 8 -->\n<g id=\"node9\" class=\"node\">\n<title>8</title>\n<polygon fill=\"#f0b68c\" stroke=\"#000000\" points=\"459,-157 325,-157 325,-89 459,-89 459,-157\"/>\n<text text-anchor=\"middle\" x=\"392\" y=\"-141.8\" font-family=\"Times,serif\" font-size=\"14.00\" fill=\"#000000\">PTRATIO &lt;= 19.45</text>\n<text text-anchor=\"middle\" x=\"392\" y=\"-126.8\" font-family=\"Times,serif\" font-size=\"14.00\" fill=\"#000000\">mse = 15.054</text>\n<text text-anchor=\"middle\" x=\"392\" y=\"-111.8\" font-family=\"Times,serif\" font-size=\"14.00\" fill=\"#000000\">samples = 46</text>\n<text text-anchor=\"middle\" x=\"392\" y=\"-96.8\" font-family=\"Times,serif\" font-size=\"14.00\" fill=\"#000000\">value = 32.302</text>\n</g>\n<!-- 4&#45;&gt;8 -->\n<g id=\"edge8\" class=\"edge\">\n<title>4&#45;&gt;8</title>\n<path fill=\"none\" stroke=\"#000000\" d=\"M392,-192.9465C392,-184.776 392,-175.9318 392,-167.3697\"/>\n<polygon fill=\"#000000\" stroke=\"#000000\" points=\"395.5001,-167.13 392,-157.13 388.5001,-167.13 395.5001,-167.13\"/>\n</g>\n<!-- 6 -->\n<g id=\"node7\" class=\"node\">\n<title>6</title>\n<polygon fill=\"#f6d3b9\" stroke=\"#000000\" points=\"104,-53 0,-53 0,0 104,0 104,-53\"/>\n<text text-anchor=\"middle\" x=\"52\" y=\"-37.8\" font-family=\"Times,serif\" font-size=\"14.00\" fill=\"#000000\">mse = 8.901</text>\n<text text-anchor=\"middle\" x=\"52\" y=\"-22.8\" font-family=\"Times,serif\" font-size=\"14.00\" fill=\"#000000\">samples = 79</text>\n<text text-anchor=\"middle\" x=\"52\" y=\"-7.8\" font-family=\"Times,serif\" font-size=\"14.00\" fill=\"#000000\">value = 22.832</text>\n</g>\n<!-- 5&#45;&gt;6 -->\n<g id=\"edge6\" class=\"edge\">\n<title>5&#45;&gt;6</title>\n<path fill=\"none\" stroke=\"#000000\" d=\"M130.9874,-88.9777C118.9476,-79.4545 105.8812,-69.1191 93.9065,-59.6473\"/>\n<polygon fill=\"#000000\" stroke=\"#000000\" points=\"95.8311,-56.7072 85.8167,-53.2485 91.4885,-62.1973 95.8311,-56.7072\"/>\n</g>\n<!-- 7 -->\n<g id=\"node8\" class=\"node\">\n<title>7</title>\n<polygon fill=\"#f3c6a5\" stroke=\"#000000\" points=\"226,-53 122,-53 122,0 226,0 226,-53\"/>\n<text text-anchor=\"middle\" x=\"174\" y=\"-37.8\" font-family=\"Times,serif\" font-size=\"14.00\" fill=\"#000000\">mse = 9.352</text>\n<text text-anchor=\"middle\" x=\"174\" y=\"-22.8\" font-family=\"Times,serif\" font-size=\"14.00\" fill=\"#000000\">samples = 37</text>\n<text text-anchor=\"middle\" x=\"174\" y=\"-7.8\" font-family=\"Times,serif\" font-size=\"14.00\" fill=\"#000000\">value = 27.043</text>\n</g>\n<!-- 5&#45;&gt;7 -->\n<g id=\"edge7\" class=\"edge\">\n<title>5&#45;&gt;7</title>\n<path fill=\"none\" stroke=\"#000000\" d=\"M174,-88.9777C174,-80.7364 174,-71.887 174,-63.5153\"/>\n<polygon fill=\"#000000\" stroke=\"#000000\" points=\"177.5001,-63.2484 174,-53.2485 170.5001,-63.2485 177.5001,-63.2484\"/>\n</g>\n<!-- 9 -->\n<g id=\"node10\" class=\"node\">\n<title>9</title>\n<polygon fill=\"#f0b58a\" stroke=\"#000000\" points=\"340,-53 244,-53 244,0 340,0 340,-53\"/>\n<text text-anchor=\"middle\" x=\"292\" y=\"-37.8\" font-family=\"Times,serif\" font-size=\"14.00\" fill=\"#000000\">mse = 12.218</text>\n<text text-anchor=\"middle\" x=\"292\" y=\"-22.8\" font-family=\"Times,serif\" font-size=\"14.00\" fill=\"#000000\">samples = 43</text>\n<text text-anchor=\"middle\" x=\"292\" y=\"-7.8\" font-family=\"Times,serif\" font-size=\"14.00\" fill=\"#000000\">value = 32.8</text>\n</g>\n<!-- 8&#45;&gt;9 -->\n<g id=\"edge9\" class=\"edge\">\n<title>8&#45;&gt;9</title>\n<path fill=\"none\" stroke=\"#000000\" d=\"M356.7437,-88.9777C347.0649,-79.6376 336.5765,-69.5163 326.9168,-60.1947\"/>\n<polygon fill=\"#000000\" stroke=\"#000000\" points=\"329.3449,-57.674 319.7186,-53.2485 324.4841,-62.7111 329.3449,-57.674\"/>\n</g>\n<!-- 10 -->\n<g id=\"node11\" class=\"node\">\n<title>10</title>\n<polygon fill=\"#f4cbae\" stroke=\"#000000\" points=\"462,-53 358,-53 358,0 462,0 462,-53\"/>\n<text text-anchor=\"middle\" x=\"410\" y=\"-37.8\" font-family=\"Times,serif\" font-size=\"14.00\" fill=\"#000000\">mse = 1.229</text>\n<text text-anchor=\"middle\" x=\"410\" y=\"-22.8\" font-family=\"Times,serif\" font-size=\"14.00\" fill=\"#000000\">samples = 3</text>\n<text text-anchor=\"middle\" x=\"410\" y=\"-7.8\" font-family=\"Times,serif\" font-size=\"14.00\" fill=\"#000000\">value = 25.167</text>\n</g>\n<!-- 8&#45;&gt;10 -->\n<g id=\"edge10\" class=\"edge\">\n<title>8&#45;&gt;10</title>\n<path fill=\"none\" stroke=\"#000000\" d=\"M398.3461,-88.9777C399.9004,-80.6449 401.5707,-71.6903 403.1476,-63.2364\"/>\n<polygon fill=\"#000000\" stroke=\"#000000\" points=\"406.6176,-63.7207 405.0106,-53.2485 399.7363,-62.4371 406.6176,-63.7207\"/>\n</g>\n<!-- 12 -->\n<g id=\"node13\" class=\"node\">\n<title>12</title>\n<polygon fill=\"#f6d5bd\" stroke=\"#000000\" points=\"584.5,-253.5 495.5,-253.5 495.5,-200.5 584.5,-200.5 584.5,-253.5\"/>\n<text text-anchor=\"middle\" x=\"540\" y=\"-238.3\" font-family=\"Times,serif\" font-size=\"14.00\" fill=\"#000000\">mse = 0.0</text>\n<text text-anchor=\"middle\" x=\"540\" y=\"-223.3\" font-family=\"Times,serif\" font-size=\"14.00\" fill=\"#000000\">samples = 1</text>\n<text text-anchor=\"middle\" x=\"540\" y=\"-208.3\" font-family=\"Times,serif\" font-size=\"14.00\" fill=\"#000000\">value = 21.9</text>\n</g>\n<!-- 11&#45;&gt;12 -->\n<g id=\"edge12\" class=\"edge\">\n<title>11&#45;&gt;12</title>\n<path fill=\"none\" stroke=\"#000000\" d=\"M562.1946,-296.9465C558.7694,-286.1519 554.971,-274.1813 551.4989,-263.2389\"/>\n<polygon fill=\"#000000\" stroke=\"#000000\" points=\"554.7827,-262.0152 548.422,-253.5422 548.1105,-264.1324 554.7827,-262.0152\"/>\n</g>\n<!-- 13 -->\n<g id=\"node14\" class=\"node\">\n<title>13</title>\n<polygon fill=\"#e88e4d\" stroke=\"#000000\" points=\"729.5,-261 602.5,-261 602.5,-193 729.5,-193 729.5,-261\"/>\n<text text-anchor=\"middle\" x=\"666\" y=\"-245.8\" font-family=\"Times,serif\" font-size=\"14.00\" fill=\"#000000\">PTRATIO &lt;= 17.9</text>\n<text text-anchor=\"middle\" x=\"666\" y=\"-230.8\" font-family=\"Times,serif\" font-size=\"14.00\" fill=\"#000000\">mse = 18.742</text>\n<text text-anchor=\"middle\" x=\"666\" y=\"-215.8\" font-family=\"Times,serif\" font-size=\"14.00\" fill=\"#000000\">samples = 28</text>\n<text text-anchor=\"middle\" x=\"666\" y=\"-200.8\" font-family=\"Times,serif\" font-size=\"14.00\" fill=\"#000000\">value = 45.75</text>\n</g>\n<!-- 11&#45;&gt;13 -->\n<g id=\"edge13\" class=\"edge\">\n<title>11&#45;&gt;13</title>\n<path fill=\"none\" stroke=\"#000000\" d=\"M603.4517,-296.9465C611.4806,-287.968 620.237,-278.1758 628.5867,-268.8385\"/>\n<polygon fill=\"#000000\" stroke=\"#000000\" points=\"631.423,-270.9174 635.4799,-261.13 626.205,-266.2512 631.423,-270.9174\"/>\n</g>\n<!-- 14 -->\n<g id=\"node15\" class=\"node\">\n<title>14</title>\n<polygon fill=\"#e78b49\" stroke=\"#000000\" points=\"691.5,-157 580.5,-157 580.5,-89 691.5,-89 691.5,-157\"/>\n<text text-anchor=\"middle\" x=\"636\" y=\"-141.8\" font-family=\"Times,serif\" font-size=\"14.00\" fill=\"#000000\">CRIM &lt;= 0.577</text>\n<text text-anchor=\"middle\" x=\"636\" y=\"-126.8\" font-family=\"Times,serif\" font-size=\"14.00\" fill=\"#000000\">mse = 13.757</text>\n<text text-anchor=\"middle\" x=\"636\" y=\"-111.8\" font-family=\"Times,serif\" font-size=\"14.00\" fill=\"#000000\">samples = 24</text>\n<text text-anchor=\"middle\" x=\"636\" y=\"-96.8\" font-family=\"Times,serif\" font-size=\"14.00\" fill=\"#000000\">value = 46.688</text>\n</g>\n<!-- 13&#45;&gt;14 -->\n<g id=\"edge14\" class=\"edge\">\n<title>13&#45;&gt;14</title>\n<path fill=\"none\" stroke=\"#000000\" d=\"M656.1769,-192.9465C653.7682,-184.5965 651.1566,-175.5427 648.6362,-166.8056\"/>\n<polygon fill=\"#000000\" stroke=\"#000000\" points=\"651.9798,-165.7681 645.8452,-157.13 645.254,-167.7083 651.9798,-165.7681\"/>\n</g>\n<!-- 17 -->\n<g id=\"node18\" class=\"node\">\n<title>17</title>\n<polygon fill=\"#eb9f68\" stroke=\"#000000\" points=\"820,-157 710,-157 710,-89 820,-89 820,-157\"/>\n<text text-anchor=\"middle\" x=\"765\" y=\"-141.8\" font-family=\"Times,serif\" font-size=\"14.00\" fill=\"#000000\">LSTAT &lt;= 3.89</text>\n<text text-anchor=\"middle\" x=\"765\" y=\"-126.8\" font-family=\"Times,serif\" font-size=\"14.00\" fill=\"#000000\">mse = 11.737</text>\n<text text-anchor=\"middle\" x=\"765\" y=\"-111.8\" font-family=\"Times,serif\" font-size=\"14.00\" fill=\"#000000\">samples = 4</text>\n<text text-anchor=\"middle\" x=\"765\" y=\"-96.8\" font-family=\"Times,serif\" font-size=\"14.00\" fill=\"#000000\">value = 40.125</text>\n</g>\n<!-- 13&#45;&gt;17 -->\n<g id=\"edge17\" class=\"edge\">\n<title>13&#45;&gt;17</title>\n<path fill=\"none\" stroke=\"#000000\" d=\"M698.4163,-192.9465C707.0486,-183.8782 716.4711,-173.9799 725.4395,-164.5585\"/>\n<polygon fill=\"#000000\" stroke=\"#000000\" points=\"728.1511,-166.7863 732.5109,-157.13 723.081,-161.9599 728.1511,-166.7863\"/>\n</g>\n<!-- 15 -->\n<g id=\"node16\" class=\"node\">\n<title>15</title>\n<polygon fill=\"#e88e4d\" stroke=\"#000000\" points=\"584,-53 480,-53 480,0 584,0 584,-53\"/>\n<text text-anchor=\"middle\" x=\"532\" y=\"-37.8\" font-family=\"Times,serif\" font-size=\"14.00\" fill=\"#000000\">mse = 13.73</text>\n<text text-anchor=\"middle\" x=\"532\" y=\"-22.8\" font-family=\"Times,serif\" font-size=\"14.00\" fill=\"#000000\">samples = 19</text>\n<text text-anchor=\"middle\" x=\"532\" y=\"-7.8\" font-family=\"Times,serif\" font-size=\"14.00\" fill=\"#000000\">value = 45.816</text>\n</g>\n<!-- 14&#45;&gt;15 -->\n<g id=\"edge15\" class=\"edge\">\n<title>14&#45;&gt;15</title>\n<path fill=\"none\" stroke=\"#000000\" d=\"M599.3335,-88.9777C589.2675,-79.6376 578.3596,-69.5163 568.3135,-60.1947\"/>\n<polygon fill=\"#000000\" stroke=\"#000000\" points=\"570.5385,-57.4847 560.8274,-53.2485 565.7772,-62.616 570.5385,-57.4847\"/>\n</g>\n<!-- 16 -->\n<g id=\"node17\" class=\"node\">\n<title>16</title>\n<polygon fill=\"#e58139\" stroke=\"#000000\" points=\"691.5,-53 602.5,-53 602.5,0 691.5,0 691.5,-53\"/>\n<text text-anchor=\"middle\" x=\"647\" y=\"-37.8\" font-family=\"Times,serif\" font-size=\"14.00\" fill=\"#000000\">mse = 0.0</text>\n<text text-anchor=\"middle\" x=\"647\" y=\"-22.8\" font-family=\"Times,serif\" font-size=\"14.00\" fill=\"#000000\">samples = 5</text>\n<text text-anchor=\"middle\" x=\"647\" y=\"-7.8\" font-family=\"Times,serif\" font-size=\"14.00\" fill=\"#000000\">value = 50.0</text>\n</g>\n<!-- 14&#45;&gt;16 -->\n<g id=\"edge16\" class=\"edge\">\n<title>14&#45;&gt;16</title>\n<path fill=\"none\" stroke=\"#000000\" d=\"M639.8782,-88.9777C640.828,-80.6449 641.8488,-71.6903 642.8124,-63.2364\"/>\n<polygon fill=\"#000000\" stroke=\"#000000\" points=\"646.2958,-63.5806 643.951,-53.2485 639.3408,-62.7877 646.2958,-63.5806\"/>\n</g>\n<!-- 18 -->\n<g id=\"node19\" class=\"node\">\n<title>18</title>\n<polygon fill=\"#e99559\" stroke=\"#000000\" points=\"798.5,-53 709.5,-53 709.5,0 798.5,0 798.5,-53\"/>\n<text text-anchor=\"middle\" x=\"754\" y=\"-37.8\" font-family=\"Times,serif\" font-size=\"14.00\" fill=\"#000000\">mse = 0.25</text>\n<text text-anchor=\"middle\" x=\"754\" y=\"-22.8\" font-family=\"Times,serif\" font-size=\"14.00\" fill=\"#000000\">samples = 2</text>\n<text text-anchor=\"middle\" x=\"754\" y=\"-7.8\" font-family=\"Times,serif\" font-size=\"14.00\" fill=\"#000000\">value = 43.3</text>\n</g>\n<!-- 17&#45;&gt;18 -->\n<g id=\"edge18\" class=\"edge\">\n<title>17&#45;&gt;18</title>\n<path fill=\"none\" stroke=\"#000000\" d=\"M761.1218,-88.9777C760.172,-80.6449 759.1512,-71.6903 758.1876,-63.2364\"/>\n<polygon fill=\"#000000\" stroke=\"#000000\" points=\"761.6592,-62.7877 757.049,-53.2485 754.7042,-63.5806 761.6592,-62.7877\"/>\n</g>\n<!-- 19 -->\n<g id=\"node20\" class=\"node\">\n<title>19</title>\n<polygon fill=\"#eda877\" stroke=\"#000000\" points=\"913.5,-53 816.5,-53 816.5,0 913.5,0 913.5,-53\"/>\n<text text-anchor=\"middle\" x=\"865\" y=\"-37.8\" font-family=\"Times,serif\" font-size=\"14.00\" fill=\"#000000\">mse = 3.062</text>\n<text text-anchor=\"middle\" x=\"865\" y=\"-22.8\" font-family=\"Times,serif\" font-size=\"14.00\" fill=\"#000000\">samples = 2</text>\n<text text-anchor=\"middle\" x=\"865\" y=\"-7.8\" font-family=\"Times,serif\" font-size=\"14.00\" fill=\"#000000\">value = 36.95</text>\n</g>\n<!-- 17&#45;&gt;19 -->\n<g id=\"edge19\" class=\"edge\">\n<title>17&#45;&gt;19</title>\n<path fill=\"none\" stroke=\"#000000\" d=\"M800.2563,-88.9777C809.9351,-79.6376 820.4235,-69.5163 830.0832,-60.1947\"/>\n<polygon fill=\"#000000\" stroke=\"#000000\" points=\"832.5159,-62.7111 837.2814,-53.2485 827.6551,-57.674 832.5159,-62.7111\"/>\n</g>\n<!-- 21 -->\n<g id=\"node22\" class=\"node\">\n<title>21</title>\n<polygon fill=\"#f8ddca\" stroke=\"#000000\" points=\"1445.5,-365 1320.5,-365 1320.5,-297 1445.5,-297 1445.5,-365\"/>\n<text text-anchor=\"middle\" x=\"1383\" y=\"-349.8\" font-family=\"Times,serif\" font-size=\"14.00\" fill=\"#000000\">LSTAT &lt;= 16.085</text>\n<text text-anchor=\"middle\" x=\"1383\" y=\"-334.8\" font-family=\"Times,serif\" font-size=\"14.00\" fill=\"#000000\">mse = 11.762</text>\n<text text-anchor=\"middle\" x=\"1383\" y=\"-319.8\" font-family=\"Times,serif\" font-size=\"14.00\" fill=\"#000000\">samples = 174</text>\n<text text-anchor=\"middle\" x=\"1383\" y=\"-304.8\" font-family=\"Times,serif\" font-size=\"14.00\" fill=\"#000000\">value = 19.29</text>\n</g>\n<!-- 20&#45;&gt;21 -->\n<g id=\"edge21\" class=\"edge\">\n<title>20&#45;&gt;21</title>\n<path fill=\"none\" stroke=\"#000000\" d=\"M1383,-400.9465C1383,-392.776 1383,-383.9318 1383,-375.3697\"/>\n<polygon fill=\"#000000\" stroke=\"#000000\" points=\"1386.5001,-375.13 1383,-365.13 1379.5001,-375.13 1386.5001,-375.13\"/>\n</g>\n<!-- 36 -->\n<g id=\"node37\" class=\"node\">\n<title>36</title>\n<polygon fill=\"#fcf0e7\" stroke=\"#000000\" points=\"2140,-365 2022,-365 2022,-297 2140,-297 2140,-365\"/>\n<text text-anchor=\"middle\" x=\"2081\" y=\"-349.8\" font-family=\"Times,serif\" font-size=\"14.00\" fill=\"#000000\">LSTAT &lt;= 19.85</text>\n<text text-anchor=\"middle\" x=\"2081\" y=\"-334.8\" font-family=\"Times,serif\" font-size=\"14.00\" fill=\"#000000\">mse = 19.639</text>\n<text text-anchor=\"middle\" x=\"2081\" y=\"-319.8\" font-family=\"Times,serif\" font-size=\"14.00\" fill=\"#000000\">samples = 86</text>\n<text text-anchor=\"middle\" x=\"2081\" y=\"-304.8\" font-family=\"Times,serif\" font-size=\"14.00\" fill=\"#000000\">value = 12.997</text>\n</g>\n<!-- 20&#45;&gt;36 -->\n<g id=\"edge36\" class=\"edge\">\n<title>20&#45;&gt;36</title>\n<path fill=\"none\" stroke=\"#000000\" d=\"M1438.647,-426.7088C1564.9978,-407.8829 1873.2832,-361.9492 2011.711,-341.3239\"/>\n<polygon fill=\"#000000\" stroke=\"#000000\" points=\"2012.4039,-344.7594 2021.7789,-339.8238 2011.3722,-337.8358 2012.4039,-344.7594\"/>\n</g>\n<!-- 22 -->\n<g id=\"node23\" class=\"node\">\n<title>22</title>\n<polygon fill=\"#f7d9c4\" stroke=\"#000000\" points=\"1350,-261 1246,-261 1246,-193 1350,-193 1350,-261\"/>\n<text text-anchor=\"middle\" x=\"1298\" y=\"-245.8\" font-family=\"Times,serif\" font-size=\"14.00\" fill=\"#000000\">RM &lt;= 6.938</text>\n<text text-anchor=\"middle\" x=\"1298\" y=\"-230.8\" font-family=\"Times,serif\" font-size=\"14.00\" fill=\"#000000\">mse = 7.548</text>\n<text text-anchor=\"middle\" x=\"1298\" y=\"-215.8\" font-family=\"Times,serif\" font-size=\"14.00\" fill=\"#000000\">samples = 113</text>\n<text text-anchor=\"middle\" x=\"1298\" y=\"-200.8\" font-family=\"Times,serif\" font-size=\"14.00\" fill=\"#000000\">value = 20.516</text>\n</g>\n<!-- 21&#45;&gt;22 -->\n<g id=\"edge22\" class=\"edge\">\n<title>21&#45;&gt;22</title>\n<path fill=\"none\" stroke=\"#000000\" d=\"M1355.1678,-296.9465C1347.903,-288.0578 1339.9864,-278.3716 1332.424,-269.1188\"/>\n<polygon fill=\"#000000\" stroke=\"#000000\" points=\"1334.9331,-266.658 1325.8947,-261.13 1329.513,-271.0878 1334.9331,-266.658\"/>\n</g>\n<!-- 29 -->\n<g id=\"node30\" class=\"node\">\n<title>29</title>\n<polygon fill=\"#f9e4d4\" stroke=\"#000000\" points=\"1535,-261 1401,-261 1401,-193 1535,-193 1535,-261\"/>\n<text text-anchor=\"middle\" x=\"1468\" y=\"-245.8\" font-family=\"Times,serif\" font-size=\"14.00\" fill=\"#000000\">PTRATIO &lt;= 19.65</text>\n<text text-anchor=\"middle\" x=\"1468\" y=\"-230.8\" font-family=\"Times,serif\" font-size=\"14.00\" fill=\"#000000\">mse = 11.622</text>\n<text text-anchor=\"middle\" x=\"1468\" y=\"-215.8\" font-family=\"Times,serif\" font-size=\"14.00\" fill=\"#000000\">samples = 61</text>\n<text text-anchor=\"middle\" x=\"1468\" y=\"-200.8\" font-family=\"Times,serif\" font-size=\"14.00\" fill=\"#000000\">value = 17.018</text>\n</g>\n<!-- 21&#45;&gt;29 -->\n<g id=\"edge29\" class=\"edge\">\n<title>21&#45;&gt;29</title>\n<path fill=\"none\" stroke=\"#000000\" d=\"M1410.8322,-296.9465C1418.097,-288.0578 1426.0136,-278.3716 1433.576,-269.1188\"/>\n<polygon fill=\"#000000\" stroke=\"#000000\" points=\"1436.487,-271.0878 1440.1053,-261.13 1431.0669,-266.658 1436.487,-271.0878\"/>\n</g>\n<!-- 23 -->\n<g id=\"node24\" class=\"node\">\n<title>23</title>\n<polygon fill=\"#f7dac5\" stroke=\"#000000\" points=\"1165.5,-157 1046.5,-157 1046.5,-89 1165.5,-89 1165.5,-157\"/>\n<text text-anchor=\"middle\" x=\"1106\" y=\"-141.8\" font-family=\"Times,serif\" font-size=\"14.00\" fill=\"#000000\">INDUS &lt;= 2.675</text>\n<text text-anchor=\"middle\" x=\"1106\" y=\"-126.8\" font-family=\"Times,serif\" font-size=\"14.00\" fill=\"#000000\">mse = 5.942</text>\n<text text-anchor=\"middle\" x=\"1106\" y=\"-111.8\" font-family=\"Times,serif\" font-size=\"14.00\" fill=\"#000000\">samples = 111</text>\n<text text-anchor=\"middle\" x=\"1106\" y=\"-96.8\" font-family=\"Times,serif\" font-size=\"14.00\" fill=\"#000000\">value = 20.341</text>\n</g>\n<!-- 22&#45;&gt;23 -->\n<g id=\"edge23\" class=\"edge\">\n<title>22&#45;&gt;23</title>\n<path fill=\"none\" stroke=\"#000000\" d=\"M1245.7888,-198.7189C1223.8309,-186.8251 1197.9833,-172.8243 1174.5255,-160.118\"/>\n<polygon fill=\"#000000\" stroke=\"#000000\" points=\"1176.1252,-157.004 1165.6652,-155.3187 1172.7912,-163.1591 1176.1252,-157.004\"/>\n</g>\n<!-- 26 -->\n<g id=\"node27\" class=\"node\">\n<title>26</title>\n<polygon fill=\"#f1bc96\" stroke=\"#000000\" points=\"1350,-157 1246,-157 1246,-89 1350,-89 1350,-157\"/>\n<text text-anchor=\"middle\" x=\"1298\" y=\"-141.8\" font-family=\"Times,serif\" font-size=\"14.00\" fill=\"#000000\">TAX &lt;= 465.0</text>\n<text text-anchor=\"middle\" x=\"1298\" y=\"-126.8\" font-family=\"Times,serif\" font-size=\"14.00\" fill=\"#000000\">mse = 0.202</text>\n<text text-anchor=\"middle\" x=\"1298\" y=\"-111.8\" font-family=\"Times,serif\" font-size=\"14.00\" fill=\"#000000\">samples = 2</text>\n<text text-anchor=\"middle\" x=\"1298\" y=\"-96.8\" font-family=\"Times,serif\" font-size=\"14.00\" fill=\"#000000\">value = 30.25</text>\n</g>\n<!-- 22&#45;&gt;26 -->\n<g id=\"edge26\" class=\"edge\">\n<title>22&#45;&gt;26</title>\n<path fill=\"none\" stroke=\"#000000\" d=\"M1298,-192.9465C1298,-184.776 1298,-175.9318 1298,-167.3697\"/>\n<polygon fill=\"#000000\" stroke=\"#000000\" points=\"1301.5001,-167.13 1298,-157.13 1294.5001,-167.13 1301.5001,-167.13\"/>\n</g>\n<!-- 24 -->\n<g id=\"node25\" class=\"node\">\n<title>24</title>\n<polygon fill=\"#f4cbad\" stroke=\"#000000\" points=\"1036,-53 932,-53 932,0 1036,0 1036,-53\"/>\n<text text-anchor=\"middle\" x=\"984\" y=\"-37.8\" font-family=\"Times,serif\" font-size=\"14.00\" fill=\"#000000\">mse = 15.576</text>\n<text text-anchor=\"middle\" x=\"984\" y=\"-22.8\" font-family=\"Times,serif\" font-size=\"14.00\" fill=\"#000000\">samples = 3</text>\n<text text-anchor=\"middle\" x=\"984\" y=\"-7.8\" font-family=\"Times,serif\" font-size=\"14.00\" fill=\"#000000\">value = 25.367</text>\n</g>\n<!-- 23&#45;&gt;24 -->\n<g id=\"edge24\" class=\"edge\">\n<title>23&#45;&gt;24</title>\n<path fill=\"none\" stroke=\"#000000\" d=\"M1062.9874,-88.9777C1050.9476,-79.4545 1037.8812,-69.1191 1025.9065,-59.6473\"/>\n<polygon fill=\"#000000\" stroke=\"#000000\" points=\"1027.8311,-56.7072 1017.8167,-53.2485 1023.4885,-62.1973 1027.8311,-56.7072\"/>\n</g>\n<!-- 25 -->\n<g id=\"node26\" class=\"node\">\n<title>25</title>\n<polygon fill=\"#f7dac5\" stroke=\"#000000\" points=\"1158,-53 1054,-53 1054,0 1158,0 1158,-53\"/>\n<text text-anchor=\"middle\" x=\"1106\" y=\"-37.8\" font-family=\"Times,serif\" font-size=\"14.00\" fill=\"#000000\">mse = 4.953</text>\n<text text-anchor=\"middle\" x=\"1106\" y=\"-22.8\" font-family=\"Times,serif\" font-size=\"14.00\" fill=\"#000000\">samples = 108</text>\n<text text-anchor=\"middle\" x=\"1106\" y=\"-7.8\" font-family=\"Times,serif\" font-size=\"14.00\" fill=\"#000000\">value = 20.201</text>\n</g>\n<!-- 23&#45;&gt;25 -->\n<g id=\"edge25\" class=\"edge\">\n<title>23&#45;&gt;25</title>\n<path fill=\"none\" stroke=\"#000000\" d=\"M1106,-88.9777C1106,-80.7364 1106,-71.887 1106,-63.5153\"/>\n<polygon fill=\"#000000\" stroke=\"#000000\" points=\"1109.5001,-63.2484 1106,-53.2485 1102.5001,-63.2485 1109.5001,-63.2484\"/>\n</g>\n<!-- 27 -->\n<g id=\"node28\" class=\"node\">\n<title>27</title>\n<polygon fill=\"#f1bb94\" stroke=\"#000000\" points=\"1265.5,-53 1176.5,-53 1176.5,0 1265.5,0 1265.5,-53\"/>\n<text text-anchor=\"middle\" x=\"1221\" y=\"-37.8\" font-family=\"Times,serif\" font-size=\"14.00\" fill=\"#000000\">mse = 0.0</text>\n<text text-anchor=\"middle\" x=\"1221\" y=\"-22.8\" font-family=\"Times,serif\" font-size=\"14.00\" fill=\"#000000\">samples = 1</text>\n<text text-anchor=\"middle\" x=\"1221\" y=\"-7.8\" font-family=\"Times,serif\" font-size=\"14.00\" fill=\"#000000\">value = 30.7</text>\n</g>\n<!-- 26&#45;&gt;27 -->\n<g id=\"edge27\" class=\"edge\">\n<title>26&#45;&gt;27</title>\n<path fill=\"none\" stroke=\"#000000\" d=\"M1270.8527,-88.9777C1263.6922,-80.0039 1255.9564,-70.3089 1248.7639,-61.295\"/>\n<polygon fill=\"#000000\" stroke=\"#000000\" points=\"1251.3163,-58.8821 1242.3433,-53.2485 1245.8446,-63.2481 1251.3163,-58.8821\"/>\n</g>\n<!-- 28 -->\n<g id=\"node29\" class=\"node\">\n<title>28</title>\n<polygon fill=\"#f2be98\" stroke=\"#000000\" points=\"1372.5,-53 1283.5,-53 1283.5,0 1372.5,0 1372.5,-53\"/>\n<text text-anchor=\"middle\" x=\"1328\" y=\"-37.8\" font-family=\"Times,serif\" font-size=\"14.00\" fill=\"#000000\">mse = 0.0</text>\n<text text-anchor=\"middle\" x=\"1328\" y=\"-22.8\" font-family=\"Times,serif\" font-size=\"14.00\" fill=\"#000000\">samples = 1</text>\n<text text-anchor=\"middle\" x=\"1328\" y=\"-7.8\" font-family=\"Times,serif\" font-size=\"14.00\" fill=\"#000000\">value = 29.8</text>\n</g>\n<!-- 26&#45;&gt;28 -->\n<g id=\"edge28\" class=\"edge\">\n<title>26&#45;&gt;28</title>\n<path fill=\"none\" stroke=\"#000000\" d=\"M1308.5769,-88.9777C1311.1959,-80.5533 1314.0124,-71.4934 1316.6659,-62.9579\"/>\n<polygon fill=\"#000000\" stroke=\"#000000\" points=\"1320.0579,-63.8367 1319.6844,-53.2485 1313.3735,-61.7586 1320.0579,-63.8367\"/>\n</g>\n<!-- 30 -->\n<g id=\"node31\" class=\"node\">\n<title>30</title>\n<polygon fill=\"#f8decb\" stroke=\"#000000\" points=\"1520,-157 1416,-157 1416,-89 1520,-89 1520,-157\"/>\n<text text-anchor=\"middle\" x=\"1468\" y=\"-141.8\" font-family=\"Times,serif\" font-size=\"14.00\" fill=\"#000000\">DIS &lt;= 2.016</text>\n<text text-anchor=\"middle\" x=\"1468\" y=\"-126.8\" font-family=\"Times,serif\" font-size=\"14.00\" fill=\"#000000\">mse = 10.2</text>\n<text text-anchor=\"middle\" x=\"1468\" y=\"-111.8\" font-family=\"Times,serif\" font-size=\"14.00\" fill=\"#000000\">samples = 26</text>\n<text text-anchor=\"middle\" x=\"1468\" y=\"-96.8\" font-family=\"Times,serif\" font-size=\"14.00\" fill=\"#000000\">value = 18.988</text>\n</g>\n<!-- 29&#45;&gt;30 -->\n<g id=\"edge30\" class=\"edge\">\n<title>29&#45;&gt;30</title>\n<path fill=\"none\" stroke=\"#000000\" d=\"M1468,-192.9465C1468,-184.776 1468,-175.9318 1468,-167.3697\"/>\n<polygon fill=\"#000000\" stroke=\"#000000\" points=\"1471.5001,-167.13 1468,-157.13 1464.5001,-167.13 1471.5001,-167.13\"/>\n</g>\n<!-- 33 -->\n<g id=\"node34\" class=\"node\">\n<title>33</title>\n<polygon fill=\"#fae8db\" stroke=\"#000000\" points=\"1719,-157 1615,-157 1615,-89 1719,-89 1719,-157\"/>\n<text text-anchor=\"middle\" x=\"1667\" y=\"-141.8\" font-family=\"Times,serif\" font-size=\"14.00\" fill=\"#000000\">RAD &lt;= 4.5</text>\n<text text-anchor=\"middle\" x=\"1667\" y=\"-126.8\" font-family=\"Times,serif\" font-size=\"14.00\" fill=\"#000000\">mse = 7.652</text>\n<text text-anchor=\"middle\" x=\"1667\" y=\"-111.8\" font-family=\"Times,serif\" font-size=\"14.00\" fill=\"#000000\">samples = 35</text>\n<text text-anchor=\"middle\" x=\"1667\" y=\"-96.8\" font-family=\"Times,serif\" font-size=\"14.00\" fill=\"#000000\">value = 15.554</text>\n</g>\n<!-- 29&#45;&gt;33 -->\n<g id=\"edge33\" class=\"edge\">\n<title>29&#45;&gt;33</title>\n<path fill=\"none\" stroke=\"#000000\" d=\"M1533.16,-192.9465C1556.5763,-180.7089 1582.8848,-166.9597 1605.9397,-154.9109\"/>\n<polygon fill=\"#000000\" stroke=\"#000000\" points=\"1607.6929,-157.9439 1614.9344,-150.2101 1604.4506,-151.74 1607.6929,-157.9439\"/>\n</g>\n<!-- 31 -->\n<g id=\"node32\" class=\"node\">\n<title>31</title>\n<polygon fill=\"#fae8db\" stroke=\"#000000\" points=\"1487.5,-53 1390.5,-53 1390.5,0 1487.5,0 1487.5,-53\"/>\n<text text-anchor=\"middle\" x=\"1439\" y=\"-37.8\" font-family=\"Times,serif\" font-size=\"14.00\" fill=\"#000000\">mse = 2.869</text>\n<text text-anchor=\"middle\" x=\"1439\" y=\"-22.8\" font-family=\"Times,serif\" font-size=\"14.00\" fill=\"#000000\">samples = 6</text>\n<text text-anchor=\"middle\" x=\"1439\" y=\"-7.8\" font-family=\"Times,serif\" font-size=\"14.00\" fill=\"#000000\">value = 15.55</text>\n</g>\n<!-- 30&#45;&gt;31 -->\n<g id=\"edge31\" class=\"edge\">\n<title>30&#45;&gt;31</title>\n<path fill=\"none\" stroke=\"#000000\" d=\"M1457.7757,-88.9777C1455.244,-80.5533 1452.5213,-71.4934 1449.9563,-62.9579\"/>\n<polygon fill=\"#000000\" stroke=\"#000000\" points=\"1453.2684,-61.818 1447.0384,-53.2485 1446.5646,-63.8327 1453.2684,-61.818\"/>\n</g>\n<!-- 32 -->\n<g id=\"node33\" class=\"node\">\n<title>32</title>\n<polygon fill=\"#f8dbc6\" stroke=\"#000000\" points=\"1602.5,-53 1505.5,-53 1505.5,0 1602.5,0 1602.5,-53\"/>\n<text text-anchor=\"middle\" x=\"1554\" y=\"-37.8\" font-family=\"Times,serif\" font-size=\"14.00\" fill=\"#000000\">mse = 7.789</text>\n<text text-anchor=\"middle\" x=\"1554\" y=\"-22.8\" font-family=\"Times,serif\" font-size=\"14.00\" fill=\"#000000\">samples = 20</text>\n<text text-anchor=\"middle\" x=\"1554\" y=\"-7.8\" font-family=\"Times,serif\" font-size=\"14.00\" fill=\"#000000\">value = 20.02</text>\n</g>\n<!-- 30&#45;&gt;32 -->\n<g id=\"edge32\" class=\"edge\">\n<title>30&#45;&gt;32</title>\n<path fill=\"none\" stroke=\"#000000\" d=\"M1498.3204,-88.9777C1506.481,-79.8207 1515.3108,-69.9129 1523.4821,-60.744\"/>\n<polygon fill=\"#000000\" stroke=\"#000000\" points=\"1526.1217,-63.0427 1530.162,-53.2485 1520.8958,-58.3854 1526.1217,-63.0427\"/>\n</g>\n<!-- 34 -->\n<g id=\"node35\" class=\"node\">\n<title>34</title>\n<polygon fill=\"#fbece1\" stroke=\"#000000\" points=\"1713,-53 1621,-53 1621,0 1713,0 1713,-53\"/>\n<text text-anchor=\"middle\" x=\"1667\" y=\"-37.8\" font-family=\"Times,serif\" font-size=\"14.00\" fill=\"#000000\">mse = 3.785</text>\n<text text-anchor=\"middle\" x=\"1667\" y=\"-22.8\" font-family=\"Times,serif\" font-size=\"14.00\" fill=\"#000000\">samples = 21</text>\n<text text-anchor=\"middle\" x=\"1667\" y=\"-7.8\" font-family=\"Times,serif\" font-size=\"14.00\" fill=\"#000000\">value = 14.3</text>\n</g>\n<!-- 33&#45;&gt;34 -->\n<g id=\"edge34\" class=\"edge\">\n<title>33&#45;&gt;34</title>\n<path fill=\"none\" stroke=\"#000000\" d=\"M1667,-88.9777C1667,-80.7364 1667,-71.887 1667,-63.5153\"/>\n<polygon fill=\"#000000\" stroke=\"#000000\" points=\"1670.5001,-63.2484 1667,-53.2485 1663.5001,-63.2485 1670.5001,-63.2484\"/>\n</g>\n<!-- 35 -->\n<g id=\"node36\" class=\"node\">\n<title>35</title>\n<polygon fill=\"#f9e3d3\" stroke=\"#000000\" points=\"1835,-53 1731,-53 1731,0 1835,0 1835,-53\"/>\n<text text-anchor=\"middle\" x=\"1783\" y=\"-37.8\" font-family=\"Times,serif\" font-size=\"14.00\" fill=\"#000000\">mse = 7.554</text>\n<text text-anchor=\"middle\" x=\"1783\" y=\"-22.8\" font-family=\"Times,serif\" font-size=\"14.00\" fill=\"#000000\">samples = 14</text>\n<text text-anchor=\"middle\" x=\"1783\" y=\"-7.8\" font-family=\"Times,serif\" font-size=\"14.00\" fill=\"#000000\">value = 17.436</text>\n</g>\n<!-- 33&#45;&gt;35 -->\n<g id=\"edge35\" class=\"edge\">\n<title>33&#45;&gt;35</title>\n<path fill=\"none\" stroke=\"#000000\" d=\"M1707.8973,-88.9777C1719.3449,-79.4545 1731.7687,-69.1191 1743.1545,-59.6473\"/>\n<polygon fill=\"#000000\" stroke=\"#000000\" points=\"1745.3971,-62.3345 1750.8464,-53.2485 1740.9203,-56.9532 1745.3971,-62.3345\"/>\n</g>\n<!-- 37 -->\n<g id=\"node38\" class=\"node\">\n<title>37</title>\n<polygon fill=\"#fae8db\" stroke=\"#000000\" points=\"2133,-261 2029,-261 2029,-193 2133,-193 2133,-261\"/>\n<text text-anchor=\"middle\" x=\"2081\" y=\"-245.8\" font-family=\"Times,serif\" font-size=\"14.00\" fill=\"#000000\">AGE &lt;= 99.05</text>\n<text text-anchor=\"middle\" x=\"2081\" y=\"-230.8\" font-family=\"Times,serif\" font-size=\"14.00\" fill=\"#000000\">mse = 18.713</text>\n<text text-anchor=\"middle\" x=\"2081\" y=\"-215.8\" font-family=\"Times,serif\" font-size=\"14.00\" fill=\"#000000\">samples = 40</text>\n<text text-anchor=\"middle\" x=\"2081\" y=\"-200.8\" font-family=\"Times,serif\" font-size=\"14.00\" fill=\"#000000\">value = 15.573</text>\n</g>\n<!-- 36&#45;&gt;37 -->\n<g id=\"edge37\" class=\"edge\">\n<title>36&#45;&gt;37</title>\n<path fill=\"none\" stroke=\"#000000\" d=\"M2081,-296.9465C2081,-288.776 2081,-279.9318 2081,-271.3697\"/>\n<polygon fill=\"#000000\" stroke=\"#000000\" points=\"2084.5001,-271.13 2081,-261.13 2077.5001,-271.13 2084.5001,-271.13\"/>\n</g>\n<!-- 44 -->\n<g id=\"node45\" class=\"node\">\n<title>44</title>\n<polygon fill=\"#fdf7f2\" stroke=\"#000000\" points=\"2490,-261 2384,-261 2384,-193 2490,-193 2490,-261\"/>\n<text text-anchor=\"middle\" x=\"2437\" y=\"-245.8\" font-family=\"Times,serif\" font-size=\"14.00\" fill=\"#000000\">NOX &lt;= 0.675</text>\n<text text-anchor=\"middle\" x=\"2437\" y=\"-230.8\" font-family=\"Times,serif\" font-size=\"14.00\" fill=\"#000000\">mse = 9.656</text>\n<text text-anchor=\"middle\" x=\"2437\" y=\"-215.8\" font-family=\"Times,serif\" font-size=\"14.00\" fill=\"#000000\">samples = 46</text>\n<text text-anchor=\"middle\" x=\"2437\" y=\"-200.8\" font-family=\"Times,serif\" font-size=\"14.00\" fill=\"#000000\">value = 10.757</text>\n</g>\n<!-- 36&#45;&gt;44 -->\n<g id=\"edge44\" class=\"edge\">\n<title>36&#45;&gt;44</title>\n<path fill=\"none\" stroke=\"#000000\" d=\"M2140.1858,-313.7098C2204.7847,-294.8382 2307.8067,-264.7419 2373.9071,-245.4316\"/>\n<polygon fill=\"#000000\" stroke=\"#000000\" points=\"2375.1674,-248.7098 2383.7848,-242.546 2373.2045,-241.9907 2375.1674,-248.7098\"/>\n</g>\n<!-- 38 -->\n<g id=\"node39\" class=\"node\">\n<title>38</title>\n<polygon fill=\"#fbebe0\" stroke=\"#000000\" points=\"2077.5,-157 1952.5,-157 1952.5,-89 2077.5,-89 2077.5,-157\"/>\n<text text-anchor=\"middle\" x=\"2015\" y=\"-141.8\" font-family=\"Times,serif\" font-size=\"14.00\" fill=\"#000000\">LSTAT &lt;= 14.965</text>\n<text text-anchor=\"middle\" x=\"2015\" y=\"-126.8\" font-family=\"Times,serif\" font-size=\"14.00\" fill=\"#000000\">mse = 10.763</text>\n<text text-anchor=\"middle\" x=\"2015\" y=\"-111.8\" font-family=\"Times,serif\" font-size=\"14.00\" fill=\"#000000\">samples = 33</text>\n<text text-anchor=\"middle\" x=\"2015\" y=\"-96.8\" font-family=\"Times,serif\" font-size=\"14.00\" fill=\"#000000\">value = 14.53</text>\n</g>\n<!-- 37&#45;&gt;38 -->\n<g id=\"edge38\" class=\"edge\">\n<title>37&#45;&gt;38</title>\n<path fill=\"none\" stroke=\"#000000\" d=\"M2059.3891,-192.9465C2053.8622,-184.2373 2047.8494,-174.7626 2042.0854,-165.6801\"/>\n<polygon fill=\"#000000\" stroke=\"#000000\" points=\"2044.9729,-163.6979 2036.6594,-157.13 2039.0626,-167.4487 2044.9729,-163.6979\"/>\n</g>\n<!-- 41 -->\n<g id=\"node42\" class=\"node\">\n<title>41</title>\n<polygon fill=\"#f7dac4\" stroke=\"#000000\" points=\"2200,-157 2096,-157 2096,-89 2200,-89 2200,-157\"/>\n<text text-anchor=\"middle\" x=\"2148\" y=\"-141.8\" font-family=\"Times,serif\" font-size=\"14.00\" fill=\"#000000\">DIS &lt;= 1.685</text>\n<text text-anchor=\"middle\" x=\"2148\" y=\"-126.8\" font-family=\"Times,serif\" font-size=\"14.00\" fill=\"#000000\">mse = 26.93</text>\n<text text-anchor=\"middle\" x=\"2148\" y=\"-111.8\" font-family=\"Times,serif\" font-size=\"14.00\" fill=\"#000000\">samples = 7</text>\n<text text-anchor=\"middle\" x=\"2148\" y=\"-96.8\" font-family=\"Times,serif\" font-size=\"14.00\" fill=\"#000000\">value = 20.486</text>\n</g>\n<!-- 37&#45;&gt;41 -->\n<g id=\"edge41\" class=\"edge\">\n<title>37&#45;&gt;41</title>\n<path fill=\"none\" stroke=\"#000000\" d=\"M2102.9383,-192.9465C2108.549,-184.2373 2114.6529,-174.7626 2120.5042,-165.6801\"/>\n<polygon fill=\"#000000\" stroke=\"#000000\" points=\"2123.5389,-167.4321 2126.0124,-157.13 2117.6543,-163.641 2123.5389,-167.4321\"/>\n</g>\n<!-- 39 -->\n<g id=\"node40\" class=\"node\">\n<title>39</title>\n<polygon fill=\"#f9e1d0\" stroke=\"#000000\" points=\"1950.5,-53 1853.5,-53 1853.5,0 1950.5,0 1950.5,-53\"/>\n<text text-anchor=\"middle\" x=\"1902\" y=\"-37.8\" font-family=\"Times,serif\" font-size=\"14.00\" fill=\"#000000\">mse = 12.098</text>\n<text text-anchor=\"middle\" x=\"1902\" y=\"-22.8\" font-family=\"Times,serif\" font-size=\"14.00\" fill=\"#000000\">samples = 8</text>\n<text text-anchor=\"middle\" x=\"1902\" y=\"-7.8\" font-family=\"Times,serif\" font-size=\"14.00\" fill=\"#000000\">value = 18.05</text>\n</g>\n<!-- 38&#45;&gt;39 -->\n<g id=\"edge39\" class=\"edge\">\n<title>38&#45;&gt;39</title>\n<path fill=\"none\" stroke=\"#000000\" d=\"M1975.1604,-88.9777C1964.1161,-79.546 1952.139,-69.3178 1941.1352,-59.9208\"/>\n<polygon fill=\"#000000\" stroke=\"#000000\" points=\"1943.1994,-57.081 1933.3221,-53.2485 1938.6536,-62.4041 1943.1994,-57.081\"/>\n</g>\n<!-- 40 -->\n<g id=\"node41\" class=\"node\">\n<title>40</title>\n<polygon fill=\"#fcefe6\" stroke=\"#000000\" points=\"2073,-53 1969,-53 1969,0 2073,0 2073,-53\"/>\n<text text-anchor=\"middle\" x=\"2021\" y=\"-37.8\" font-family=\"Times,serif\" font-size=\"14.00\" fill=\"#000000\">mse = 5.104</text>\n<text text-anchor=\"middle\" x=\"2021\" y=\"-22.8\" font-family=\"Times,serif\" font-size=\"14.00\" fill=\"#000000\">samples = 25</text>\n<text text-anchor=\"middle\" x=\"2021\" y=\"-7.8\" font-family=\"Times,serif\" font-size=\"14.00\" fill=\"#000000\">value = 13.404</text>\n</g>\n<!-- 38&#45;&gt;40 -->\n<g id=\"edge40\" class=\"edge\">\n<title>38&#45;&gt;40</title>\n<path fill=\"none\" stroke=\"#000000\" d=\"M2017.1154,-88.9777C2017.6335,-80.6449 2018.1902,-71.6903 2018.7159,-63.2364\"/>\n<polygon fill=\"#000000\" stroke=\"#000000\" points=\"2022.2095,-63.4464 2019.3369,-53.2485 2015.223,-63.012 2022.2095,-63.4464\"/>\n</g>\n<!-- 42 -->\n<g id=\"node43\" class=\"node\">\n<title>42</title>\n<polygon fill=\"#f5d1b7\" stroke=\"#000000\" points=\"2195,-53 2091,-53 2091,0 2195,0 2195,-53\"/>\n<text text-anchor=\"middle\" x=\"2143\" y=\"-37.8\" font-family=\"Times,serif\" font-size=\"14.00\" fill=\"#000000\">mse = 26.927</text>\n<text text-anchor=\"middle\" x=\"2143\" y=\"-22.8\" font-family=\"Times,serif\" font-size=\"14.00\" fill=\"#000000\">samples = 4</text>\n<text text-anchor=\"middle\" x=\"2143\" y=\"-7.8\" font-family=\"Times,serif\" font-size=\"14.00\" fill=\"#000000\">value = 23.375</text>\n</g>\n<!-- 41&#45;&gt;42 -->\n<g id=\"edge42\" class=\"edge\">\n<title>41&#45;&gt;42</title>\n<path fill=\"none\" stroke=\"#000000\" d=\"M2146.2372,-88.9777C2145.8054,-80.6449 2145.3415,-71.6903 2144.9034,-63.2364\"/>\n<polygon fill=\"#000000\" stroke=\"#000000\" points=\"2148.3988,-63.0539 2144.3859,-53.2485 2141.4082,-63.4162 2148.3988,-63.0539\"/>\n</g>\n<!-- 43 -->\n<g id=\"node44\" class=\"node\">\n<title>43</title>\n<polygon fill=\"#fae5d6\" stroke=\"#000000\" points=\"2317,-53 2213,-53 2213,0 2317,0 2317,-53\"/>\n<text text-anchor=\"middle\" x=\"2265\" y=\"-37.8\" font-family=\"Times,serif\" font-size=\"14.00\" fill=\"#000000\">mse = 0.962</text>\n<text text-anchor=\"middle\" x=\"2265\" y=\"-22.8\" font-family=\"Times,serif\" font-size=\"14.00\" fill=\"#000000\">samples = 3</text>\n<text text-anchor=\"middle\" x=\"2265\" y=\"-7.8\" font-family=\"Times,serif\" font-size=\"14.00\" fill=\"#000000\">value = 16.633</text>\n</g>\n<!-- 41&#45;&gt;43 -->\n<g id=\"edge43\" class=\"edge\">\n<title>41&#45;&gt;43</title>\n<path fill=\"none\" stroke=\"#000000\" d=\"M2189.2498,-88.9777C2200.7961,-79.4545 2213.3271,-69.1191 2224.811,-59.6473\"/>\n<polygon fill=\"#000000\" stroke=\"#000000\" points=\"2227.0816,-62.3115 2232.5692,-53.2485 2222.6276,-56.9113 2227.0816,-62.3115\"/>\n</g>\n<!-- 45 -->\n<g id=\"node46\" class=\"node\">\n<title>45</title>\n<polygon fill=\"#fbede3\" stroke=\"#000000\" points=\"2490,-157 2384,-157 2384,-89 2490,-89 2490,-157\"/>\n<text text-anchor=\"middle\" x=\"2437\" y=\"-141.8\" font-family=\"Times,serif\" font-size=\"14.00\" fill=\"#000000\">NOX &lt;= 0.606</text>\n<text text-anchor=\"middle\" x=\"2437\" y=\"-126.8\" font-family=\"Times,serif\" font-size=\"14.00\" fill=\"#000000\">mse = 5.031</text>\n<text text-anchor=\"middle\" x=\"2437\" y=\"-111.8\" font-family=\"Times,serif\" font-size=\"14.00\" fill=\"#000000\">samples = 15</text>\n<text text-anchor=\"middle\" x=\"2437\" y=\"-96.8\" font-family=\"Times,serif\" font-size=\"14.00\" fill=\"#000000\">value = 13.88</text>\n</g>\n<!-- 44&#45;&gt;45 -->\n<g id=\"edge45\" class=\"edge\">\n<title>44&#45;&gt;45</title>\n<path fill=\"none\" stroke=\"#000000\" d=\"M2437,-192.9465C2437,-184.776 2437,-175.9318 2437,-167.3697\"/>\n<polygon fill=\"#000000\" stroke=\"#000000\" points=\"2440.5001,-167.13 2437,-157.13 2433.5001,-167.13 2440.5001,-167.13\"/>\n</g>\n<!-- 48 -->\n<g id=\"node49\" class=\"node\">\n<title>48</title>\n<polygon fill=\"#fefbf9\" stroke=\"#000000\" points=\"2673.5,-157 2562.5,-157 2562.5,-89 2673.5,-89 2673.5,-157\"/>\n<text text-anchor=\"middle\" x=\"2618\" y=\"-141.8\" font-family=\"Times,serif\" font-size=\"14.00\" fill=\"#000000\">CRIM &lt;= 13.24</text>\n<text text-anchor=\"middle\" x=\"2618\" y=\"-126.8\" font-family=\"Times,serif\" font-size=\"14.00\" fill=\"#000000\">mse = 4.89</text>\n<text text-anchor=\"middle\" x=\"2618\" y=\"-111.8\" font-family=\"Times,serif\" font-size=\"14.00\" fill=\"#000000\">samples = 31</text>\n<text text-anchor=\"middle\" x=\"2618\" y=\"-96.8\" font-family=\"Times,serif\" font-size=\"14.00\" fill=\"#000000\">value = 9.245</text>\n</g>\n<!-- 44&#45;&gt;48 -->\n<g id=\"edge48\" class=\"edge\">\n<title>44&#45;&gt;48</title>\n<path fill=\"none\" stroke=\"#000000\" d=\"M2490.327,-196.3591C2510.1269,-184.9824 2532.8,-171.9547 2553.4922,-160.0653\"/>\n<polygon fill=\"#000000\" stroke=\"#000000\" points=\"2555.2979,-163.0644 2562.2248,-155.0476 2551.8105,-156.9949 2555.2979,-163.0644\"/>\n</g>\n<!-- 46 -->\n<g id=\"node47\" class=\"node\">\n<title>46</title>\n<polygon fill=\"#fae6d7\" stroke=\"#000000\" points=\"2432.5,-53 2335.5,-53 2335.5,0 2432.5,0 2432.5,-53\"/>\n<text text-anchor=\"middle\" x=\"2384\" y=\"-37.8\" font-family=\"Times,serif\" font-size=\"14.00\" fill=\"#000000\">mse = 2.63</text>\n<text text-anchor=\"middle\" x=\"2384\" y=\"-22.8\" font-family=\"Times,serif\" font-size=\"14.00\" fill=\"#000000\">samples = 5</text>\n<text text-anchor=\"middle\" x=\"2384\" y=\"-7.8\" font-family=\"Times,serif\" font-size=\"14.00\" fill=\"#000000\">value = 16.38</text>\n</g>\n<!-- 45&#45;&gt;46 -->\n<g id=\"edge46\" class=\"edge\">\n<title>45&#45;&gt;46</title>\n<path fill=\"none\" stroke=\"#000000\" d=\"M2418.3142,-88.9777C2413.5364,-80.2786 2408.3865,-70.9018 2403.5659,-62.1247\"/>\n<polygon fill=\"#000000\" stroke=\"#000000\" points=\"2406.5726,-60.3286 2398.6909,-53.2485 2400.4371,-63.6984 2406.5726,-60.3286\"/>\n</g>\n<!-- 47 -->\n<g id=\"node48\" class=\"node\">\n<title>47</title>\n<polygon fill=\"#fcf1e9\" stroke=\"#000000\" points=\"2547.5,-53 2450.5,-53 2450.5,0 2547.5,0 2547.5,-53\"/>\n<text text-anchor=\"middle\" x=\"2499\" y=\"-37.8\" font-family=\"Times,serif\" font-size=\"14.00\" fill=\"#000000\">mse = 1.544</text>\n<text text-anchor=\"middle\" x=\"2499\" y=\"-22.8\" font-family=\"Times,serif\" font-size=\"14.00\" fill=\"#000000\">samples = 10</text>\n<text text-anchor=\"middle\" x=\"2499\" y=\"-7.8\" font-family=\"Times,serif\" font-size=\"14.00\" fill=\"#000000\">value = 12.63</text>\n</g>\n<!-- 45&#45;&gt;47 -->\n<g id=\"edge47\" class=\"edge\">\n<title>45&#45;&gt;47</title>\n<path fill=\"none\" stroke=\"#000000\" d=\"M2458.8589,-88.9777C2464.5068,-80.187 2470.5993,-70.7044 2476.2896,-61.8477\"/>\n<polygon fill=\"#000000\" stroke=\"#000000\" points=\"2479.3537,-63.5536 2481.8144,-53.2485 2473.4644,-59.7698 2479.3537,-63.5536\"/>\n</g>\n<!-- 49 -->\n<g id=\"node50\" class=\"node\">\n<title>49</title>\n<polygon fill=\"#fdf7f2\" stroke=\"#000000\" points=\"2670,-53 2566,-53 2566,0 2670,0 2670,-53\"/>\n<text text-anchor=\"middle\" x=\"2618\" y=\"-37.8\" font-family=\"Times,serif\" font-size=\"14.00\" fill=\"#000000\">mse = 2.95</text>\n<text text-anchor=\"middle\" x=\"2618\" y=\"-22.8\" font-family=\"Times,serif\" font-size=\"14.00\" fill=\"#000000\">samples = 14</text>\n<text text-anchor=\"middle\" x=\"2618\" y=\"-7.8\" font-family=\"Times,serif\" font-size=\"14.00\" fill=\"#000000\">value = 10.757</text>\n</g>\n<!-- 48&#45;&gt;49 -->\n<g id=\"edge49\" class=\"edge\">\n<title>48&#45;&gt;49</title>\n<path fill=\"none\" stroke=\"#000000\" d=\"M2618,-88.9777C2618,-80.7364 2618,-71.887 2618,-63.5153\"/>\n<polygon fill=\"#000000\" stroke=\"#000000\" points=\"2621.5001,-63.2484 2618,-53.2485 2614.5001,-63.2485 2621.5001,-63.2484\"/>\n</g>\n<!-- 50 -->\n<g id=\"node51\" class=\"node\">\n<title>50</title>\n<polygon fill=\"#ffffff\" stroke=\"#000000\" points=\"2780,-53 2688,-53 2688,0 2780,0 2780,-53\"/>\n<text text-anchor=\"middle\" x=\"2734\" y=\"-37.8\" font-family=\"Times,serif\" font-size=\"14.00\" fill=\"#000000\">mse = 3.054</text>\n<text text-anchor=\"middle\" x=\"2734\" y=\"-22.8\" font-family=\"Times,serif\" font-size=\"14.00\" fill=\"#000000\">samples = 17</text>\n<text text-anchor=\"middle\" x=\"2734\" y=\"-7.8\" font-family=\"Times,serif\" font-size=\"14.00\" fill=\"#000000\">value = 8.0</text>\n</g>\n<!-- 48&#45;&gt;50 -->\n<g id=\"edge50\" class=\"edge\">\n<title>48&#45;&gt;50</title>\n<path fill=\"none\" stroke=\"#000000\" d=\"M2658.8973,-88.9777C2670.3449,-79.4545 2682.7687,-69.1191 2694.1545,-59.6473\"/>\n<polygon fill=\"#000000\" stroke=\"#000000\" points=\"2696.3971,-62.3345 2701.8464,-53.2485 2691.9203,-56.9532 2696.3971,-62.3345\"/>\n</g>\n</g>\n</svg>\n"
          },
          "metadata": {
            "tags": []
          },
          "execution_count": 6
        }
      ]
    },
    {
      "cell_type": "code",
      "metadata": {
        "id": "pYKCax9oGwRy",
        "outputId": "b52d56d6-c2ea-434b-f6c0-7d463cb9f40d",
        "colab": {
          "base_uri": "https://localhost:8080/",
          "height": 204
        }
      },
      "source": [
        "#from sklearn.metrics import accuracy_score(對就對錯就錯)\n",
        "pre = reg.predict(x_test)\n",
        "pre"
      ],
      "execution_count": 8,
      "outputs": [
        {
          "output_type": "execute_result",
          "data": {
            "text/plain": [
              "array([10.75714286, 50.        , 32.8       , 20.20092593, 27.04324324,\n",
              "       22.83164557, 20.20092593, 32.8       , 20.20092593, 20.20092593,\n",
              "       20.20092593, 22.83164557, 20.02      , 20.20092593, 20.20092593,\n",
              "       13.404     , 22.83164557, 32.8       , 20.20092593, 22.83164557,\n",
              "       20.20092593, 15.55      , 20.20092593, 27.04324324, 22.83164557,\n",
              "       15.55      , 13.404     ,  8.        , 20.20092593, 20.20092593,\n",
              "       22.83164557, 18.05      , 32.8       , 32.8       , 22.83164557,\n",
              "       20.20092593, 20.20092593, 14.3       , 20.20092593, 30.7       ,\n",
              "       14.3       , 20.20092593, 15.55      , 15.55      , 20.20092593,\n",
              "       20.20092593, 15.55      , 22.83164557, 50.        , 20.20092593,\n",
              "       15.55      ])"
            ]
          },
          "metadata": {
            "tags": []
          },
          "execution_count": 8
        }
      ]
    }
  ]
}