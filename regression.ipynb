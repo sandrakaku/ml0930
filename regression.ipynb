{
  "nbformat": 4,
  "nbformat_minor": 0,
  "metadata": {
    "colab": {
      "name": "regression.ipynb",
      "provenance": [],
      "collapsed_sections": [],
      "authorship_tag": "ABX9TyOkQK41Min1sL+yEos/kB7d",
      "include_colab_link": true
    },
    "kernelspec": {
      "name": "python3",
      "display_name": "Python 3"
    }
  },
  "cells": [
    {
      "cell_type": "markdown",
      "metadata": {
        "id": "view-in-github",
        "colab_type": "text"
      },
      "source": [
        "<a href=\"https://colab.research.google.com/github/sandrakaku/ml0930/blob/master/regression.ipynb\" target=\"_parent\"><img src=\"https://colab.research.google.com/assets/colab-badge.svg\" alt=\"Open In Colab\"/></a>"
      ]
    },
    {
      "cell_type": "markdown",
      "metadata": {
        "id": "zPfAUM2jE2_m"
      },
      "source": [
        ""
      ]
    },
    {
      "cell_type": "code",
      "metadata": {
        "id": "k4Z7R7Bje94g",
        "outputId": "e647b839-8317-4b62-c858-736d9e1f4173",
        "colab": {
          "base_uri": "https://localhost:8080/",
          "height": 419
        }
      },
      "source": [
        "import pandas as pd\n",
        "from sklearn.datasets import load_boston #以一個小區為單位(千)(target)\n",
        "pd.options.display.max_rows = 20\n",
        "boston = load_boston()\n",
        "df = pd.DataFrame(boston[\"data\"], columns=boston[\"feature_names\"])\n",
        "df[\"target\"] = boston[\"target\"]\n",
        "df"
      ],
      "execution_count": 9,
      "outputs": [
        {
          "output_type": "execute_result",
          "data": {
            "text/html": [
              "<div>\n",
              "<style scoped>\n",
              "    .dataframe tbody tr th:only-of-type {\n",
              "        vertical-align: middle;\n",
              "    }\n",
              "\n",
              "    .dataframe tbody tr th {\n",
              "        vertical-align: top;\n",
              "    }\n",
              "\n",
              "    .dataframe thead th {\n",
              "        text-align: right;\n",
              "    }\n",
              "</style>\n",
              "<table border=\"1\" class=\"dataframe\">\n",
              "  <thead>\n",
              "    <tr style=\"text-align: right;\">\n",
              "      <th></th>\n",
              "      <th>CRIM</th>\n",
              "      <th>ZN</th>\n",
              "      <th>INDUS</th>\n",
              "      <th>CHAS</th>\n",
              "      <th>NOX</th>\n",
              "      <th>RM</th>\n",
              "      <th>AGE</th>\n",
              "      <th>DIS</th>\n",
              "      <th>RAD</th>\n",
              "      <th>TAX</th>\n",
              "      <th>PTRATIO</th>\n",
              "      <th>B</th>\n",
              "      <th>LSTAT</th>\n",
              "      <th>target</th>\n",
              "    </tr>\n",
              "  </thead>\n",
              "  <tbody>\n",
              "    <tr>\n",
              "      <th>0</th>\n",
              "      <td>0.00632</td>\n",
              "      <td>18.0</td>\n",
              "      <td>2.31</td>\n",
              "      <td>0.0</td>\n",
              "      <td>0.538</td>\n",
              "      <td>6.575</td>\n",
              "      <td>65.2</td>\n",
              "      <td>4.0900</td>\n",
              "      <td>1.0</td>\n",
              "      <td>296.0</td>\n",
              "      <td>15.3</td>\n",
              "      <td>396.90</td>\n",
              "      <td>4.98</td>\n",
              "      <td>24.0</td>\n",
              "    </tr>\n",
              "    <tr>\n",
              "      <th>1</th>\n",
              "      <td>0.02731</td>\n",
              "      <td>0.0</td>\n",
              "      <td>7.07</td>\n",
              "      <td>0.0</td>\n",
              "      <td>0.469</td>\n",
              "      <td>6.421</td>\n",
              "      <td>78.9</td>\n",
              "      <td>4.9671</td>\n",
              "      <td>2.0</td>\n",
              "      <td>242.0</td>\n",
              "      <td>17.8</td>\n",
              "      <td>396.90</td>\n",
              "      <td>9.14</td>\n",
              "      <td>21.6</td>\n",
              "    </tr>\n",
              "    <tr>\n",
              "      <th>2</th>\n",
              "      <td>0.02729</td>\n",
              "      <td>0.0</td>\n",
              "      <td>7.07</td>\n",
              "      <td>0.0</td>\n",
              "      <td>0.469</td>\n",
              "      <td>7.185</td>\n",
              "      <td>61.1</td>\n",
              "      <td>4.9671</td>\n",
              "      <td>2.0</td>\n",
              "      <td>242.0</td>\n",
              "      <td>17.8</td>\n",
              "      <td>392.83</td>\n",
              "      <td>4.03</td>\n",
              "      <td>34.7</td>\n",
              "    </tr>\n",
              "    <tr>\n",
              "      <th>3</th>\n",
              "      <td>0.03237</td>\n",
              "      <td>0.0</td>\n",
              "      <td>2.18</td>\n",
              "      <td>0.0</td>\n",
              "      <td>0.458</td>\n",
              "      <td>6.998</td>\n",
              "      <td>45.8</td>\n",
              "      <td>6.0622</td>\n",
              "      <td>3.0</td>\n",
              "      <td>222.0</td>\n",
              "      <td>18.7</td>\n",
              "      <td>394.63</td>\n",
              "      <td>2.94</td>\n",
              "      <td>33.4</td>\n",
              "    </tr>\n",
              "    <tr>\n",
              "      <th>4</th>\n",
              "      <td>0.06905</td>\n",
              "      <td>0.0</td>\n",
              "      <td>2.18</td>\n",
              "      <td>0.0</td>\n",
              "      <td>0.458</td>\n",
              "      <td>7.147</td>\n",
              "      <td>54.2</td>\n",
              "      <td>6.0622</td>\n",
              "      <td>3.0</td>\n",
              "      <td>222.0</td>\n",
              "      <td>18.7</td>\n",
              "      <td>396.90</td>\n",
              "      <td>5.33</td>\n",
              "      <td>36.2</td>\n",
              "    </tr>\n",
              "    <tr>\n",
              "      <th>...</th>\n",
              "      <td>...</td>\n",
              "      <td>...</td>\n",
              "      <td>...</td>\n",
              "      <td>...</td>\n",
              "      <td>...</td>\n",
              "      <td>...</td>\n",
              "      <td>...</td>\n",
              "      <td>...</td>\n",
              "      <td>...</td>\n",
              "      <td>...</td>\n",
              "      <td>...</td>\n",
              "      <td>...</td>\n",
              "      <td>...</td>\n",
              "      <td>...</td>\n",
              "    </tr>\n",
              "    <tr>\n",
              "      <th>501</th>\n",
              "      <td>0.06263</td>\n",
              "      <td>0.0</td>\n",
              "      <td>11.93</td>\n",
              "      <td>0.0</td>\n",
              "      <td>0.573</td>\n",
              "      <td>6.593</td>\n",
              "      <td>69.1</td>\n",
              "      <td>2.4786</td>\n",
              "      <td>1.0</td>\n",
              "      <td>273.0</td>\n",
              "      <td>21.0</td>\n",
              "      <td>391.99</td>\n",
              "      <td>9.67</td>\n",
              "      <td>22.4</td>\n",
              "    </tr>\n",
              "    <tr>\n",
              "      <th>502</th>\n",
              "      <td>0.04527</td>\n",
              "      <td>0.0</td>\n",
              "      <td>11.93</td>\n",
              "      <td>0.0</td>\n",
              "      <td>0.573</td>\n",
              "      <td>6.120</td>\n",
              "      <td>76.7</td>\n",
              "      <td>2.2875</td>\n",
              "      <td>1.0</td>\n",
              "      <td>273.0</td>\n",
              "      <td>21.0</td>\n",
              "      <td>396.90</td>\n",
              "      <td>9.08</td>\n",
              "      <td>20.6</td>\n",
              "    </tr>\n",
              "    <tr>\n",
              "      <th>503</th>\n",
              "      <td>0.06076</td>\n",
              "      <td>0.0</td>\n",
              "      <td>11.93</td>\n",
              "      <td>0.0</td>\n",
              "      <td>0.573</td>\n",
              "      <td>6.976</td>\n",
              "      <td>91.0</td>\n",
              "      <td>2.1675</td>\n",
              "      <td>1.0</td>\n",
              "      <td>273.0</td>\n",
              "      <td>21.0</td>\n",
              "      <td>396.90</td>\n",
              "      <td>5.64</td>\n",
              "      <td>23.9</td>\n",
              "    </tr>\n",
              "    <tr>\n",
              "      <th>504</th>\n",
              "      <td>0.10959</td>\n",
              "      <td>0.0</td>\n",
              "      <td>11.93</td>\n",
              "      <td>0.0</td>\n",
              "      <td>0.573</td>\n",
              "      <td>6.794</td>\n",
              "      <td>89.3</td>\n",
              "      <td>2.3889</td>\n",
              "      <td>1.0</td>\n",
              "      <td>273.0</td>\n",
              "      <td>21.0</td>\n",
              "      <td>393.45</td>\n",
              "      <td>6.48</td>\n",
              "      <td>22.0</td>\n",
              "    </tr>\n",
              "    <tr>\n",
              "      <th>505</th>\n",
              "      <td>0.04741</td>\n",
              "      <td>0.0</td>\n",
              "      <td>11.93</td>\n",
              "      <td>0.0</td>\n",
              "      <td>0.573</td>\n",
              "      <td>6.030</td>\n",
              "      <td>80.8</td>\n",
              "      <td>2.5050</td>\n",
              "      <td>1.0</td>\n",
              "      <td>273.0</td>\n",
              "      <td>21.0</td>\n",
              "      <td>396.90</td>\n",
              "      <td>7.88</td>\n",
              "      <td>11.9</td>\n",
              "    </tr>\n",
              "  </tbody>\n",
              "</table>\n",
              "<p>506 rows × 14 columns</p>\n",
              "</div>"
            ],
            "text/plain": [
              "        CRIM    ZN  INDUS  CHAS    NOX  ...    TAX  PTRATIO       B  LSTAT  target\n",
              "0    0.00632  18.0   2.31   0.0  0.538  ...  296.0     15.3  396.90   4.98    24.0\n",
              "1    0.02731   0.0   7.07   0.0  0.469  ...  242.0     17.8  396.90   9.14    21.6\n",
              "2    0.02729   0.0   7.07   0.0  0.469  ...  242.0     17.8  392.83   4.03    34.7\n",
              "3    0.03237   0.0   2.18   0.0  0.458  ...  222.0     18.7  394.63   2.94    33.4\n",
              "4    0.06905   0.0   2.18   0.0  0.458  ...  222.0     18.7  396.90   5.33    36.2\n",
              "..       ...   ...    ...   ...    ...  ...    ...      ...     ...    ...     ...\n",
              "501  0.06263   0.0  11.93   0.0  0.573  ...  273.0     21.0  391.99   9.67    22.4\n",
              "502  0.04527   0.0  11.93   0.0  0.573  ...  273.0     21.0  396.90   9.08    20.6\n",
              "503  0.06076   0.0  11.93   0.0  0.573  ...  273.0     21.0  396.90   5.64    23.9\n",
              "504  0.10959   0.0  11.93   0.0  0.573  ...  273.0     21.0  393.45   6.48    22.0\n",
              "505  0.04741   0.0  11.93   0.0  0.573  ...  273.0     21.0  396.90   7.88    11.9\n",
              "\n",
              "[506 rows x 14 columns]"
            ]
          },
          "metadata": {
            "tags": []
          },
          "execution_count": 9
        }
      ]
    },
    {
      "cell_type": "code",
      "metadata": {
        "id": "98yaKK_AlZ9A"
      },
      "source": [
        "# 預處理: pandas/DataFrame\n",
        "# 機器學習: numpy/np.array\n",
        "import numpy as np\n",
        "from sklearn.model_selection import train_test_split \n",
        "x, y = df.drop([\"target\"], axis=1), df[\"target\"] #從DataFrame拿出來 \n",
        "x, y = np.array(x), np.array(y) #array是答案\n",
        "x_train, x_test, y_train, y_test = train_test_split(x, y, \n",
        "                            test_size=0.1\n",
        "                            #,random_state=0\n",
        "                            )\n",
        "\n",
        "\n",
        "\n",
        "\n",
        "\n"
      ],
      "execution_count": 10,
      "outputs": []
    },
    {
      "cell_type": "code",
      "metadata": {
        "id": "uzWTnHivo_eT",
        "outputId": "86f0c1e1-bb46-4670-c34c-22549aa3bc27",
        "colab": {
          "base_uri": "https://localhost:8080/",
          "height": 119
        }
      },
      "source": [
        "from sklearn.tree import DecisionTreeRegressor\n",
        "reg = DecisionTreeRegressor(max_depth=4, random_state=1) #決策樹\n",
        "reg.fit(x_train, y_train)"
      ],
      "execution_count": 18,
      "outputs": [
        {
          "output_type": "execute_result",
          "data": {
            "text/plain": [
              "DecisionTreeRegressor(ccp_alpha=0.0, criterion='mse', max_depth=6,\n",
              "                      max_features=None, max_leaf_nodes=None,\n",
              "                      min_impurity_decrease=0.0, min_impurity_split=None,\n",
              "                      min_samples_leaf=1, min_samples_split=2,\n",
              "                      min_weight_fraction_leaf=0.0, presort='deprecated',\n",
              "                      random_state=1, splitter='best')"
            ]
          },
          "metadata": {
            "tags": []
          },
          "execution_count": 18
        }
      ]
    },
    {
      "cell_type": "code",
      "metadata": {
        "id": "b19EB_fj7iYK"
      },
      "source": [
        ""
      ],
      "execution_count": 11,
      "outputs": []
    },
    {
      "cell_type": "code",
      "metadata": {
        "id": "pfzDGGtgqznF",
        "outputId": "a4a94893-e0e0-49a8-cefd-81168945e871",
        "colab": {
          "base_uri": "https://localhost:8080/",
          "height": 496
        }
      },
      "source": [
        "# 印出來\n",
        "import graphviz\n",
        "from sklearn.tree import export_graphviz #可以劃出方塊形狀的軟體\n",
        "g = export_graphviz(reg,\n",
        "           feature_names=boston[\"feature_names\"],\n",
        "           filled=True,\n",
        "           max_depth=2)\n",
        "graphviz.Source(g) #決策樹學出來的樣子"
      ],
      "execution_count": 20,
      "outputs": [
        {
          "output_type": "execute_result",
          "data": {
            "text/plain": [
              "<graphviz.files.Source at 0x7f5ba03077f0>"
            ],
            "image/svg+xml": "<?xml version=\"1.0\" encoding=\"UTF-8\" standalone=\"no\"?>\n<!DOCTYPE svg PUBLIC \"-//W3C//DTD SVG 1.1//EN\"\n \"http://www.w3.org/Graphics/SVG/1.1/DTD/svg11.dtd\">\n<!-- Generated by graphviz version 2.40.1 (20161225.0304)\n -->\n<!-- Title: Tree Pages: 1 -->\n<svg width=\"579pt\" height=\"356pt\"\n viewBox=\"0.00 0.00 579.00 356.00\" xmlns=\"http://www.w3.org/2000/svg\" xmlns:xlink=\"http://www.w3.org/1999/xlink\">\n<g id=\"graph0\" class=\"graph\" transform=\"scale(1 1) rotate(0) translate(4 352)\">\n<title>Tree</title>\n<polygon fill=\"#ffffff\" stroke=\"transparent\" points=\"-4,4 -4,-352 575,-352 575,4 -4,4\"/>\n<!-- 0 -->\n<g id=\"node1\" class=\"node\">\n<title>0</title>\n<polygon fill=\"#f6d2b8\" stroke=\"#000000\" points=\"345,-348 227,-348 227,-280 345,-280 345,-348\"/>\n<text text-anchor=\"middle\" x=\"286\" y=\"-332.8\" font-family=\"Times,serif\" font-size=\"14.00\" fill=\"#000000\">LSTAT &lt;= 9.725</text>\n<text text-anchor=\"middle\" x=\"286\" y=\"-317.8\" font-family=\"Times,serif\" font-size=\"14.00\" fill=\"#000000\">mse = 84.674</text>\n<text text-anchor=\"middle\" x=\"286\" y=\"-302.8\" font-family=\"Times,serif\" font-size=\"14.00\" fill=\"#000000\">samples = 455</text>\n<text text-anchor=\"middle\" x=\"286\" y=\"-287.8\" font-family=\"Times,serif\" font-size=\"14.00\" fill=\"#000000\">value = 22.476</text>\n</g>\n<!-- 1 -->\n<g id=\"node2\" class=\"node\">\n<title>1</title>\n<polygon fill=\"#f1bd98\" stroke=\"#000000\" points=\"272,-244 168,-244 168,-176 272,-176 272,-244\"/>\n<text text-anchor=\"middle\" x=\"220\" y=\"-228.8\" font-family=\"Times,serif\" font-size=\"14.00\" fill=\"#000000\">RM &lt;= 7.445</text>\n<text text-anchor=\"middle\" x=\"220\" y=\"-213.8\" font-family=\"Times,serif\" font-size=\"14.00\" fill=\"#000000\">mse = 78.648</text>\n<text text-anchor=\"middle\" x=\"220\" y=\"-198.8\" font-family=\"Times,serif\" font-size=\"14.00\" fill=\"#000000\">samples = 195</text>\n<text text-anchor=\"middle\" x=\"220\" y=\"-183.8\" font-family=\"Times,serif\" font-size=\"14.00\" fill=\"#000000\">value = 29.496</text>\n</g>\n<!-- 0&#45;&gt;1 -->\n<g id=\"edge1\" class=\"edge\">\n<title>0&#45;&gt;1</title>\n<path fill=\"none\" stroke=\"#000000\" d=\"M264.3891,-279.9465C258.8622,-271.2373 252.8494,-261.7626 247.0854,-252.6801\"/>\n<polygon fill=\"#000000\" stroke=\"#000000\" points=\"249.9729,-250.6979 241.6594,-244.13 244.0626,-254.4487 249.9729,-250.6979\"/>\n<text text-anchor=\"middle\" x=\"236.2058\" y=\"-264.8279\" font-family=\"Times,serif\" font-size=\"14.00\" fill=\"#000000\">True</text>\n</g>\n<!-- 34 -->\n<g id=\"node9\" class=\"node\">\n<title>34</title>\n<polygon fill=\"#f9e1d0\" stroke=\"#000000\" points=\"415.5,-244 290.5,-244 290.5,-176 415.5,-176 415.5,-244\"/>\n<text text-anchor=\"middle\" x=\"353\" y=\"-228.8\" font-family=\"Times,serif\" font-size=\"14.00\" fill=\"#000000\">LSTAT &lt;= 16.085</text>\n<text text-anchor=\"middle\" x=\"353\" y=\"-213.8\" font-family=\"Times,serif\" font-size=\"14.00\" fill=\"#000000\">mse = 24.516</text>\n<text text-anchor=\"middle\" x=\"353\" y=\"-198.8\" font-family=\"Times,serif\" font-size=\"14.00\" fill=\"#000000\">samples = 260</text>\n<text text-anchor=\"middle\" x=\"353\" y=\"-183.8\" font-family=\"Times,serif\" font-size=\"14.00\" fill=\"#000000\">value = 17.211</text>\n</g>\n<!-- 0&#45;&gt;34 -->\n<g id=\"edge8\" class=\"edge\">\n<title>0&#45;&gt;34</title>\n<path fill=\"none\" stroke=\"#000000\" d=\"M307.9383,-279.9465C313.549,-271.2373 319.6529,-261.7626 325.5042,-252.6801\"/>\n<polygon fill=\"#000000\" stroke=\"#000000\" points=\"328.5389,-254.4321 331.0124,-244.13 322.6543,-250.641 328.5389,-254.4321\"/>\n<text text-anchor=\"middle\" x=\"336.2994\" y=\"-264.8646\" font-family=\"Times,serif\" font-size=\"14.00\" fill=\"#000000\">False</text>\n</g>\n<!-- 2 -->\n<g id=\"node3\" class=\"node\">\n<title>2</title>\n<polygon fill=\"#f3c4a3\" stroke=\"#000000\" points=\"148,-140 44,-140 44,-72 148,-72 148,-140\"/>\n<text text-anchor=\"middle\" x=\"96\" y=\"-124.8\" font-family=\"Times,serif\" font-size=\"14.00\" fill=\"#000000\">DIS &lt;= 1.485</text>\n<text text-anchor=\"middle\" x=\"96\" y=\"-109.8\" font-family=\"Times,serif\" font-size=\"14.00\" fill=\"#000000\">mse = 41.66</text>\n<text text-anchor=\"middle\" x=\"96\" y=\"-94.8\" font-family=\"Times,serif\" font-size=\"14.00\" fill=\"#000000\">samples = 169</text>\n<text text-anchor=\"middle\" x=\"96\" y=\"-79.8\" font-family=\"Times,serif\" font-size=\"14.00\" fill=\"#000000\">value = 27.089</text>\n</g>\n<!-- 1&#45;&gt;2 -->\n<g id=\"edge2\" class=\"edge\">\n<title>1&#45;&gt;2</title>\n<path fill=\"none\" stroke=\"#000000\" d=\"M179.3978,-175.9465C168.2644,-166.6088 156.0817,-156.3911 144.5511,-146.7203\"/>\n<polygon fill=\"#000000\" stroke=\"#000000\" points=\"146.6046,-143.8745 136.6935,-140.13 142.1062,-149.2378 146.6046,-143.8745\"/>\n</g>\n<!-- 19 -->\n<g id=\"node6\" class=\"node\">\n<title>19</title>\n<polygon fill=\"#e88f4f\" stroke=\"#000000\" points=\"277.5,-140 166.5,-140 166.5,-72 277.5,-72 277.5,-140\"/>\n<text text-anchor=\"middle\" x=\"222\" y=\"-124.8\" font-family=\"Times,serif\" font-size=\"14.00\" fill=\"#000000\">CRIM &lt;= 2.742</text>\n<text text-anchor=\"middle\" x=\"222\" y=\"-109.8\" font-family=\"Times,serif\" font-size=\"14.00\" fill=\"#000000\">mse = 36.599</text>\n<text text-anchor=\"middle\" x=\"222\" y=\"-94.8\" font-family=\"Times,serif\" font-size=\"14.00\" fill=\"#000000\">samples = 26</text>\n<text text-anchor=\"middle\" x=\"222\" y=\"-79.8\" font-family=\"Times,serif\" font-size=\"14.00\" fill=\"#000000\">value = 45.142</text>\n</g>\n<!-- 1&#45;&gt;19 -->\n<g id=\"edge5\" class=\"edge\">\n<title>1&#45;&gt;19</title>\n<path fill=\"none\" stroke=\"#000000\" d=\"M220.6549,-175.9465C220.812,-167.776 220.9821,-158.9318 221.1467,-150.3697\"/>\n<polygon fill=\"#000000\" stroke=\"#000000\" points=\"224.6506,-150.1955 221.3437,-140.13 217.6519,-150.0608 224.6506,-150.1955\"/>\n</g>\n<!-- 3 -->\n<g id=\"node4\" class=\"node\">\n<title>3</title>\n<polygon fill=\"#c0c0c0\" stroke=\"#000000\" points=\"54,-36 0,-36 0,0 54,0 54,-36\"/>\n<text text-anchor=\"middle\" x=\"27\" y=\"-14.3\" font-family=\"Times,serif\" font-size=\"14.00\" fill=\"#000000\">(...)</text>\n</g>\n<!-- 2&#45;&gt;3 -->\n<g id=\"edge3\" class=\"edge\">\n<title>2&#45;&gt;3</title>\n<path fill=\"none\" stroke=\"#000000\" d=\"M69.3228,-71.9769C62.0807,-62.7406 54.3531,-52.8851 47.5097,-44.1573\"/>\n<polygon fill=\"#000000\" stroke=\"#000000\" points=\"50.1888,-41.9017 41.2641,-36.192 44.6802,-46.221 50.1888,-41.9017\"/>\n</g>\n<!-- 4 -->\n<g id=\"node5\" class=\"node\">\n<title>4</title>\n<polygon fill=\"#c0c0c0\" stroke=\"#000000\" points=\"126,-36 72,-36 72,0 126,0 126,-36\"/>\n<text text-anchor=\"middle\" x=\"99\" y=\"-14.3\" font-family=\"Times,serif\" font-size=\"14.00\" fill=\"#000000\">(...)</text>\n</g>\n<!-- 2&#45;&gt;4 -->\n<g id=\"edge4\" class=\"edge\">\n<title>2&#45;&gt;4</title>\n<path fill=\"none\" stroke=\"#000000\" d=\"M97.1599,-71.9769C97.4488,-63.5023 97.7555,-54.5065 98.0339,-46.3388\"/>\n<polygon fill=\"#000000\" stroke=\"#000000\" points=\"101.537,-46.3054 98.3798,-36.192 94.541,-46.0669 101.537,-46.3054\"/>\n</g>\n<!-- 20 -->\n<g id=\"node7\" class=\"node\">\n<title>20</title>\n<polygon fill=\"#c0c0c0\" stroke=\"#000000\" points=\"205,-36 151,-36 151,0 205,0 205,-36\"/>\n<text text-anchor=\"middle\" x=\"178\" y=\"-14.3\" font-family=\"Times,serif\" font-size=\"14.00\" fill=\"#000000\">(...)</text>\n</g>\n<!-- 19&#45;&gt;20 -->\n<g id=\"edge6\" class=\"edge\">\n<title>19&#45;&gt;20</title>\n<path fill=\"none\" stroke=\"#000000\" d=\"M204.9885,-71.9769C200.5607,-63.1215 195.8484,-53.6969 191.6213,-45.2427\"/>\n<polygon fill=\"#000000\" stroke=\"#000000\" points=\"194.6987,-43.571 187.096,-36.192 188.4377,-46.7015 194.6987,-43.571\"/>\n</g>\n<!-- 33 -->\n<g id=\"node8\" class=\"node\">\n<title>33</title>\n<polygon fill=\"#c0c0c0\" stroke=\"#000000\" points=\"277,-36 223,-36 223,0 277,0 277,-36\"/>\n<text text-anchor=\"middle\" x=\"250\" y=\"-14.3\" font-family=\"Times,serif\" font-size=\"14.00\" fill=\"#000000\">(...)</text>\n</g>\n<!-- 19&#45;&gt;33 -->\n<g id=\"edge7\" class=\"edge\">\n<title>19&#45;&gt;33</title>\n<path fill=\"none\" stroke=\"#000000\" d=\"M232.8255,-71.9769C235.5826,-63.3119 238.513,-54.102 241.1579,-45.7894\"/>\n<polygon fill=\"#000000\" stroke=\"#000000\" points=\"244.5148,-46.7825 244.2117,-36.192 237.8443,-44.66 244.5148,-46.7825\"/>\n</g>\n<!-- 35 -->\n<g id=\"node10\" class=\"node\">\n<title>35</title>\n<polygon fill=\"#f7d8c2\" stroke=\"#000000\" points=\"403,-140 299,-140 299,-72 403,-72 403,-140\"/>\n<text text-anchor=\"middle\" x=\"351\" y=\"-124.8\" font-family=\"Times,serif\" font-size=\"14.00\" fill=\"#000000\">B &lt;= 116.025</text>\n<text text-anchor=\"middle\" x=\"351\" y=\"-109.8\" font-family=\"Times,serif\" font-size=\"14.00\" fill=\"#000000\">mse = 10.736</text>\n<text text-anchor=\"middle\" x=\"351\" y=\"-94.8\" font-family=\"Times,serif\" font-size=\"14.00\" fill=\"#000000\">samples = 130</text>\n<text text-anchor=\"middle\" x=\"351\" y=\"-79.8\" font-family=\"Times,serif\" font-size=\"14.00\" fill=\"#000000\">value = 20.282</text>\n</g>\n<!-- 34&#45;&gt;35 -->\n<g id=\"edge9\" class=\"edge\">\n<title>34&#45;&gt;35</title>\n<path fill=\"none\" stroke=\"#000000\" d=\"M352.3451,-175.9465C352.188,-167.776 352.0179,-158.9318 351.8533,-150.3697\"/>\n<polygon fill=\"#000000\" stroke=\"#000000\" points=\"355.3481,-150.0608 351.6563,-140.13 348.3494,-150.1955 355.3481,-150.0608\"/>\n</g>\n<!-- 56 -->\n<g id=\"node13\" class=\"node\">\n<title>56</title>\n<polygon fill=\"#fbeade\" stroke=\"#000000\" points=\"527,-140 421,-140 421,-72 527,-72 527,-140\"/>\n<text text-anchor=\"middle\" x=\"474\" y=\"-124.8\" font-family=\"Times,serif\" font-size=\"14.00\" fill=\"#000000\">NOX &lt;= 0.603</text>\n<text text-anchor=\"middle\" x=\"474\" y=\"-109.8\" font-family=\"Times,serif\" font-size=\"14.00\" fill=\"#000000\">mse = 19.431</text>\n<text text-anchor=\"middle\" x=\"474\" y=\"-94.8\" font-family=\"Times,serif\" font-size=\"14.00\" fill=\"#000000\">samples = 130</text>\n<text text-anchor=\"middle\" x=\"474\" y=\"-79.8\" font-family=\"Times,serif\" font-size=\"14.00\" fill=\"#000000\">value = 14.14</text>\n</g>\n<!-- 34&#45;&gt;56 -->\n<g id=\"edge12\" class=\"edge\">\n<title>34&#45;&gt;56</title>\n<path fill=\"none\" stroke=\"#000000\" d=\"M392.6199,-175.9465C403.484,-166.6088 415.3718,-156.3911 426.6235,-146.7203\"/>\n<polygon fill=\"#000000\" stroke=\"#000000\" points=\"428.9887,-149.3026 434.2911,-140.13 424.4259,-143.994 428.9887,-149.3026\"/>\n</g>\n<!-- 36 -->\n<g id=\"node11\" class=\"node\">\n<title>36</title>\n<polygon fill=\"#c0c0c0\" stroke=\"#000000\" points=\"353,-36 299,-36 299,0 353,0 353,-36\"/>\n<text text-anchor=\"middle\" x=\"326\" y=\"-14.3\" font-family=\"Times,serif\" font-size=\"14.00\" fill=\"#000000\">(...)</text>\n</g>\n<!-- 35&#45;&gt;36 -->\n<g id=\"edge10\" class=\"edge\">\n<title>35&#45;&gt;36</title>\n<path fill=\"none\" stroke=\"#000000\" d=\"M341.3343,-71.9769C338.8998,-63.4071 336.3137,-54.3043 333.9727,-46.0638\"/>\n<polygon fill=\"#000000\" stroke=\"#000000\" points=\"337.2678,-44.8548 331.1682,-36.192 330.5342,-46.7678 337.2678,-44.8548\"/>\n</g>\n<!-- 47 -->\n<g id=\"node12\" class=\"node\">\n<title>47</title>\n<polygon fill=\"#c0c0c0\" stroke=\"#000000\" points=\"425,-36 371,-36 371,0 425,0 425,-36\"/>\n<text text-anchor=\"middle\" x=\"398\" y=\"-14.3\" font-family=\"Times,serif\" font-size=\"14.00\" fill=\"#000000\">(...)</text>\n</g>\n<!-- 35&#45;&gt;47 -->\n<g id=\"edge11\" class=\"edge\">\n<title>35&#45;&gt;47</title>\n<path fill=\"none\" stroke=\"#000000\" d=\"M369.1714,-71.9769C373.901,-63.1215 378.9346,-53.6969 383.4499,-45.2427\"/>\n<polygon fill=\"#000000\" stroke=\"#000000\" points=\"386.66,-46.6616 388.2838,-36.192 380.4854,-43.3638 386.66,-46.6616\"/>\n</g>\n<!-- 57 -->\n<g id=\"node14\" class=\"node\">\n<title>57</title>\n<polygon fill=\"#c0c0c0\" stroke=\"#000000\" points=\"499,-36 445,-36 445,0 499,0 499,-36\"/>\n<text text-anchor=\"middle\" x=\"472\" y=\"-14.3\" font-family=\"Times,serif\" font-size=\"14.00\" fill=\"#000000\">(...)</text>\n</g>\n<!-- 56&#45;&gt;57 -->\n<g id=\"edge13\" class=\"edge\">\n<title>56&#45;&gt;57</title>\n<path fill=\"none\" stroke=\"#000000\" d=\"M473.2267,-71.9769C473.0341,-63.5023 472.8297,-54.5065 472.6441,-46.3388\"/>\n<polygon fill=\"#000000\" stroke=\"#000000\" points=\"476.1399,-46.1098 472.4135,-36.192 469.1417,-46.2689 476.1399,-46.1098\"/>\n</g>\n<!-- 70 -->\n<g id=\"node15\" class=\"node\">\n<title>70</title>\n<polygon fill=\"#c0c0c0\" stroke=\"#000000\" points=\"571,-36 517,-36 517,0 571,0 571,-36\"/>\n<text text-anchor=\"middle\" x=\"544\" y=\"-14.3\" font-family=\"Times,serif\" font-size=\"14.00\" fill=\"#000000\">(...)</text>\n</g>\n<!-- 56&#45;&gt;70 -->\n<g id=\"edge14\" class=\"edge\">\n<title>56&#45;&gt;70</title>\n<path fill=\"none\" stroke=\"#000000\" d=\"M501.0638,-71.9769C508.4109,-62.7406 516.2505,-52.8851 523.1931,-44.1573\"/>\n<polygon fill=\"#000000\" stroke=\"#000000\" points=\"526.043,-46.1968 529.5291,-36.192 520.5647,-41.8391 526.043,-46.1968\"/>\n</g>\n</g>\n</svg>\n"
          },
          "metadata": {
            "tags": []
          },
          "execution_count": 20
        }
      ]
    },
    {
      "cell_type": "code",
      "metadata": {
        "id": "pYKCax9oGwRy",
        "outputId": "eb45efc0-8b1d-4c1c-b51d-ab96832e63a8",
        "colab": {
          "base_uri": "https://localhost:8080/",
          "height": 34
        }
      },
      "source": [
        "#from sklearn.metrics import accuracy_score\n",
        "from sklearn.metrics import r2_score\n",
        "pre = reg.predict(x_test)\n",
        "r2_score(y_test,pre)"
      ],
      "execution_count": 19,
      "outputs": [
        {
          "output_type": "execute_result",
          "data": {
            "text/plain": [
              "0.8356849661277785"
            ]
          },
          "metadata": {
            "tags": []
          },
          "execution_count": 19
        }
      ]
    }
  ]
}